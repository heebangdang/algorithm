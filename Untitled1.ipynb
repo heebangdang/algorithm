{
 "cells": [
  {
   "cell_type": "code",
   "execution_count": 3,
   "metadata": {},
   "outputs": [
    {
     "name": "stdout",
     "output_type": "stream",
     "text": [
      "Python is SIMPLE\n"
     ]
    }
   ],
   "source": [
    "word3=\"{name} is {feel}\"\n",
    "print( word3.format( name=\"Python\", feel=\"SIMPLE\"))"
   ]
  },
  {
   "cell_type": "code",
   "execution_count": 4,
   "metadata": {},
   "outputs": [
    {
     "name": "stdout",
     "output_type": "stream",
     "text": [
      "문자열에 바로 대입\n",
      "이렇게 ABC\n",
      "변수를 활용\n",
      "이걸 이렇게\n",
      "여러개를 대입할 때\n",
      "이걸 이걸 이렇게\n"
     ]
    }
   ],
   "source": [
    "print(\"문자열에 바로 대입\")\n",
    "print( \"이렇게 %s\" %\"ABC\")\n",
    "\n",
    "print(\"변수를 활용\")\n",
    "word1=\"%s 이렇게\"\n",
    "word2=\"이걸\"\n",
    "print( word1 %word2)\n",
    "\n",
    "print( \"여러개를 대입할 때\")\n",
    "print( \"%s %s 이렇게\" %(word2, word2))"
   ]
  },
  {
   "cell_type": "code",
   "execution_count": 6,
   "metadata": {},
   "outputs": [
    {
     "name": "stdout",
     "output_type": "stream",
     "text": [
      "Python is SIMPLE!\n",
      "Python is SIMPLE!\n",
      "Python is SIMPLE!\n",
      "Python is SIMPLE!\n",
      "Python is SIMPLE!\n"
     ]
    }
   ],
   "source": [
    "word1=\"{} is {}\"\n",
    "print(word1.format(\"Python\", \"SIMPLE!\"))\n",
    "\n",
    "word2=\"{1} is {0}\"\n",
    "print( word2.format( \"SIMPLE!\", \"Python\"))\n",
    "\n",
    "word_1, word_2=\"Python\",\"SIMPLE!\"\n",
    "print( word1.format( word_1, word_2))\n",
    "print( word2.format( word_2, word_1))\n",
    "print( word3.format( name=word_1, feel=word_2))"
   ]
  },
  {
   "cell_type": "code",
   "execution_count": 7,
   "metadata": {},
   "outputs": [
    {
     "name": "stdout",
     "output_type": "stream",
     "text": [
      "장소 : 센텀드림월드 11층\n",
      "시작시간: 09시\n",
      "종료시간 : 12시\n",
      "강사 : 홍길동\n",
      "나이 : 25\n",
      "연락처 : myb619.gmail.com\n",
      "키 : 175.6\n"
     ]
    }
   ],
   "source": [
    "address=\"센텀드림월드 11층\"\n",
    "start=\"09시\"\n",
    "end=\"12시\"\n",
    "name=\"홍길동\"\n",
    "age=25\n",
    "mail=\"myb619\"\n",
    "height=175.5584525478\n",
    "\n",
    "print(\"장소 : {}\".format(address))\n",
    "print(\"시작시간: {}\".format(start))\n",
    "print(\"종료시간 : {}\".format(end))\n",
    "print(\"강사 : {}\".format(name))\n",
    "print(\"나이 : {}\".format(age))\n",
    "print(\"연락처 : {}.gmail.com\".format(mail))\n",
    "print(\"키 : %.1f\"%height)"
   ]
  },
  {
   "cell_type": "code",
   "execution_count": 13,
   "metadata": {},
   "outputs": [
    {
     "name": "stdin",
     "output_type": "stream",
     "text": [
      "국어 점수를 입력하시오 50\n",
      "수학 점수를 입력하시오 60\n",
      "영어 점수를 입력하시오 20\n"
     ]
    },
    {
     "name": "stdout",
     "output_type": "stream",
     "text": [
      "합은 : 130\n",
      "평균은 : 43.3\n"
     ]
    }
   ],
   "source": [
    "korean = int(input(\"국어 점수를 입력하시오\"))\n",
    "math = int(input(\"수학 점수를 입력하시오\"))\n",
    "eng = int(input(\"영어 점수를 입력하시오\"))\n",
    "\n",
    "sum = korean + math + eng\n",
    "ave = (korean + math + eng) / 3\n",
    "\n",
    "print(\"합은 : %d\"%sum)\n",
    "print(\"평균은 : %.1f\"%ave)"
   ]
  },
  {
   "cell_type": "code",
   "execution_count": 4,
   "metadata": {},
   "outputs": [
    {
     "name": "stdin",
     "output_type": "stream",
     "text": [
      "투입금액 입력 :  1000\n",
      "원하는 음료 입력 :  콜라\n",
      "좋아하는 색 :  파랑\n"
     ]
    },
    {
     "name": "stdout",
     "output_type": "stream",
     "text": [
      "\n",
      "파랑 자판기에 1000원을 넣었더니...\n",
      "콜라가 나왔습니다.\n",
      "그리고 파랑 자판기는 다시 1000원을 되돌려줬어요.\n",
      "\n"
     ]
    }
   ],
   "source": [
    "money = int(input(\"투입금액 입력 : \"))\n",
    "drink = input(\"원하는 음료 입력 : \")\n",
    "color = input(\"좋아하는 색 : \")\n",
    "\n",
    "print(\"\"\"\n",
    "{} 자판기에 {}원을 넣었더니...\n",
    "{}가 나왔습니다.\n",
    "그리고 {} 자판기는 다시 {}원을 되돌려줬어요.\n",
    "\"\"\".format(color, money,drink,color,money))"
   ]
  },
  {
   "cell_type": "markdown",
   "metadata": {},
   "source": [
    "문자열은 해당 인덱스의 값을 바꿀 수 X\n",
    "리스트는 해당 인덱스의 값을 바꿀 수 O"
   ]
  },
  {
   "cell_type": "code",
   "execution_count": 5,
   "metadata": {},
   "outputs": [
    {
     "name": "stdout",
     "output_type": "stream",
     "text": [
      "[1, 2, 3]\n",
      "2\n",
      "2\n",
      "[1, 'WOW', 3]\n"
     ]
    }
   ],
   "source": [
    "new_list=[1, 2, 3]\n",
    "print( new_list)\n",
    "print( new_list[1])\n",
    "print( new_list[-2])\n",
    "new_list[1]=\"WOW\"\n",
    "print(new_list)"
   ]
  },
  {
   "cell_type": "code",
   "execution_count": 10,
   "metadata": {},
   "outputs": [
    {
     "name": "stdout",
     "output_type": "stream",
     "text": [
      "['Python', 'WHAT', 123.444, 32767, 'EASY', 'Python', 7]\n"
     ]
    }
   ],
   "source": [
    "old_list=[1,2,3,4,5,6,7]\n",
    "old_list[0]=\"Python\"\n",
    "old_list[1]=\"WHAT\"\n",
    "old_list[2]=123.444\n",
    "old_list[3]=32767\n",
    "old_list[4]=\"EASY\"\n",
    "old_list[5]=old_list[-7]\n",
    "old_list[6]=old_list[6]\n",
    "print(old_list)"
   ]
  },
  {
   "cell_type": "code",
   "execution_count": 12,
   "metadata": {},
   "outputs": [
    {
     "name": "stdout",
     "output_type": "stream",
     "text": [
      "[1, 2, 3, 4]\n",
      "['A', 'B']\n",
      "[1.11, 2.22, 3.33, 4.44]\n"
     ]
    }
   ],
   "source": [
    "lst=[\n",
    "    1,2,3,4,\n",
    "    \"A\",\"B\",\n",
    "    1.11,2.22,3.33,4.44\n",
    "]\n",
    "print(lst[0:4])\n",
    "print(lst[4:6])\n",
    "print(lst[6:])"
   ]
  },
  {
   "cell_type": "code",
   "execution_count": 17,
   "metadata": {},
   "outputs": [
    {
     "name": "stdout",
     "output_type": "stream",
     "text": [
      "[10, 20, 40, 50]\n"
     ]
    }
   ],
   "source": [
    "lst_1=[10,22,33,44,50]\n",
    "lst_1[1]=20\n",
    "lst_1[2]=30\n",
    "lst_1[3]=40\n",
    "lst_1.remove(30)\n",
    "print(lst_1)"
   ]
  },
  {
   "cell_type": "code",
   "execution_count": 19,
   "metadata": {},
   "outputs": [
    {
     "name": "stdout",
     "output_type": "stream",
     "text": [
      "[1, 11, 12, 22, 31, 53, 88, 99]\n"
     ]
    }
   ],
   "source": [
    "lst_2=[31,11,22,99,74,53,12,88,1]\n",
    "lst_2.sort()\n",
    "a=lst_2.index(74)\n",
    "lst_2.pop(a)\n",
    "print(lst_2)"
   ]
  },
  {
   "cell_type": "code",
   "execution_count": 21,
   "metadata": {},
   "outputs": [
    {
     "name": "stdout",
     "output_type": "stream",
     "text": [
      "[1, 2, 3, 5, 10, 20]\n"
     ]
    }
   ],
   "source": [
    "lst_3=[1,10,11,14,3,2,5]\n",
    "lst_3.reverse()\n",
    "lst_3.sort()\n",
    "lst_3.pop()\n",
    "lst_3.pop()\n",
    "lst_3.append(20)\n",
    "print(lst_3)"
   ]
  },
  {
   "cell_type": "code",
   "execution_count": 24,
   "metadata": {},
   "outputs": [
    {
     "name": "stdout",
     "output_type": "stream",
     "text": [
      "580.0\n",
      "255.0\n",
      "5.800000000000001\n"
     ]
    }
   ],
   "source": [
    "D = [170, 70, 1.7]\n",
    "S = [180, 80, 1.8]\n",
    "N = [190, 90, 1.9]\n",
    "B = [160, 60, 1.6]\n",
    "\n",
    "hei = D[0] + S[0] + N[0] + B[0] / 4\n",
    "wei = D[1] + S[1] + N[1] + B[1] / 4\n",
    "eye = D[2] + S[2] + N[2] + B[2] / 4\n",
    "\n",
    "print(hei)\n",
    "print(wei)\n",
    "print(eye)"
   ]
  },
  {
   "cell_type": "code",
   "execution_count": 25,
   "metadata": {},
   "outputs": [
    {
     "name": "stdout",
     "output_type": "stream",
     "text": [
      "해리포터\n",
      "['어벤져스', '앤트맨']\n",
      "['해리포터', '반지의 제왕']\n",
      "['어벤져스', '앤트맨', '해리포터', '반지의 제왕']\n"
     ]
    }
   ],
   "source": [
    "movie = [\"어벤져스\",\"앤트맨\",\"스위스 아미맨\",\"해리포터\",\"반지의 제왕\",\"여인의 향기\"]\n",
    "\n",
    "print(movie[3])\n",
    "print(movie[0:2])\n",
    "print(movie[3:5])\n",
    "movie_1 = movie[0:2] +  movie[3:5]\n",
    "print(movie_1)"
   ]
  },
  {
   "cell_type": "code",
   "execution_count": 26,
   "metadata": {},
   "outputs": [
    {
     "name": "stdout",
     "output_type": "stream",
     "text": [
      "{'이름': '홍길동', '나이': 25, '연락처': '010-1234-5678', '과목': 'python'}\n"
     ]
    }
   ],
   "source": [
    "HONG = {\"이름\":\"홍길동\",\"나이\":25,\"연락처\":\"010-1234-5678\",\"과목\":\"python\"}\n",
    "print(HONG)"
   ]
  },
  {
   "cell_type": "code",
   "execution_count": 31,
   "metadata": {},
   "outputs": [
    {
     "name": "stdout",
     "output_type": "stream",
     "text": [
      "-----가수 아무개 정보-----\n",
      "이름\t:\t아무개\n",
      "나이\t:\t23세\n",
      "생일\t:\t1888년 8월 8일\n",
      "출생지\t:\t조선의 어느 시골\n",
      "대표곡\t:\t노동요, 아리랑\n"
     ]
    }
   ],
   "source": [
    "dic_1 = {\"이름\":\"아무개\",\"나이\":\"23세\",\"생일\":\"1888년 8월 8일\",\"출생지\":\"조선의 어느 시골\",\"대표곡\":\"노동요, 아리랑\"}\n",
    "print(\"-----가수 아무개 정보-----\")\n",
    "print(\"이름\\t:\\t%s\"%dic_1['이름'])\n",
    "print(\"나이\\t:\\t%s\"%dic_1['나이'])\n",
    "print(\"생일\\t:\\t%s\"%dic_1['생일'])\n",
    "print(\"출생지\\t:\\t%s\"%dic_1['출생지'])\n",
    "print(\"대표곡\\t:\\t%s\"%dic_1['대표곡'])\n"
   ]
  },
  {
   "cell_type": "code",
   "execution_count": 35,
   "metadata": {},
   "outputs": [
    {
     "name": "stdout",
     "output_type": "stream",
     "text": [
      "<class 'dict_keys'>\n",
      "<class 'dict_values'>\n",
      "<class 'list'>\n",
      "<class 'tuple'>\n"
     ]
    }
   ],
   "source": [
    "dic = {\n",
    "    'key1':'value1',\n",
    "    'key2':'value2',\n",
    "}\n",
    "lst1=dic.keys()\n",
    "lst2=dic.values()\n",
    "print( type (lst1))\n",
    "print( type(lst2) )\n",
    "lst1, lst2 = list(lst1),tuple(lst2)\n",
    "print( type( lst1 ))\n",
    "print( type( lst2 ))"
   ]
  },
  {
   "cell_type": "code",
   "execution_count": 39,
   "metadata": {},
   "outputs": [
    {
     "name": "stdout",
     "output_type": "stream",
     "text": [
      "{'다이제': 1000, '메로나': 500, '코카콜라': 700, '츄파츕스': 500}\n",
      "{'다이제': 1500, '코카콜라': 1500, '츄파츕스': 500, '초코송이': 1000}\n"
     ]
    }
   ],
   "source": [
    "mart = {\n",
    "       \"다이제\":1000, \"메로나\":500,\n",
    "       \"코카콜라\":700, \"츄파츕스\":500,\n",
    "}\n",
    "mart_o=mart.copy()\n",
    "menu=list(mart.keys())\n",
    "price=tuple(mart.values())\n",
    "\n",
    "mart[\"초코송이\"]=1000\n",
    "del mart[\"메로나\"]\n",
    "mart.update(코카콜라=1500,다이제=1500)\n",
    "print(mart_o)\n",
    "print(mart)"
   ]
  },
  {
   "cell_type": "code",
   "execution_count": 40,
   "metadata": {},
   "outputs": [
    {
     "name": "stdout",
     "output_type": "stream",
     "text": [
      "{3, 4}\n",
      "{1, 2, 3, 4, 5, 6}\n",
      "{1, 2, 3, 4, 5, 6}\n",
      "{1, 2}\n",
      "{1, 2}\n"
     ]
    }
   ],
   "source": [
    "s1=set([1,2,3,4])\n",
    "s2=set([3,4,5,6])\n",
    "print(s1 & s2)\n",
    "print(s1 | s2)\n",
    "print(s1.union( s2 ))\n",
    "print(s1-s2)\n",
    "print(s1.difference( s2 ))"
   ]
  },
  {
   "cell_type": "code",
   "execution_count": 43,
   "metadata": {},
   "outputs": [
    {
     "name": "stdout",
     "output_type": "stream",
     "text": [
      "{1, 2, 3, 4, 5}\n",
      "{1, 2, 3, 4, 5, 6, 7, 8}\n",
      "{1, 2, 3, 5, 6, 7, 8}\n"
     ]
    }
   ],
   "source": [
    "s1=set([1,2,3,4])\n",
    "s1.add(5)\n",
    "print(s1)\n",
    "s1.update([6,7,8])\n",
    "print(s1)\n",
    "s1.remove(4)\n",
    "print(s1)"
   ]
  },
  {
   "cell_type": "code",
   "execution_count": 45,
   "metadata": {},
   "outputs": [
    {
     "name": "stdout",
     "output_type": "stream",
     "text": [
      "2\n",
      "(2, 3)\n",
      "1\n",
      "4\n",
      "(1, 2, 3, 4, 5, 6, 7, 8)\n",
      "(6, 7, 8, 6, 7, 8, 6, 7, 8)\n"
     ]
    }
   ],
   "source": [
    "tup_1=(1,2,3,4,5)\n",
    "tup_2=(6,7,8)\n",
    "print(tup_1[1])\n",
    "\n",
    "print( tup_1[1:3])\n",
    "print(tup_1.count(3))\n",
    "print(tup_1.index(5))\n",
    "tup_3=tup_1+tup_2\n",
    "print(tup_3)\n",
    "print(tup_2*3)"
   ]
  },
  {
   "cell_type": "code",
   "execution_count": null,
   "metadata": {},
   "outputs": [],
   "source": [
    "num = int(input(\"정수 하나 입력 : \"))\n",
    "\n",
    "if (num%2)==0:\n",
    "    print(\"짝수\",\"2의 배수\")\n"
   ]
  }
 ],
 "metadata": {
  "kernelspec": {
   "display_name": "Python 3",
   "language": "python",
   "name": "python3"
  },
  "language_info": {
   "codemirror_mode": {
    "name": "ipython",
    "version": 3
   },
   "file_extension": ".py",
   "mimetype": "text/x-python",
   "name": "python",
   "nbconvert_exporter": "python",
   "pygments_lexer": "ipython3",
   "version": "3.7.6"
  }
 },
 "nbformat": 4,
 "nbformat_minor": 4
}
