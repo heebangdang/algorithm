{
 "cells": [
  {
   "cell_type": "code",
   "execution_count": 1,
   "metadata": {},
   "outputs": [],
   "source": [
    "from time import time\n",
    "def run_time(fn, S):\n",
    "    start_time = time()\n",
    "    fn(S)\n",
    "    end_time = time()\n",
    "    elapsed = end_time - start_time\n",
    "    return elapsed\n"
   ]
  },
  {
   "cell_type": "code",
   "execution_count": 2,
   "metadata": {},
   "outputs": [],
   "source": [
    "def merge(S1, S2, S):\n",
    "  \"\"\"Merge two sorted Python lists S1 and S2 into properly sized list S.\"\"\"\n",
    "  i = j = 0\n",
    "  while i + j < len(S):\n",
    "    if j == len(S2) or (i < len(S1) and S1[i] < S2[j]):\n",
    "      S[i+j] = S1[i]      # copy ith element of S1 as next item of S\n",
    "      i += 1\n",
    "    else:\n",
    "      S[i+j] = S2[j]      # copy jth element of S2 as next item of S\n",
    "      j += 1\n",
    "\n",
    "def merge_sort(S):\n",
    "  \"\"\"Sort the elements of Python list S using the merge-sort algorithm.\"\"\"\n",
    "  n = len(S)\n",
    "  if n < 2:\n",
    "    return                # list is already sorted\n",
    "  # divide\n",
    "  mid = n // 2\n",
    "  S1 = S[0:mid]           # copy of first half\n",
    "  S2 = S[mid:n]           # copy of second half\n",
    "  # conquer (with recursion)\n",
    "  merge_sort(S1)          # sort copy of first half\n",
    "  merge_sort(S2)          # sort copy of second half\n",
    "  # merge results\n",
    "  merge(S1, S2, S)        # merge sorted halves back into S\n"
   ]
  },
  {
   "cell_type": "code",
   "execution_count": 3,
   "metadata": {},
   "outputs": [],
   "source": [
    "testTime = []"
   ]
  },
  {
   "cell_type": "code",
   "execution_count": 4,
   "metadata": {},
   "outputs": [],
   "source": [
    "S = [5, 6, 3, 7, 2, 10, 7, 9, 12, 1, 13]"
   ]
  },
  {
   "cell_type": "code",
   "execution_count": 5,
   "metadata": {},
   "outputs": [],
   "source": [
    "a1 = run_time(merge_sort, S)"
   ]
  },
  {
   "cell_type": "code",
   "execution_count": 6,
   "metadata": {},
   "outputs": [],
   "source": [
    "testTime.append(a1)"
   ]
  },
  {
   "cell_type": "code",
   "execution_count": 7,
   "metadata": {},
   "outputs": [
    {
     "name": "stdout",
     "output_type": "stream",
     "text": [
      "6.818181818181818\n",
      "3.7614837937413093\n"
     ]
    }
   ],
   "source": [
    "#calculate mean and stdev\n",
    "import numpy as np\n",
    "print(np.mean(S))\n",
    "print(np.std(S))"
   ]
  },
  {
   "cell_type": "code",
   "execution_count": 8,
   "metadata": {},
   "outputs": [
    {
     "data": {
      "text/plain": [
       "0.0"
      ]
     },
     "execution_count": 8,
     "metadata": {},
     "output_type": "execute_result"
    }
   ],
   "source": [
    "a1"
   ]
  },
  {
   "cell_type": "code",
   "execution_count": 9,
   "metadata": {},
   "outputs": [],
   "source": [
    "S10=[]"
   ]
  },
  {
   "cell_type": "markdown",
   "metadata": {},
   "source": [
    "## Random generator"
   ]
  },
  {
   "cell_type": "code",
   "execution_count": 10,
   "metadata": {},
   "outputs": [
    {
     "name": "stdout",
     "output_type": "stream",
     "text": [
      "11\n",
      "12\n",
      "7\n",
      "3\n",
      "2\n",
      "6\n",
      "2\n",
      "1\n",
      "7\n",
      "7\n"
     ]
    }
   ],
   "source": [
    "# generate random Gaussian values\n",
    "from random import seed\n",
    "from random import gauss\n",
    "# seed random number generator\n",
    "seed(1)\n",
    "# generate some Gaussian values\n",
    "for _ in range(10):\n",
    "    value = gauss(6.8, 3.76) #mean, stdev\n",
    "    print(int(value))\n",
    "    S10.append(int(value))"
   ]
  },
  {
   "cell_type": "code",
   "execution_count": 11,
   "metadata": {},
   "outputs": [],
   "source": [
    "#100 data\n",
    "S100 = []\n",
    "for _ in range(100):\n",
    "    value = gauss(6.8, 3.76) #mean, stdev\n",
    "    #print(int(value))\n",
    "    S100.append(int(value))"
   ]
  },
  {
   "cell_type": "code",
   "execution_count": 12,
   "metadata": {},
   "outputs": [],
   "source": [
    "#1000 data\n",
    "S1000 = []\n",
    "for _ in range(1000):\n",
    "    value = gauss(6.8, 3.76) #mean, stdev\n",
    "    #print(int(value))\n",
    "    S1000.append(int(value))"
   ]
  },
  {
   "cell_type": "code",
   "execution_count": 13,
   "metadata": {},
   "outputs": [],
   "source": [
    "#10000 data\n",
    "S10000 = []\n",
    "for _ in range(10000):\n",
    "    value = gauss(6.8, 3.76) #mean, stdev\n",
    "    #print(int(value))\n",
    "    S10000.append(int(value))"
   ]
  },
  {
   "cell_type": "code",
   "execution_count": 14,
   "metadata": {},
   "outputs": [],
   "source": [
    "a100 = run_time(merge_sort,S100)\n",
    "testTime.append(a100)"
   ]
  },
  {
   "cell_type": "code",
   "execution_count": 15,
   "metadata": {},
   "outputs": [],
   "source": [
    "a1000 = run_time(merge_sort, S1000)\n",
    "testTime.append(a1000)\n",
    "a10000 = run_time(merge_sort, S10000)\n",
    "testTime.append(a10000)"
   ]
  },
  {
   "cell_type": "code",
   "execution_count": 16,
   "metadata": {},
   "outputs": [],
   "source": [
    "x = [10, 100, 1000, 10000]"
   ]
  },
  {
   "cell_type": "code",
   "execution_count": 17,
   "metadata": {},
   "outputs": [
    {
     "data": {
      "text/plain": [
       "[0.0, 0.002991199493408203, 0.029435396194458008, 0.3731229305267334]"
      ]
     },
     "execution_count": 17,
     "metadata": {},
     "output_type": "execute_result"
    }
   ],
   "source": [
    "testTime"
   ]
  },
  {
   "cell_type": "code",
   "execution_count": 18,
   "metadata": {},
   "outputs": [
    {
     "data": {
      "image/png": "[encoded data removed]",
      "text/plain": [
       "<Figure size 432x288 with 1 Axes>"
      ]
     },
     "metadata": {
      "needs_background": "light"
     },
     "output_type": "display_data"
    }
   ],
   "source": [
    "%matplotlib inline\n",
    "import matplotlib.pyplot as plt\n",
    "import pylab\n",
    "\n",
    "pylab.xlabel('# data')\n",
    "pylab.ylabel('Time')\n",
    "\n",
    "plt.title(\"Merge Sort\")\n",
    "plt.plot(x, testTime, \"ro-\")\n",
    "plt.show()"
   ]
  },
  {
   "cell_type": "code",
   "execution_count": 19,
   "metadata": {},
   "outputs": [],
   "source": [
    "def quicksort(array):\n",
    "    qsort(array, 0, len(array)-1)\n",
    "\n",
    "def qsort(A, lo, hi):\n",
    "    if lo < hi:\n",
    "        p = partition(A, lo, hi)\n",
    "        qsort(A, lo, p)\n",
    "        qsort(A, p + 1, hi)\n",
    "\n",
    "def partition(A, lo, hi):\n",
    "    pivot = A[lo]\n",
    "    i, j = lo-1, hi+1\n",
    "    while True:\n",
    "      i += 1\n",
    "      j -= 1\n",
    "      while(A[i] < pivot): i+= 1\n",
    "      while(A[j] > pivot ): j-= 1\n",
    "\n",
    "      if i >= j: \n",
    "          return j\n",
    "\n",
    "      A[i], A[j] = A[j], A[i]"
   ]
  },
  {
   "cell_type": "code",
   "execution_count": 20,
   "metadata": {},
   "outputs": [],
   "source": [
    "testTimeQsort = []\n",
    "q10 = run_time(quicksort, S)\n",
    "testTimeQsort.append(q10)"
   ]
  },
  {
   "cell_type": "code",
   "execution_count": 21,
   "metadata": {},
   "outputs": [],
   "source": [
    "q100 = run_time(quicksort, S100)\n",
    "testTimeQsort.append(q100)\n",
    "q1000 = run_time(quicksort, S1000)\n",
    "testTimeQsort.append(q100)\n",
    "q10000 = run_time(quicksort, S10000)\n",
    "testTimeQsort.append(q10000)"
   ]
  },
  {
   "cell_type": "code",
   "execution_count": 22,
   "metadata": {},
   "outputs": [
    {
     "data": {
      "image/png": "[encoded data removed]",
      "text/plain": [
       "<Figure size 432x288 with 1 Axes>"
      ]
     },
     "metadata": {
      "needs_background": "light"
     },
     "output_type": "display_data"
    }
   ],
   "source": [
    "pylab.xlabel('# data')\n",
    "pylab.ylabel('Time')\n",
    "\n",
    "plt.title(\"Merge Sort vs Q sort\")\n",
    "plt.plot(x, testTime, \"ro-\", c=\"red\")\n",
    "plt.plot(x, testTimeQsort, \"ro-\",c=\"blue\")\n",
    "plt.legend([\"Merge Sort\", \"Quick Sort\"], loc='upper left')\n",
    "plt.show()"
   ]
  },
  {
   "cell_type": "code",
   "execution_count": 23,
   "metadata": {},
   "outputs": [],
   "source": [
    "#Bubble Sort\n",
    "def bubble_sort(arr):\n",
    "    for i in range(len(arr)):\n",
    "        for j in range(i, len(arr)):\n",
    "            if(arr[i] > arr[j]):\n",
    "                arr[i], arr[j] = arr[j], arr[i]"
   ]
  },
  {
   "cell_type": "code",
   "execution_count": 24,
   "metadata": {},
   "outputs": [],
   "source": [
    "testTimeBsort = []\n",
    "b10 = run_time(bubble_sort, S)\n",
    "testTimeBsort.append(b10)"
   ]
  },
  {
   "cell_type": "code",
   "execution_count": 25,
   "metadata": {},
   "outputs": [],
   "source": [
    "b100 = run_time(bubble_sort, S100)\n",
    "testTimeBsort.append(b100)\n",
    "b1000 = run_time(bubble_sort, S1000)\n",
    "testTimeBsort.append(b100)\n",
    "b10000 = run_time(bubble_sort, S10000)\n",
    "testTimeBsort.append(b10000)"
   ]
  },
  {
   "cell_type": "code",
   "execution_count": 26,
   "metadata": {},
   "outputs": [
    {
     "data": {
      "image/png": "[encoded data removed]",
      "text/plain": [
       "<Figure size 432x288 with 1 Axes>"
      ]
     },
     "metadata": {
      "needs_background": "light"
     },
     "output_type": "display_data"
    }
   ],
   "source": [
    "pylab.xlabel('# data')\n",
    "pylab.ylabel('Time (sec)')\n",
    "\n",
    "plt.title(\"Merge Sort vs Q sort vs Bubble Sort\")\n",
    "plt.plot(x, testTime, \"ro-\", c=\"red\")\n",
    "plt.plot(x, testTimeQsort, \"ro-\", c=\"blue\")\n",
    "plt.plot(x, testTimeBsort, \"ro-\", c=\"green\")\n",
    "plt.legend([\"Merge Sort\", \"Quick Sort\", \"Bubble Sort\"], loc='upper left')\n",
    "plt.show()"
   ]
  },
  {
   "cell_type": "code",
   "execution_count": 27,
   "metadata": {},
   "outputs": [],
   "source": [
    "#Conclusion"
   ]
  },
  {
   "cell_type": "code",
   "execution_count": null,
   "metadata": {},
   "outputs": [],
   "source": []
  }
 ],
 "metadata": {
  "kernelspec": {
   "display_name": "Python 3",
   "language": "python",
   "name": "python3"
  },
  "language_info": {
   "codemirror_mode": {
    "name": "ipython",
    "version": 3
   },
   "file_extension": ".py",
   "mimetype": "text/x-python",
   "name": "python",
   "nbconvert_exporter": "python",
   "pygments_lexer": "ipython3",
   "version": "3.7.6"
  }
 },
 "nbformat": 4,
 "nbformat_minor": 4
}
