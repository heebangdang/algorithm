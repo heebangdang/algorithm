{
 "cells": [
  {
   "cell_type": "code",
   "execution_count": 5,
   "metadata": {},
   "outputs": [
    {
     "name": "stdout",
     "output_type": "stream",
     "text": [
      "('You buy the different product and you need to pay ', 3500)\n",
      "('You buy the same product and the price is', 3500)\n"
     ]
    }
   ],
   "source": [
    "product = {'prod1' : 2500, 'prod2' : 3500, 'prod3' : 3000, 'prod4' : 4000}\n",
    "\n",
    "def onePlusOne(prod1, prod2):\n",
    "    if(product[prod1] < product[prod2]):\n",
    "        return 'You buy the different product and you need to pay ', product[prod2]\n",
    "    else:\n",
    "        return 'You buy the same product and the price is' , product[prod1]\n",
    "\n",
    "print(onePlusOne('prod1', 'prod2'))\n",
    "print(onePlusOne('prod2', 'prod2'))\n",
    "\n",
    "#Big Oh O(1)"
   ]
  },
  {
   "cell_type": "code",
   "execution_count": 1,
   "metadata": {},
   "outputs": [],
   "source": [
    "def Tribonacci(n):\n",
    "    val1 = 1\n",
    "    val2 = 1\n",
    "    val3 = 1\n",
    "    for i in range(n):\n",
    "        if(i<3):\n",
    "            print(1)\n",
    "        else:\n",
    "            temp=val1\n",
    "            val1=val1+val2+val3\n",
    "            val3=val2\n",
    "            val2=temp\n",
    "            print(val1)\n",
    "\n",
    "#Big Oh O(n)"
   ]
  },
  {
   "cell_type": "code",
   "execution_count": 2,
   "metadata": {},
   "outputs": [
    {
     "name": "stdout",
     "output_type": "stream",
     "text": [
      "1\n",
      "1\n",
      "1\n",
      "3\n",
      "5\n",
      "9\n",
      "17\n",
      "31\n"
     ]
    }
   ],
   "source": [
    "Tribonacci(8)"
   ]
  },
  {
   "cell_type": "code",
   "execution_count": 3,
   "metadata": {},
   "outputs": [],
   "source": [
    "def ArrayProblem3(array, number):\n",
    "    for i in range(len(array)):\n",
    "        temp=array[i]\n",
    "        for j in range(i+1,len(array)):\n",
    "            if(temp+array[j]==number):\n",
    "                print(\"True as \",temp,\"+\",array[j],\"=\",number)\n",
    "    print(\"Cannot find\")      \n",
    "\n",
    "#Big Oh (n^2) "
   ]
  },
  {
   "cell_type": "code",
   "execution_count": 4,
   "metadata": {},
   "outputs": [
    {
     "name": "stdout",
     "output_type": "stream",
     "text": [
      "True as  20 + 4 = 24\n",
      "Cannot find\n"
     ]
    }
   ],
   "source": [
    "testList1 = [20, 303, 3, 4, 25]\n",
    "ArrayProblem3(testList1,24)"
   ]
  },
  {
   "cell_type": "code",
   "execution_count": null,
   "metadata": {},
   "outputs": [],
   "source": []
  }
 ],
 "metadata": {
  "kernelspec": {
   "display_name": "Python 3",
   "language": "python",
   "name": "python3"
  },
  "language_info": {
   "codemirror_mode": {
    "name": "ipython",
    "version": 3
   },
   "file_extension": ".py",
   "mimetype": "text/x-python",
   "name": "python",
   "nbconvert_exporter": "python",
   "pygments_lexer": "ipython3",
   "version": "3.7.4"
  }
 },
 "nbformat": 4,
 "nbformat_minor": 4
}
