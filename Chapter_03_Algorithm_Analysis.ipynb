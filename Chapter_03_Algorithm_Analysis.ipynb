{
 "cells": [
  {
   "cell_type": "code",
   "execution_count": 6,
   "metadata": {},
   "outputs": [
    {
     "data": {
      "text/plain": [
       "46"
      ]
     },
     "execution_count": 6,
     "metadata": {},
     "output_type": "execute_result"
    }
   ],
   "source": [
    "def factor(n):\n",
    "    tot = 1\n",
    "    for i in range(1,n): #n-1의 수까지만 포함됨\n",
    "        tot = tot+i\n",
    "    return tot\n",
    "\n",
    "factor(10) # 1+1+2+3+4+5+6+7+8+9"
   ]
  },
  {
   "cell_type": "code",
   "execution_count": 14,
   "metadata": {},
   "outputs": [
    {
     "name": "stdout",
     "output_type": "stream",
     "text": [
      "1.0232644081115723\n"
     ]
    }
   ],
   "source": [
    "from time import time #ㄹ=from 모듈이름 import 함수이름\n",
    "start_time = time()\n",
    "factor(10000000) #여기에 알고리즘이 있음\n",
    "end_time = time()\n",
    "elapsed = end_time - start_time\n",
    "print(elapsed)"
   ]
  },
  {
   "cell_type": "code",
   "execution_count": 5,
   "metadata": {},
   "outputs": [
    {
     "name": "stdout",
     "output_type": "stream",
     "text": [
      "Analyzing Algorithms...\n"
     ]
    },
    {
     "data": {
      "image/png": "[encoded data removed]",
      "text/plain": [
       "<Figure size 432x288 with 1 Axes>"
      ]
     },
     "metadata": {
      "needs_background": "light"
     },
     "output_type": "display_data"
    }
   ],
   "source": [
    "\"\"\"\n",
    "alganal.py\n",
    "\n",
    "Description:\n",
    "\n",
    "A utility program to plot algorithmic time complexity of a function.\n",
    "\n",
    "Author: Mahesh Venkitachalam\n",
    "    modified by Hongfei Yan\n",
    "\n",
    "Website: electronut.in\n",
    "http://electronut.in/plotting-algorithmic-time-complexity-of-a-function-using-python/\n",
    "\"\"\"\n",
    " \n",
    "import matplotlib.pyplot as plt\n",
    "import numpy as np\n",
    "import timeit\n",
    "import math\n",
    "from functools import partial\n",
    "import random\n",
    "%matplotlib inline  \n",
    "\n",
    "def Constant(N):\n",
    "    \"\"\"\n",
    "    O(1) function\n",
    "    \"\"\"\n",
    "    x = 1\n",
    "\n",
    "def Logarithmic(N):\n",
    "    x = [i for i in range( int(math.log2(N)) )]\n",
    " \n",
    "def Linear(N):\n",
    "    \"\"\"\n",
    "    O(n) function\n",
    "    \"\"\"\n",
    "    x = [i for i in range(N)]\n",
    "\n",
    "def N_Log_N(N):\n",
    "\tx = [i for i in range(N* int(math.log2(N)))]\n",
    "    #for i in range(N)\n",
    "    #    for i in range( int(math.log2(N)) )\n",
    "    #        x = 1\n",
    " \n",
    "def Quadratic(N):\n",
    "\t\"\"\"\n",
    "\tO(n^2) function\n",
    "\t\"\"\"\n",
    "\tx = [i for i in range(int(math.pow(N, 2)))]\n",
    "    #for i in range(N):\n",
    "\t#\tfor j in range(N):\n",
    "\t#\t\tx = 1\n",
    " \n",
    "def Cubic(N):\n",
    "\t\"\"\"\n",
    "\tO(n^3) function\n",
    "\t\"\"\"\n",
    "\tx = [i for i in range(int(math.pow(N, 3)))]\n",
    "    \n",
    "\t#for i in range(N):\n",
    "\t#\tfor j in range(N):\n",
    "\t#\t\tfor k in range(N):\n",
    "\t#\t\t\tx = 1\n",
    "\n",
    "\n",
    "def Exponential(N):\n",
    "\tx = [i for i in range(int(math.pow(2, N)))]\n",
    "\n",
    "def fshuffle(N):\n",
    "    # O(N)\n",
    "    random.shuffle(list(range(N)))\n",
    " \n",
    "def fsort(N):\n",
    "    x = list(range(N))\n",
    "    random.shuffle(x)\n",
    "    x.sort()\n",
    " \n",
    "def plotTC(fn, nMin, nMax, nInc, nTests):\n",
    "    \"\"\"\n",
    "    Run timer and plot time complexity\n",
    "    \"\"\"\n",
    "    x = []\n",
    "    y = []\n",
    "    for i in range(nMin, nMax, nInc):\n",
    "        N = i\n",
    "        testNTimer = timeit.Timer(partial(fn, N))\n",
    "        t = testNTimer.timeit(number=nTests)\n",
    "        #x.append(math.log2(i))\n",
    "        #y.append(math.log2(t))\n",
    "        x.append(i)\n",
    "        y.append(math.log2(t))\n",
    "\n",
    "    #plt.plot(x, y, 'o', label=fn.__name__)\n",
    "    plt.plot(x, y, label=fn.__name__)\n",
    "    #plt.scatter(x, y)\n",
    "    #plt.text(x, y, fn.__name__)\n",
    "\n",
    "    #plt.scatter(x, y, label=fn.__name__)\n",
    "    plt.legend(loc='best')\n",
    " \n",
    "\n",
    "def main():\n",
    "    print('Analyzing Algorithms...')\n",
    " \n",
    "    upbound = 24\n",
    "    step = 1\n",
    "    plotTC(Constant, 10, upbound, step, 10)\n",
    "    plotTC(Logarithmic, 10, upbound, step, 10)\n",
    "    plotTC(Linear, 10, upbound, step, 10)\n",
    "    plotTC(N_Log_N, 10, upbound, step, 10)\n",
    "    plotTC(Quadratic, 10, upbound, step, 10)\n",
    "    plotTC(Cubic, 10, upbound, step, 10)\n",
    "    plotTC(Exponential, 10, upbound, step, 10)\n",
    "    #plotTC(fshuffle, 10, 1000, 1000, 10)\n",
    "    #plotTC(fsort, 10, 1000, 10, 10)\n",
    " \n",
    "    plt.title(\"Seven Important Functions\")\n",
    "    plt.show()\n",
    " \n",
    "# call main\n",
    "if __name__ == '__main__':\n",
    "    main()"
   ]
  },
  {
   "cell_type": "code",
   "execution_count": null,
   "metadata": {},
   "outputs": [],
   "source": []
  }
 ],
 "metadata": {
  "kernelspec": {
   "display_name": "Python 3",
   "language": "python",
   "name": "python3"
  },
  "language_info": {
   "codemirror_mode": {
    "name": "ipython",
    "version": 3
   },
   "file_extension": ".py",
   "mimetype": "text/x-python",
   "name": "python",
   "nbconvert_exporter": "python",
   "pygments_lexer": "ipython3",
   "version": "3.7.6"
  }
 },
 "nbformat": 4,
 "nbformat_minor": 4
}
