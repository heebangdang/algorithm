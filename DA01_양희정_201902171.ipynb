{
 "cells": [
  {
   "cell_type": "code",
   "execution_count": 10,
   "metadata": {},
   "outputs": [
    {
     "name": "stdin",
     "output_type": "stream",
     "text": [
      "Ask user to choose: 1\n"
     ]
    },
    {
     "name": "stdout",
     "output_type": "stream",
     "text": [
      "17\n"
     ]
    }
   ],
   "source": [
    "choice = int(input(\"Ask user to choose:\")) \n",
    "\n",
    "p = [4,2,8,5,6,2,6]\n",
    "q = [3,6,4,7,4,3,9]\n",
    "\n",
    "def Manhattan_distance(p, q):\n",
    "  distance = 0\n",
    "  i = 0\n",
    "  for i in range(len(p)):\n",
    "    distance += abs(p[i] - q[i])\n",
    "    i += 1\n",
    "  return distance\n",
    "\n",
    "def Euclidean_distance(p, q):\n",
    "  distance = 0\n",
    "  i = 0\n",
    "  for i in range(len(p)):\n",
    "    distance += (p[i] - q[i]) ** 2\n",
    "    i += 1\n",
    "  return distance ** 0.5\n",
    "\n",
    "if choice == 1:\n",
    "    print(Manhattan_distance(p,q))\n",
    "elif choice == 2:\n",
    "    print(Euclidean_distance(p,q))"
   ]
  },
  {
   "cell_type": "code",
   "execution_count": 2,
   "metadata": {},
   "outputs": [],
   "source": [
    "class Book:\n",
    "    def __init__(self,BookID,BookTitle,BookPrice):\n",
    "        self.BookID = BookID\n",
    "        self.BookTitle = BookTitle\n",
    "        self.BookPrice = BookPrice\n",
    "    def getBookID(self):\n",
    "         return self.BookID\n",
    "    \n",
    "    def getBookTitle(self):\n",
    "        return self.BookTitle\n",
    "    \n",
    "    def getBookPrice(self):\n",
    "        return self.BookPrice\n",
    "    \n",
    "class Magazine(Book):\n",
    "    def __init__(self,BookID,BookTitle,BookPrice,Edition):\n",
    "        super().__init__(BookID,BookTitle,BookPrice)\n",
    "        self.Edition = Edition\n",
    "        \n",
    "    def getEdition(self):\n",
    "        return self.Edition\n",
    "        \n",
    "class Newspaper(Book):\n",
    "    def __init__(self,BookID,BookTitle,BookPrice,Date):\n",
    "        super().__init__(BookID,BookTitle,BookPrice)\n",
    "        self.Date = Date\n",
    "        \n",
    "    def getDate(self):\n",
    "        return self.Date \n",
    "        \n",
    "class Textbook(Book):\n",
    "    def __init__(self,BookID,BookTitle,BookPrice,ISBN):\n",
    "        super().__init__(BookID,BookTitle,BookPrice)\n",
    "        self.ISBN = ISBN\n",
    "                       \n",
    "    def getISBN(self):\n",
    "        return self.ISBN"
   ]
  },
  {
   "cell_type": "code",
   "execution_count": 3,
   "metadata": {},
   "outputs": [],
   "source": [
    "m1 = Magazine(\"M001\",\"Sport\",8000,32)"
   ]
  },
  {
   "cell_type": "code",
   "execution_count": 4,
   "metadata": {},
   "outputs": [],
   "source": [
    "n1 = Newspaper(\"N001\",\"Korean Times\",1000,20180327)"
   ]
  },
  {
   "cell_type": "code",
   "execution_count": 5,
   "metadata": {},
   "outputs": [],
   "source": [
    "t1 = Textbook(\"T001\",\"Data Structure\",30000,2039203)"
   ]
  },
  {
   "cell_type": "code",
   "execution_count": 6,
   "metadata": {},
   "outputs": [
    {
     "data": {
      "text/plain": [
       "32"
      ]
     },
     "execution_count": 6,
     "metadata": {},
     "output_type": "execute_result"
    }
   ],
   "source": [
    "m1.getEdition()"
   ]
  },
  {
   "cell_type": "code",
   "execution_count": 7,
   "metadata": {},
   "outputs": [
    {
     "data": {
      "text/plain": [
       "'Korean Times'"
      ]
     },
     "execution_count": 7,
     "metadata": {},
     "output_type": "execute_result"
    }
   ],
   "source": [
    "n1.getBookTitle()"
   ]
  },
  {
   "cell_type": "code",
   "execution_count": 8,
   "metadata": {},
   "outputs": [
    {
     "data": {
      "text/plain": [
       "20180327"
      ]
     },
     "execution_count": 8,
     "metadata": {},
     "output_type": "execute_result"
    }
   ],
   "source": [
    "n1.getDate()"
   ]
  },
  {
   "cell_type": "code",
   "execution_count": 9,
   "metadata": {},
   "outputs": [
    {
     "data": {
      "text/plain": [
       "2039203"
      ]
     },
     "execution_count": 9,
     "metadata": {},
     "output_type": "execute_result"
    }
   ],
   "source": [
    "t1.getISBN()"
   ]
  },
  {
   "cell_type": "code",
   "execution_count": null,
   "metadata": {},
   "outputs": [],
   "source": []
  }
 ],
 "metadata": {
  "kernelspec": {
   "display_name": "Python 3",
   "language": "python",
   "name": "python3"
  },
  "language_info": {
   "codemirror_mode": {
    "name": "ipython",
    "version": 3
   },
   "file_extension": ".py",
   "mimetype": "text/x-python",
   "name": "python",
   "nbconvert_exporter": "python",
   "pygments_lexer": "ipython3",
   "version": "3.7.6"
  }
 },
 "nbformat": 4,
 "nbformat_minor": 4
}
