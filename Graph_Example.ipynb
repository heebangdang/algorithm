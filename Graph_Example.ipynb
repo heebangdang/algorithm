{
 "cells": [
  {
   "cell_type": "code",
   "execution_count": 1,
   "metadata": {},
   "outputs": [],
   "source": [
    "#From the chapter 14 (Graph.py)\n",
    "class Graph:\n",
    "  \"\"\"Representation of a simple graph using an adjacency map.\"\"\"\n",
    "\n",
    "  #------------------------- nested Vertex class -------------------------\n",
    "  class Vertex:\n",
    "    \"\"\"Lightweight vertex structure for a graph.\"\"\"\n",
    "    __slots__ = '_element'\n",
    "  \n",
    "    def __init__(self, x):\n",
    "      \"\"\"Do not call constructor directly. Use Graph's insert_vertex(x).\"\"\"\n",
    "      self._element = x\n",
    "  \n",
    "    def element(self):\n",
    "      \"\"\"Return element associated with this vertex.\"\"\"\n",
    "      return self._element\n",
    "  \n",
    "    def __hash__(self):         # will allow vertex to be a map/set key\n",
    "      return hash(id(self))\n",
    "\n",
    "    def __str__(self):\n",
    "      return str(self._element)\n",
    "    \n",
    "  #------------------------- nested Edge class -------------------------\n",
    "  class Edge:\n",
    "    \"\"\"Lightweight edge structure for a graph.\"\"\"\n",
    "    __slots__ = '_origin', '_destination', '_element'\n",
    "  \n",
    "    def __init__(self, u, v, x):\n",
    "      \"\"\"Do not call constructor directly. Use Graph's insert_edge(u,v,x).\"\"\"\n",
    "      self._origin = u\n",
    "      self._destination = v\n",
    "      self._element = x\n",
    "  \n",
    "    def endpoints(self):\n",
    "      \"\"\"Return (u,v) tuple for vertices u and v.\"\"\"\n",
    "      return (self._origin, self._destination)\n",
    "  \n",
    "    def opposite(self, v):\n",
    "      \"\"\"Return the vertex that is opposite v on this edge.\"\"\"\n",
    "      if not isinstance(v, Graph.Vertex):\n",
    "        raise TypeError('v must be a Vertex')\n",
    "      return self._destination if v is self._origin else self._origin\n",
    "      raise ValueError('v not incident to edge')\n",
    "  \n",
    "    def element(self):\n",
    "      \"\"\"Return element associated with this edge.\"\"\"\n",
    "      return self._element\n",
    "  \n",
    "    def __hash__(self):         # will allow edge to be a map/set key\n",
    "      return hash( (self._origin, self._destination) )\n",
    "\n",
    "    def __str__(self):\n",
    "      return '({0},{1},{2})'.format(self._origin,self._destination,self._element)\n",
    "    \n",
    "  #------------------------- Graph methods -------------------------\n",
    "  def __init__(self, directed=False):\n",
    "    \"\"\"Create an empty graph (undirected, by default).\n",
    "\n",
    "    Graph is directed if optional paramter is set to True.\n",
    "    \"\"\"\n",
    "    self._outgoing = {}\n",
    "    # only create second map for directed graph; use alias for undirected\n",
    "    self._incoming = {} if directed else self._outgoing\n",
    "\n",
    "  def _validate_vertex(self, v):\n",
    "    \"\"\"Verify that v is a Vertex of this graph.\"\"\"\n",
    "    if not isinstance(v, self.Vertex):\n",
    "      raise TypeError('Vertex expected')\n",
    "    if v not in self._outgoing:\n",
    "      raise ValueError('Vertex does not belong to this graph.')\n",
    "    \n",
    "  def is_directed(self):\n",
    "    \"\"\"Return True if this is a directed graph; False if undirected.\n",
    "\n",
    "    Property is based on the original declaration of the graph, not its contents.\n",
    "    \"\"\"\n",
    "    return self._incoming is not self._outgoing # directed if maps are distinct\n",
    "\n",
    "  def vertex_count(self):\n",
    "    \"\"\"Return the number of vertices in the graph.\"\"\"\n",
    "    return len(self._outgoing)\n",
    "\n",
    "  def vertices(self):\n",
    "    \"\"\"Return an iteration of all vertices of the graph.\"\"\"\n",
    "    return self._outgoing.keys()\n",
    "\n",
    "  def edge_count(self):\n",
    "    \"\"\"Return the number of edges in the graph.\"\"\"\n",
    "    total = sum(len(self._outgoing[v]) for v in self._outgoing)\n",
    "    # for undirected graphs, make sure not to double-count edges\n",
    "    return total if self.is_directed() else total // 2\n",
    "\n",
    "  def edges(self):\n",
    "    \"\"\"Return a set of all edges of the graph.\"\"\"\n",
    "    result = set()       # avoid double-reporting edges of undirected graph\n",
    "    for secondary_map in self._outgoing.values():\n",
    "      result.update(secondary_map.values())    # add edges to resulting set\n",
    "    return result\n",
    "\n",
    "  def get_edge(self, u, v):\n",
    "    \"\"\"Return the edge from u to v, or None if not adjacent.\"\"\"\n",
    "    self._validate_vertex(u)\n",
    "    self._validate_vertex(v)\n",
    "    return self._outgoing[u].get(v)        # returns None if v not adjacent\n",
    "\n",
    "  def degree(self, v, outgoing=True):   \n",
    "    \"\"\"Return number of (outgoing) edges incident to vertex v in the graph.\n",
    "\n",
    "    If graph is directed, optional parameter used to count incoming edges.\n",
    "    \"\"\"\n",
    "    self._validate_vertex(v)\n",
    "    adj = self._outgoing if outgoing else self._incoming\n",
    "    return len(adj[v])\n",
    "\n",
    "  def incident_edges(self, v, outgoing=True):   \n",
    "    \"\"\"Return all (outgoing) edges incident to vertex v in the graph.\n",
    "\n",
    "    If graph is directed, optional parameter used to request incoming edges.\n",
    "    \"\"\"\n",
    "    self._validate_vertex(v)\n",
    "    adj = self._outgoing if outgoing else self._incoming\n",
    "    for edge in adj[v].values():\n",
    "      yield edge\n",
    "\n",
    "  def insert_vertex(self, x=None):\n",
    "    \"\"\"Insert and return a new Vertex with element x.\"\"\"\n",
    "    v = self.Vertex(x)\n",
    "    self._outgoing[v] = {}\n",
    "    if self.is_directed():\n",
    "      self._incoming[v] = {}        # need distinct map for incoming edges\n",
    "    return v\n",
    "      \n",
    "  def insert_edge(self, u, v, x=None):\n",
    "    \"\"\"Insert and return a new Edge from u to v with auxiliary element x.\n",
    "\n",
    "    Raise a ValueError if u and v are not vertices of the graph.\n",
    "    Raise a ValueError if u and v are already adjacent.\n",
    "    \"\"\"\n",
    "    if self.get_edge(u, v) is not None:      # includes error checking\n",
    "      raise ValueError('u and v are already adjacent')\n",
    "    e = self.Edge(u, v, x)\n",
    "    self._outgoing[u][v] = e\n",
    "    self._incoming[v][u] = e\n"
   ]
  },
  {
   "cell_type": "code",
   "execution_count": 2,
   "metadata": {},
   "outputs": [],
   "source": [
    "#from the chapter 14 (graph_examples.py)\n",
    "\n",
    "def graph_from_edgelist(E, directed=False):\n",
    "  \"\"\"Make a graph instance based on a sequence of edge tuples.\n",
    "\n",
    "  Edges can be either of from (origin,destination) or\n",
    "  (origin,destination,element). Vertex set is presume to be those\n",
    "  incident to at least one edge.\n",
    "\n",
    "  vertex labels are assumed to be hashable.\n",
    "  \"\"\"\n",
    "  g = Graph(directed)\n",
    "  V = set()\n",
    "  for e in E:\n",
    "    V.add(e[0])\n",
    "    V.add(e[1])\n",
    "\n",
    "  verts = {}  # map from vertex label to Vertex instance\n",
    "  for v in V:\n",
    "    verts[v] = g.insert_vertex(v)\n",
    "\n",
    "  for e in E:\n",
    "    src = e[0] #source\n",
    "    dest = e[1] #destination\n",
    "    element = e[2] if len(e) > 2 else None\n",
    "    g.insert_edge(verts[src],verts[dest],element)\n",
    "\n",
    "  return g\n",
    "\n",
    "def simple_example():\n",
    "    E = (\n",
    "    ('Seoul', 'Daejon'), ('Daejon','Busan'), ('Busan', 'Daejon'),\n",
    "    ('Daejon', 'Suwon'), ('Suwon', 'Seoul'), ('Seoul', 'Gwangju'),\n",
    "    ('Gwangju', 'Suwon'))\n",
    "    return graph_from_edgelist(E, True)\n",
    "\n",
    "\n",
    "\n",
    "def figure_14_3():\n",
    "  \"\"\"Return the unweighted, directed graph from Figure 14.3 of DSAP.\"\"\"\n",
    "  E = (\n",
    "    ('BOS','SFO'), ('BOS','JFK'), ('BOS','MIA'), ('JFK','BOS'),\n",
    "    ('JFK','DFW'), ('JFK','MIA'), ('JFK','SFO'), ('ORD','DFW'),\n",
    "    ('ORD','MIA'), ('LAX','ORD'), ('DFW','SFO'), ('DFW','ORD'),\n",
    "    ('DFW','LAX'), ('MIA','DFW'), ('MIA','LAX'),\n",
    "    )\n",
    "  return graph_from_edgelist(E, True)\n",
    "\n",
    "\n"
   ]
  },
  {
   "cell_type": "code",
   "execution_count": 3,
   "metadata": {},
   "outputs": [],
   "source": [
    "graph_korea = simple_example()"
   ]
  },
  {
   "cell_type": "code",
   "execution_count": 4,
   "metadata": {},
   "outputs": [],
   "source": [
    "#Get the data from incoming (the other is outgoing)\n",
    "incoming = dict(graph_korea._incoming)"
   ]
  },
  {
   "cell_type": "code",
   "execution_count": 24,
   "metadata": {
    "collapsed": false,
    "jupyter": {
     "outputs_hidden": false
    }
   },
   "outputs": [
    {
     "name": "stdout",
     "output_type": "stream",
     "text": [
      "LAX\n",
      "  SFO\n",
      "  (SFO,LAX,337)\n",
      "  DFW\n",
      "  (LAX,DFW,1235)\n",
      "  MIA\n",
      "  (LAX,MIA,2342)\n",
      "DFW\n",
      "  SFO\n",
      "  (SFO,DFW,1464)\n",
      "  LAX\n",
      "  (LAX,DFW,1235)\n",
      "  ORD\n",
      "  (DFW,ORD,802)\n",
      "  MIA\n",
      "  (DFW,MIA,1121)\n",
      "ORD\n",
      "  SFO\n",
      "  (SFO,ORD,1846)\n",
      "  DFW\n",
      "  (DFW,ORD,802)\n",
      "  BOS\n",
      "  (ORD,BOS,867)\n",
      "  JFK\n",
      "  (ORD,JFK,740)\n",
      "JFK\n",
      "  ORD\n",
      "  (ORD,JFK,740)\n",
      "  MIA\n",
      "  (MIA,JFK,1090)\n",
      "  BOS\n",
      "  (JFK,BOS,187)\n",
      "SFO\n",
      "  LAX\n",
      "  (SFO,LAX,337)\n",
      "  BOS\n",
      "  (SFO,BOS,2704)\n",
      "  ORD\n",
      "  (SFO,ORD,1846)\n",
      "  DFW\n",
      "  (SFO,DFW,1464)\n",
      "BOS\n",
      "  SFO\n",
      "  (SFO,BOS,2704)\n",
      "  ORD\n",
      "  (ORD,BOS,867)\n",
      "  MIA\n",
      "  (MIA,BOS,1258)\n",
      "  JFK\n",
      "  (JFK,BOS,187)\n",
      "MIA\n",
      "  LAX\n",
      "  (LAX,MIA,2342)\n",
      "  DFW\n",
      "  (DFW,MIA,1121)\n",
      "  JFK\n",
      "  (MIA,JFK,1090)\n",
      "  BOS\n",
      "  (MIA,BOS,1258)\n"
     ]
    }
   ],
   "source": [
    "for k,v in incoming.items():\n",
    "    print (k.element())\n",
    "    for k1, v1 in v.items():\n",
    "        print (\" \",k1.element())\n",
    "        print (\" \", v1)"
   ]
  },
  {
   "cell_type": "code",
   "execution_count": 6,
   "metadata": {},
   "outputs": [],
   "source": [
    "outgoing = dict(graph_korea._outgoing)"
   ]
  },
  {
   "cell_type": "code",
   "execution_count": 7,
   "metadata": {
    "collapsed": false,
    "jupyter": {
     "outputs_hidden": false
    }
   },
   "outputs": [
    {
     "name": "stdout",
     "output_type": "stream",
     "text": [
      "Daejon\n",
      "  Busan\n",
      "  (Daejon,Busan,None)\n",
      "  Suwon\n",
      "  (Daejon,Suwon,None)\n",
      "Seoul\n",
      "  Daejon\n",
      "  (Seoul,Daejon,None)\n",
      "  Gwangju\n",
      "  (Seoul,Gwangju,None)\n",
      "Gwangju\n",
      "  Suwon\n",
      "  (Gwangju,Suwon,None)\n",
      "Busan\n",
      "  Daejon\n",
      "  (Busan,Daejon,None)\n",
      "Suwon\n",
      "  Seoul\n",
      "  (Suwon,Seoul,None)\n"
     ]
    }
   ],
   "source": [
    "for k,v in outgoing.items():\n",
    "    print (k.element())\n",
    "    for k1, v1 in v.items():\n",
    "        print (\" \",k1.element())\n",
    "        print (\" \", v1)"
   ]
  },
  {
   "cell_type": "markdown",
   "metadata": {},
   "source": [
    "BOS : Boston\n",
    "SFO : San Francisco\n",
    "JFK : John F Kennedy (New York)\n",
    "MIA : Miami\n",
    "DFW : Dallas / Fort Worth\n",
    "LAX : Los Angeles\n",
    "ORD : O'Hare (Illinois)"
   ]
  },
  {
   "cell_type": "code",
   "execution_count": 8,
   "metadata": {},
   "outputs": [],
   "source": [
    "graph1 = figure_14_3()"
   ]
  },
  {
   "cell_type": "code",
   "execution_count": 9,
   "metadata": {},
   "outputs": [],
   "source": [
    "incoming = dict(graph1._incoming)"
   ]
  },
  {
   "cell_type": "code",
   "execution_count": 10,
   "metadata": {
    "collapsed": false,
    "jupyter": {
     "outputs_hidden": false
    }
   },
   "outputs": [
    {
     "name": "stdout",
     "output_type": "stream",
     "text": [
      "LAX\n",
      "  DFW\n",
      "  (DFW,LAX,None)\n",
      "  MIA\n",
      "  (MIA,LAX,None)\n",
      "DFW\n",
      "  JFK\n",
      "  (JFK,DFW,None)\n",
      "  ORD\n",
      "  (ORD,DFW,None)\n",
      "  MIA\n",
      "  (MIA,DFW,None)\n",
      "ORD\n",
      "  LAX\n",
      "  (LAX,ORD,None)\n",
      "  DFW\n",
      "  (DFW,ORD,None)\n",
      "JFK\n",
      "  BOS\n",
      "  (BOS,JFK,None)\n",
      "SFO\n",
      "  BOS\n",
      "  (BOS,SFO,None)\n",
      "  JFK\n",
      "  (JFK,SFO,None)\n",
      "  DFW\n",
      "  (DFW,SFO,None)\n",
      "BOS\n",
      "  JFK\n",
      "  (JFK,BOS,None)\n",
      "MIA\n",
      "  BOS\n",
      "  (BOS,MIA,None)\n",
      "  JFK\n",
      "  (JFK,MIA,None)\n",
      "  ORD\n",
      "  (ORD,MIA,None)\n"
     ]
    }
   ],
   "source": [
    "for k,v in incoming.items():\n",
    "    print (k.element())\n",
    "    for k1, v1 in v.items():\n",
    "        print (\" \",k1.element())\n",
    "        print (\" \", v1)"
   ]
  },
  {
   "cell_type": "code",
   "execution_count": 11,
   "metadata": {},
   "outputs": [],
   "source": [
    "outgoing = dict(graph1._outgoing)"
   ]
  },
  {
   "cell_type": "code",
   "execution_count": 12,
   "metadata": {
    "collapsed": false,
    "jupyter": {
     "outputs_hidden": false
    }
   },
   "outputs": [
    {
     "name": "stdout",
     "output_type": "stream",
     "text": [
      "LAX\n",
      "  ORD\n",
      "  (LAX,ORD,None)\n",
      "DFW\n",
      "  SFO\n",
      "  (DFW,SFO,None)\n",
      "  ORD\n",
      "  (DFW,ORD,None)\n",
      "  LAX\n",
      "  (DFW,LAX,None)\n",
      "ORD\n",
      "  DFW\n",
      "  (ORD,DFW,None)\n",
      "  MIA\n",
      "  (ORD,MIA,None)\n",
      "JFK\n",
      "  BOS\n",
      "  (JFK,BOS,None)\n",
      "  DFW\n",
      "  (JFK,DFW,None)\n",
      "  MIA\n",
      "  (JFK,MIA,None)\n",
      "  SFO\n",
      "  (JFK,SFO,None)\n",
      "SFO\n",
      "BOS\n",
      "  SFO\n",
      "  (BOS,SFO,None)\n",
      "  JFK\n",
      "  (BOS,JFK,None)\n",
      "  MIA\n",
      "  (BOS,MIA,None)\n",
      "MIA\n",
      "  DFW\n",
      "  (MIA,DFW,None)\n",
      "  LAX\n",
      "  (MIA,LAX,None)\n"
     ]
    }
   ],
   "source": [
    "for k,v in outgoing.items():\n",
    "    print (k.element())\n",
    "    for k1, v1 in v.items():\n",
    "        print (\" \",k1.element())\n",
    "        print (\" \", v1)"
   ]
  },
  {
   "cell_type": "code",
   "execution_count": 13,
   "metadata": {},
   "outputs": [],
   "source": [
    "def figure_14_14():\n",
    "  \"\"\"Return the weighted, undirected graph from Figure 14.14 of DSAP.\"\"\"\n",
    "  E = (\n",
    "    ('SFO', 'LAX', 337), ('SFO', 'BOS', 2704), ('SFO', 'ORD', 1846),\n",
    "    ('SFO', 'DFW', 1464), ('LAX', 'DFW', 1235), ('LAX', 'MIA', 2342),\n",
    "    ('DFW', 'ORD', 802), ('DFW', 'MIA', 1121), ('ORD', 'BOS', 867),\n",
    "    ('ORD', 'JFK', 740), ('MIA', 'JFK', 1090), ('MIA', 'BOS', 1258), \n",
    "    ('JFK', 'BOS', 187),\n",
    "    )\n",
    "  return graph_from_edgelist(E, False)"
   ]
  },
  {
   "cell_type": "code",
   "execution_count": 14,
   "metadata": {},
   "outputs": [],
   "source": [
    "graph2 = figure_14_14()"
   ]
  },
  {
   "cell_type": "code",
   "execution_count": 15,
   "metadata": {},
   "outputs": [],
   "source": [
    "incoming = dict(graph2._incoming)"
   ]
  },
  {
   "cell_type": "code",
   "execution_count": 16,
   "metadata": {
    "collapsed": false,
    "jupyter": {
     "outputs_hidden": false
    }
   },
   "outputs": [
    {
     "name": "stdout",
     "output_type": "stream",
     "text": [
      "LAX\n",
      "  SFO\n",
      "  (SFO,LAX,337)\n",
      "  DFW\n",
      "  (LAX,DFW,1235)\n",
      "  MIA\n",
      "  (LAX,MIA,2342)\n",
      "DFW\n",
      "  SFO\n",
      "  (SFO,DFW,1464)\n",
      "  LAX\n",
      "  (LAX,DFW,1235)\n",
      "  ORD\n",
      "  (DFW,ORD,802)\n",
      "  MIA\n",
      "  (DFW,MIA,1121)\n",
      "ORD\n",
      "  SFO\n",
      "  (SFO,ORD,1846)\n",
      "  DFW\n",
      "  (DFW,ORD,802)\n",
      "  BOS\n",
      "  (ORD,BOS,867)\n",
      "  JFK\n",
      "  (ORD,JFK,740)\n",
      "JFK\n",
      "  ORD\n",
      "  (ORD,JFK,740)\n",
      "  MIA\n",
      "  (MIA,JFK,1090)\n",
      "  BOS\n",
      "  (JFK,BOS,187)\n",
      "SFO\n",
      "  LAX\n",
      "  (SFO,LAX,337)\n",
      "  BOS\n",
      "  (SFO,BOS,2704)\n",
      "  ORD\n",
      "  (SFO,ORD,1846)\n",
      "  DFW\n",
      "  (SFO,DFW,1464)\n",
      "BOS\n",
      "  SFO\n",
      "  (SFO,BOS,2704)\n",
      "  ORD\n",
      "  (ORD,BOS,867)\n",
      "  MIA\n",
      "  (MIA,BOS,1258)\n",
      "  JFK\n",
      "  (JFK,BOS,187)\n",
      "MIA\n",
      "  LAX\n",
      "  (LAX,MIA,2342)\n",
      "  DFW\n",
      "  (DFW,MIA,1121)\n",
      "  JFK\n",
      "  (MIA,JFK,1090)\n",
      "  BOS\n",
      "  (MIA,BOS,1258)\n"
     ]
    }
   ],
   "source": [
    "for k,v in incoming.items():\n",
    "    print (k.element())\n",
    "    for k1, v1 in v.items():\n",
    "        print (\" \",k1.element())\n",
    "        print (\" \", v1)"
   ]
  },
  {
   "cell_type": "markdown",
   "metadata": {},
   "source": [
    "# Depth-First Search"
   ]
  },
  {
   "cell_type": "code",
   "execution_count": 17,
   "metadata": {},
   "outputs": [],
   "source": [
    "#From Chapter 14 (dfs.py)\n",
    "def DFS(g, u, discovered):\n",
    "  \"\"\"Perform DFS of the undiscovered portion of Graph g starting at Vertex u.\n",
    "\n",
    "  discovered is a dictionary mapping each vertex to the edge that was used to\n",
    "  discover it during the DFS. (u should be \"discovered\" prior to the call.)\n",
    "  Newly discovered vertices will be added to the dictionary as a result.\n",
    "  \"\"\"\n",
    "  for e in g.incident_edges(u):    # for every outgoing edge from u\n",
    "    v = e.opposite(u)\n",
    "    if v not in discovered:        # v is an unvisited vertex\n",
    "      discovered[v] = e            # e is the tree edge that discovered v\n",
    "      DFS(g, v, discovered)        # recursively explore from v\n",
    "\n",
    "def construct_path(u, v, discovered):\n",
    "  \"\"\"\n",
    "  Return a list of vertices comprising the directed path from u to v,\n",
    "  or an empty list if v is not reachable from u.\n",
    "\n",
    "  discovered is a dictionary resulting from a previous call to DFS started at u.\n",
    "  \"\"\"\n",
    "  path = []                        # empty path by default\n",
    "  if v in discovered:\n",
    "    # we build list from v to u and then reverse it at the end\n",
    "    path.append(v)\n",
    "    walk = v\n",
    "    while walk is not u:\n",
    "      e = discovered[walk]         # find edge leading to walk\n",
    "      parent = e.opposite(walk)\n",
    "      path.append(parent)\n",
    "      walk = parent\n",
    "    path.reverse()                 # reorient path from u to v\n",
    "  return path\n",
    "\n",
    "def DFS_complete(g):\n",
    "  \"\"\"Perform DFS for entire graph and return forest as a dictionary.\n",
    "\n",
    "  Result maps each vertex v to the edge that was used to discover it.\n",
    "  (Vertices that are roots of a DFS tree are mapped to None.)\n",
    "  \"\"\"\n",
    "  forest = {}\n",
    "  for u in g.vertices():\n",
    "    if u not in forest:\n",
    "      forest[u] = None             # u will be the root of a tree\n",
    "      DFS(g, u, forest)\n",
    "  return forest\n"
   ]
  },
  {
   "cell_type": "code",
   "execution_count": 18,
   "metadata": {},
   "outputs": [],
   "source": [
    "dfs_incoming_simple = DFS_complete(graph_korea)"
   ]
  },
  {
   "cell_type": "code",
   "execution_count": 19,
   "metadata": {
    "collapsed": false,
    "jupyter": {
     "outputs_hidden": false
    }
   },
   "outputs": [
    {
     "name": "stdout",
     "output_type": "stream",
     "text": [
      "Daejon\n",
      "  None\n",
      "Busan\n",
      "  (Daejon,Busan,None)\n",
      "Suwon\n",
      "  (Daejon,Suwon,None)\n",
      "Seoul\n",
      "  (Suwon,Seoul,None)\n",
      "Gwangju\n",
      "  (Seoul,Gwangju,None)\n"
     ]
    }
   ],
   "source": [
    "for k, v in dfs_incoming_simple.items():\n",
    "    print (k.element())\n",
    "    print (\" \",v)"
   ]
  },
  {
   "cell_type": "code",
   "execution_count": 20,
   "metadata": {},
   "outputs": [],
   "source": [
    "dfs_incoming = DFS_complete(graph1) #, list_incoming[0])"
   ]
  },
  {
   "cell_type": "code",
   "execution_count": 21,
   "metadata": {
    "collapsed": false,
    "jupyter": {
     "outputs_hidden": false
    }
   },
   "outputs": [
    {
     "name": "stdout",
     "output_type": "stream",
     "text": [
      "LAX\n",
      "  None\n",
      "ORD\n",
      "  (LAX,ORD,None)\n",
      "DFW\n",
      "  (ORD,DFW,None)\n",
      "SFO\n",
      "  (DFW,SFO,None)\n",
      "MIA\n",
      "  (ORD,MIA,None)\n",
      "JFK\n",
      "  None\n",
      "BOS\n",
      "  (JFK,BOS,None)\n"
     ]
    }
   ],
   "source": [
    "for k, v in dfs_incoming.items():\n",
    "    print (k.element())\n",
    "    print (\" \",v)"
   ]
  },
  {
   "cell_type": "code",
   "execution_count": 22,
   "metadata": {},
   "outputs": [],
   "source": [
    "dfs_incoming2 = DFS_complete(graph2)"
   ]
  },
  {
   "cell_type": "code",
   "execution_count": 23,
   "metadata": {
    "collapsed": false,
    "jupyter": {
     "outputs_hidden": false
    }
   },
   "outputs": [
    {
     "name": "stdout",
     "output_type": "stream",
     "text": [
      "LAX\n",
      "  None\n",
      "SFO\n",
      "  (SFO,LAX,337)\n",
      "BOS\n",
      "  (SFO,BOS,2704)\n",
      "ORD\n",
      "  (ORD,BOS,867)\n",
      "DFW\n",
      "  (DFW,ORD,802)\n",
      "MIA\n",
      "  (DFW,MIA,1121)\n",
      "JFK\n",
      "  (MIA,JFK,1090)\n"
     ]
    }
   ],
   "source": [
    "for k, v in dfs_incoming2.items():\n",
    "    print (k.element())\n",
    "    print (\" \",v)"
   ]
  },
  {
   "cell_type": "code",
   "execution_count": null,
   "metadata": {
    "collapsed": true,
    "jupyter": {
     "outputs_hidden": true
    }
   },
   "outputs": [],
   "source": []
  },
  {
   "cell_type": "code",
   "execution_count": null,
   "metadata": {},
   "outputs": [],
   "source": []
  },
  {
   "cell_type": "code",
   "execution_count": null,
   "metadata": {},
   "outputs": [],
   "source": []
  },
  {
   "cell_type": "code",
   "execution_count": null,
   "metadata": {},
   "outputs": [],
   "source": []
  },
  {
   "cell_type": "code",
   "execution_count": null,
   "metadata": {},
   "outputs": [],
   "source": []
  },
  {
   "cell_type": "code",
   "execution_count": null,
   "metadata": {},
   "outputs": [],
   "source": []
  },
  {
   "cell_type": "code",
   "execution_count": null,
   "metadata": {},
   "outputs": [],
   "source": []
  },
  {
   "cell_type": "code",
   "execution_count": null,
   "metadata": {},
   "outputs": [],
   "source": []
  }
 ],
 "metadata": {
  "kernelspec": {
   "display_name": "Python 3",
   "language": "python",
   "name": "python3"
  },
  "language_info": {
   "codemirror_mode": {
    "name": "ipython",
    "version": 3
   },
   "file_extension": ".py",
   "mimetype": "text/x-python",
   "name": "python",
   "nbconvert_exporter": "python",
   "pygments_lexer": "ipython3",
   "version": "3.7.6"
  }
 },
 "nbformat": 4,
 "nbformat_minor": 4
}
