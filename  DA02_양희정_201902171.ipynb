{
 "cells": [
  {
   "cell_type": "code",
   "execution_count": 14,
   "metadata": {},
   "outputs": [
    {
     "data": {
      "text/plain": [
       "True"
      ]
     },
     "execution_count": 14,
     "metadata": {},
     "output_type": "execute_result"
    }
   ],
   "source": [
    "def Array1(array,number):\n",
    "    dictionary={}\n",
    "    for num in array:\n",
    "        if number-num not in dictionary:\n",
    "            dictionary[number-num]=0\n",
    "        if num in dictionary:\n",
    "            return True\n",
    "\n",
    "arr=[12, 1, 61, 5, 9, 2]\n",
    "Array1(arr,24)"
   ]
  },
  {
   "cell_type": "code",
   "execution_count": 15,
   "metadata": {},
   "outputs": [
    {
     "name": "stdout",
     "output_type": "stream",
     "text": [
      "[12, 1, 9, 2]\n"
     ]
    }
   ],
   "source": [
    "def Sum(num, target, p=[]):\n",
    "    s = sum(p)\n",
    "\n",
    "    if s == target: \n",
    "        print (p)\n",
    "    if s >= target:\n",
    "        return \n",
    "\n",
    "    for i in range(len(num)):\n",
    "        n = num[i]\n",
    "        r = num[i+1:]\n",
    "        Sum(r, target, p + [n]) \n",
    "\n",
    "\n",
    "if __name__ == \"__main__\":\n",
    "    Sum([12, 1, 61, 5, 9, 2],24)"
   ]
  },
  {
   "cell_type": "markdown",
   "metadata": {},
   "source": [
    "Big O notation is O(n)"
   ]
  },
  {
   "cell_type": "code",
   "execution_count": 4,
   "metadata": {},
   "outputs": [
    {
     "name": "stdout",
     "output_type": "stream",
     "text": [
      "['A', 'D', 'B', 'C', 'E', 'G', 'H', 'F']\n",
      "['A', 'B', 'G', 'F', 'E', 'H', 'C', 'D']\n"
     ]
    }
   ],
   "source": [
    "graph = {'A': set(['B','D']),\n",
    "         'B': set(['C','E','G']),\n",
    "         'C': set(['A']),\n",
    "         'D': set(['C']),\n",
    "         'E': set(['H']),\n",
    "         'F': set([]),\n",
    "         'G': set(['F']),\n",
    "         'H': set(['F','G'])}\n",
    "\n",
    "from collections import deque\n",
    "\n",
    "def BFS(graph, root):\n",
    "    visited = []\n",
    "    queue = deque([root])\n",
    "\n",
    "    while queue:\n",
    "        n = queue.popleft()\n",
    "        if n not in visited:\n",
    "            visited.append(n)\n",
    "            queue += graph[n] - set(visited)\n",
    "    return visited\n",
    "  \n",
    "print(BFS(graph, 'A'))\n",
    "\n",
    "\n",
    "def DFS(graph, root):\n",
    "    visited = []\n",
    "    stack = [root]\n",
    "\n",
    "    while stack:\n",
    "        n = stack.pop()\n",
    "        if n not in visited:\n",
    "            visited.append(n)\n",
    "            stack += graph[n] - set(visited)\n",
    "    return visited\n",
    "\n",
    "print(DFS(graph, 'A'))"
   ]
  },
  {
   "cell_type": "code",
   "execution_count": 5,
   "metadata": {},
   "outputs": [
    {
     "name": "stdout",
     "output_type": "stream",
     "text": [
      "['A', 'D', 'B', 'C', 'E', 'G', 'H', 'F']\n",
      "['A', 'B', 'G', 'F', 'E', 'H', 'C', 'D']\n"
     ]
    }
   ],
   "source": [
    "graph = {'A': set(['B','D']),\n",
    "         'B': set(['C','E','G']),\n",
    "         'C': set(['A']),\n",
    "         'D': set(['C']),\n",
    "         'E': set(['H']),\n",
    "         'F': set([]),\n",
    "         'G': set(['F']),\n",
    "         'H': set(['F','G'])\n",
    "        }\n",
    "def bfs(graph, start):\n",
    "    visited = []\n",
    "    queue = [start]\n",
    "\n",
    "    while queue:\n",
    "        n = queue.pop(0)\n",
    "        if n not in visited:\n",
    "            visited.append(n)\n",
    "            queue += graph[n] - set(visited)\n",
    "    return visited\n",
    "\n",
    "print(bfs(graph, 'A'))\n",
    "\n",
    "def dfs(graph, start):\n",
    "    visited = []\n",
    "    stack = [start]\n",
    "\n",
    "    while stack:\n",
    "        n = stack.pop()\n",
    "        if n not in visited:\n",
    "            visited.append(n)\n",
    "            stack += graph[n] - set(visited)\n",
    "    return visited\n",
    "\n",
    "print(dfs(graph, 'A'))"
   ]
  },
  {
   "cell_type": "code",
   "execution_count": null,
   "metadata": {},
   "outputs": [],
   "source": []
  }
 ],
 "metadata": {
  "kernelspec": {
   "display_name": "Python 3",
   "language": "python",
   "name": "python3"
  },
  "language_info": {
   "codemirror_mode": {
    "name": "ipython",
    "version": 3
   },
   "file_extension": ".py",
   "mimetype": "text/x-python",
   "name": "python",
   "nbconvert_exporter": "python",
   "pygments_lexer": "ipython3",
   "version": "3.7.6"
  }
 },
 "nbformat": 4,
 "nbformat_minor": 4
}
