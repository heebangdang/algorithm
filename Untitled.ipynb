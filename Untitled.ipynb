{
 "cells": [
  {
   "cell_type": "code",
   "execution_count": 120,
   "metadata": {},
   "outputs": [],
   "source": [
    "class Book:\n",
    "    def __init__(self,BookID,BookTitle,BookPrice):\n",
    "        self.BookID = BookID\n",
    "        self.BookTitle = BookTitle\n",
    "        self.BookPrice = BookPrice\n",
    "    def getBookID(self):\n",
    "         return self.BookID\n",
    "    \n",
    "    def getBookTitle(self):\n",
    "        return self.BookTitle\n",
    "    \n",
    "    def getBookPrice(self):\n",
    "        return self.BookPrice\n",
    "    \n",
    "class Magazine(Book):\n",
    "    def __init__(self,BookID,BookTitle,BookPrice,Edition):\n",
    "        super().__init__(BookID,BookTitle,BookPrice)\n",
    "        self.Edition = Edition\n",
    "        \n",
    "    def getEdition(self):\n",
    "        return self.Edition\n",
    "        \n",
    "class Newspaper(Book):\n",
    "    def __init__(self,BookID,BookTitle,BookPrice,Date):\n",
    "        super().__init__(BookID,BookTitle,BookPrice)\n",
    "        self.Date = Date\n",
    "        \n",
    "    def getDate(self):\n",
    "        return self.Date \n",
    "        \n",
    "class Textbook(Book):\n",
    "    def __init__(self,BookID,BookTitle,BookPrice,ISBN):\n",
    "        super().__init__(BookID,BookTitle,BookPrice)\n",
    "        self.ISBN = ISBN\n",
    "                       \n",
    "    def getISBN(self):\n",
    "        return self.ISBN\n",
    "    "
   ]
  },
  {
   "cell_type": "code",
   "execution_count": 121,
   "metadata": {},
   "outputs": [],
   "source": [
    "m1 = Magazine(\"M001\",\"Sport\",8000,32)"
   ]
  },
  {
   "cell_type": "code",
   "execution_count": 122,
   "metadata": {},
   "outputs": [],
   "source": [
    "n1 = Newspaper(\"N001\",\"Korean Times\",1000,20180327)"
   ]
  },
  {
   "cell_type": "code",
   "execution_count": 123,
   "metadata": {},
   "outputs": [],
   "source": [
    "t1 = Textbook(\"T001\",\"Data Structure\",30000,2039203)"
   ]
  },
  {
   "cell_type": "code",
   "execution_count": 124,
   "metadata": {},
   "outputs": [
    {
     "data": {
      "text/plain": [
       "32"
      ]
     },
     "execution_count": 124,
     "metadata": {},
     "output_type": "execute_result"
    }
   ],
   "source": [
    "m1.getEdition()"
   ]
  },
  {
   "cell_type": "code",
   "execution_count": 125,
   "metadata": {},
   "outputs": [
    {
     "data": {
      "text/plain": [
       "'Korean Times'"
      ]
     },
     "execution_count": 125,
     "metadata": {},
     "output_type": "execute_result"
    }
   ],
   "source": [
    "n1.getBookTitle()"
   ]
  },
  {
   "cell_type": "code",
   "execution_count": 126,
   "metadata": {},
   "outputs": [
    {
     "data": {
      "text/plain": [
       "20180327"
      ]
     },
     "execution_count": 126,
     "metadata": {},
     "output_type": "execute_result"
    }
   ],
   "source": [
    "n1.getDate()"
   ]
  },
  {
   "cell_type": "code",
   "execution_count": 127,
   "metadata": {},
   "outputs": [
    {
     "data": {
      "text/plain": [
       "2039203"
      ]
     },
     "execution_count": 127,
     "metadata": {},
     "output_type": "execute_result"
    }
   ],
   "source": [
    "t1.getISBN()"
   ]
  },
  {
   "cell_type": "code",
   "execution_count": 37,
   "metadata": {},
   "outputs": [
    {
     "ename": "SyntaxError",
     "evalue": "invalid syntax (<ipython-input-37-3b9d6884e3bd>, line 14)",
     "output_type": "error",
     "traceback": [
      "\u001b[1;36m  File \u001b[1;32m\"<ipython-input-37-3b9d6884e3bd>\"\u001b[1;36m, line \u001b[1;32m14\u001b[0m\n\u001b[1;33m    elif choice == 2:\u001b[0m\n\u001b[1;37m       ^\u001b[0m\n\u001b[1;31mSyntaxError\u001b[0m\u001b[1;31m:\u001b[0m invalid syntax\n"
     ]
    }
   ],
   "source": [
    "choice = int(input(\"Ask user to choose:\")) \n",
    "p = [4,2,8,5,6,2,6]\n",
    "q = [3,6,4,7,4,3,9]\n",
    "\n",
    "if choice == 1:\n",
    "    print(Manhattan_distance(p,q))\n",
    "def Manhattan_distance(p, q):\n",
    "  distance = 0\n",
    "  i = 0\n",
    "  for i in range(len(p)):\n",
    "    distance += abs(p[i] - q[i])\n",
    "    i += 1\n",
    "  return distance  \n",
    "\n",
    "elif choice == 2:\n",
    "    print(Euclidean_distance(p,q))\n",
    "def Euclidean_distance(p, q):\n",
    "  distance = 0\n",
    "  i = 0\n",
    "  for i in range(len(p)):\n",
    "    distance += (p[i] - q[i]) ** 2\n",
    "    i += 1\n",
    "  return distance ** 0.5"
   ]
  },
  {
   "cell_type": "code",
   "execution_count": 1,
   "metadata": {},
   "outputs": [
    {
     "name": "stdin",
     "output_type": "stream",
     "text": [
      "숫자를 입력하세요: 1\n"
     ]
    },
    {
     "name": "stdout",
     "output_type": "stream",
     "text": [
      "1\n"
     ]
    }
   ],
   "source": [
    "num = int(input(\"숫자를 입력하세요:\"))\n",
    "\n",
    "p = [4,2,8,5,6,2,6]\n",
    "q = [3,6,4,7,4,3,9]\n",
    "\n",
    "def Manhattan_distance(p,q):\n",
    "    distance = 0\n",
    "    for i in range(len(p)):\n",
    "        distance += abs(p[i] - q[i])\n",
    "        return distance\n",
    "    \n",
    "def Euclidean_distance(p,q):\n",
    "    distance = 0\n",
    "    for i in range(len(p)):\n",
    "        distance += (p[i] - q[i]) ** 2\n",
    "        return distance ** 0.5\n",
    "    \n",
    "if num == 1:\n",
    "    print(Manhattan_distance(p,q))\n",
    "elif num == 2:\n",
    "    print(Euclidean_distance(p,q))"
   ]
  },
  {
   "cell_type": "code",
   "execution_count": null,
   "metadata": {},
   "outputs": [],
   "source": []
  },
  {
   "cell_type": "code",
   "execution_count": null,
   "metadata": {},
   "outputs": [],
   "source": []
  }
 ],
 "metadata": {
  "kernelspec": {
   "display_name": "Python 3",
   "language": "python",
   "name": "python3"
  },
  "language_info": {
   "codemirror_mode": {
    "name": "ipython",
    "version": 3
   },
   "file_extension": ".py",
   "mimetype": "text/x-python",
   "name": "python",
   "nbconvert_exporter": "python",
   "pygments_lexer": "ipython3",
   "version": "3.7.6"
  }
 },
 "nbformat": 4,
 "nbformat_minor": 4
}
