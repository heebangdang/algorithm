{
 "cells": [
  {
   "cell_type": "code",
   "execution_count": 1,
   "metadata": {},
   "outputs": [
    {
     "data": {
      "text/plain": [
       "True"
      ]
     },
     "execution_count": 1,
     "metadata": {},
     "output_type": "execute_result"
    }
   ],
   "source": [
    "def Array1(array,number):\n",
    "    dictionary={}\n",
    "    for num in array:\n",
    "        if number-num not in dictionary:\n",
    "            dictionary[number-num]=0\n",
    "        if num in dictionary:\n",
    "            return True\n",
    "\n",
    "arr=[12, 1, 61, 5, 9, 2]\n",
    "Array1(arr,24)"
   ]
  },
  {
   "cell_type": "code",
   "execution_count": 2,
   "metadata": {},
   "outputs": [
    {
     "name": "stdout",
     "output_type": "stream",
     "text": [
      "[12, 1, 9, 2]\n"
     ]
    }
   ],
   "source": [
    "def Sum(num, target, p=[]):\n",
    "    s = sum(p)\n",
    "\n",
    "    if s == target: \n",
    "        print (p)\n",
    "    if s >= target:\n",
    "        return \n",
    "\n",
    "    for i in range(len(num)):\n",
    "        n = num[i]\n",
    "        r = num[i+1:]\n",
    "        Sum(r, target, p + [n]) \n",
    "\n",
    "\n",
    "if __name__ == \"__main__\":\n",
    "    Sum([12, 1, 61, 5, 9, 2],24)"
   ]
  },
  {
   "cell_type": "markdown",
   "metadata": {},
   "source": [
    "Big O notation is O(n)"
   ]
  },
  {
   "cell_type": "code",
   "execution_count": 40,
   "metadata": {},
   "outputs": [
    {
     "name": "stdout",
     "output_type": "stream",
     "text": [
      "['A', 'B', 'D', 'G', 'C', 'E', 'F', 'H']\n",
      "['A', 'D', 'C', 'B', 'E', 'H', 'F', 'G']\n"
     ]
    }
   ],
   "source": [
    "ggraph_list = {'A': set(['B','D']),\n",
    "         'B': set(['C','E','G']),\n",
    "         'C': set(['A']),\n",
    "         'D': set(['C']),\n",
    "         'E': set(['H']),\n",
    "         'G': set(['F']),\n",
    "         'H': set(['F','G'])}\n",
    "\n",
    "root_node = 'A'\n",
    "\n",
    "from collections import deque\n",
    "\n",
    "def BFS_with_adj_list(graph, root):\n",
    "    visited = []\n",
    "    queue = deque([root])\n",
    "\n",
    "    while queue:\n",
    "        n = queue.popleft()\n",
    "        if n not in visited:\n",
    "            visited.append(n)\n",
    "            queue += graph[n] - set(visited)\n",
    "    return visited\n",
    "  \n",
    "print(BFS_with_adj_list(graph_list, root_node))\n",
    "\n",
    "\n",
    "def DFS_with_adj_list(graph, root):\n",
    "    visited = []\n",
    "    stack = [root]\n",
    "\n",
    "    while stack:\n",
    "        n = stack.pop()\n",
    "        if n not in visited:\n",
    "            visited.append(n)\n",
    "            stack += graph[n] - set(visited)\n",
    "    return visited\n",
    "\n",
    "print(DFS_with_adj_list(graph_list, root_node))"
   ]
  },
  {
   "cell_type": "code",
   "execution_count": 36,
   "metadata": {},
   "outputs": [
    {
     "name": "stdout",
     "output_type": "stream",
     "text": [
      "['A', 'B', 'D', 'C', 'E', 'G', 'H', 'F']\n",
      "[]\n"
     ]
    }
   ],
   "source": [
    "def bfs(graph, start_node):\n",
    "    visit = list()\n",
    "    queue = list()\n",
    "\n",
    "    queue.append(start_node)\n",
    "\n",
    "    while queue:\n",
    "        node = queue.pop(0)\n",
    "        if node not in visit:\n",
    "            visit.append(node)\n",
    "            queue.extend(graph[node])\n",
    "\n",
    "    return visit\n",
    "\n",
    "\n",
    "def dfs(graph, start_node):\n",
    "    visit = list()\n",
    "    stack = list()\n",
    "\n",
    "    stack.append(start_node)\n",
    "\n",
    "    while stack:\n",
    "        node = stack.pop()\n",
    "        if node not in visit:\n",
    "            visit.append(node)\n",
    "            stack.extend(graph[node])\n",
    "\n",
    "    return visit\n",
    "\n",
    "\n",
    "if __name__ == \"__main__\":\n",
    "    graph = {'A': 'B' ,'D',\n",
    "         'B': 'C','E','G',\n",
    "         'C': 'A',\n",
    "         'D': ['C',\n",
    "         'E': ['H'],\n",
    "         'F': [],\n",
    "         'G': ['F'],\n",
    "         'H': ['F','G']}\n",
    "    print(bfs(graph, 'A'))\n",
    "    print(dfs(graph, 'A'))"
   ]
  }
 ],
 "metadata": {
  "kernelspec": {
   "display_name": "Python 3",
   "language": "python",
   "name": "python3"
  },
  "language_info": {
   "codemirror_mode": {
    "name": "ipython",
    "version": 3
   },
   "file_extension": ".py",
   "mimetype": "text/x-python",
   "name": "python",
   "nbconvert_exporter": "python",
   "pygments_lexer": "ipython3",
   "version": "3.7.6"
  }
 },
 "nbformat": 4,
 "nbformat_minor": 4
}
