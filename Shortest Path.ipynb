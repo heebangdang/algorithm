{
 "cells": [
  {
   "cell_type": "code",
   "execution_count": 7,
   "metadata": {},
   "outputs": [
    {
     "ename": "ModuleNotFoundError",
     "evalue": "No module named 'ch09'",
     "output_type": "error",
     "traceback": [
      "\u001b[1;31m---------------------------------------------------------------------------\u001b[0m",
      "\u001b[1;31mModuleNotFoundError\u001b[0m                       Traceback (most recent call last)",
      "\u001b[1;32m<ipython-input-7-20e33a969f78>\u001b[0m in \u001b[0;36m<module>\u001b[1;34m\u001b[0m\n\u001b[1;32m----> 1\u001b[1;33m \u001b[1;32mfrom\u001b[0m \u001b[0mch09\u001b[0m\u001b[1;33m.\u001b[0m\u001b[0mheap_priority_queue\u001b[0m \u001b[1;32mimport\u001b[0m \u001b[0mHeapPriorityQueue\u001b[0m\u001b[1;33m\u001b[0m\u001b[1;33m\u001b[0m\u001b[0m\n\u001b[0m\u001b[0;32m      2\u001b[0m \u001b[1;32mfrom\u001b[0m \u001b[0mch09\u001b[0m\u001b[1;33m.\u001b[0m\u001b[0madaptable_heap_priority_queue\u001b[0m \u001b[1;32mimport\u001b[0m \u001b[0mAdaptableHeapPriorityQueue\u001b[0m\u001b[1;33m\u001b[0m\u001b[1;33m\u001b[0m\u001b[0m\n\u001b[0;32m      3\u001b[0m \u001b[1;32mfrom\u001b[0m \u001b[0mch14\u001b[0m\u001b[1;33m.\u001b[0m\u001b[0mpartition\u001b[0m \u001b[1;32mimport\u001b[0m \u001b[0mPartition\u001b[0m\u001b[1;33m\u001b[0m\u001b[1;33m\u001b[0m\u001b[0m\n\u001b[0;32m      4\u001b[0m \u001b[1;32mfrom\u001b[0m \u001b[0mch14\u001b[0m\u001b[1;33m.\u001b[0m\u001b[0mgraph\u001b[0m \u001b[1;32mimport\u001b[0m \u001b[0mGraph\u001b[0m\u001b[1;33m\u001b[0m\u001b[1;33m\u001b[0m\u001b[0m\n",
      "\u001b[1;31mModuleNotFoundError\u001b[0m: No module named 'ch09'"
     ]
    }
   ],
   "source": [
    "from ch09.heap_priority_queue import HeapPriorityQueue\n",
    "from ch09.adaptable_heap_priority_queue import AdaptableHeapPriorityQueue\n",
    "from ch14.partition import Partition\n",
    "from ch14.graph import Graph"
   ]
  },
  {
   "cell_type": "code",
   "execution_count": 2,
   "metadata": {},
   "outputs": [],
   "source": [
    "def graph_from_edgelist(E, directed=False):\n",
    "  \"\"\"Make a graph instance based on a sequence of edge tuples.\n",
    "\n",
    "  Edges can be either of from (origin,destination) or\n",
    "  (origin,destination,element). Vertex set is presume to be those\n",
    "  incident to at least one edge.\n",
    "\n",
    "  vertex labels are assumed to be hashable.\n",
    "  \"\"\"\n",
    "  g = Graph(directed)\n",
    "  V = set()\n",
    "  for e in E:\n",
    "    V.add(e[0])\n",
    "    V.add(e[1])\n",
    "\n",
    "  verts = {}  # map from vertex label to Vertex instance\n",
    "  for v in V:\n",
    "    verts[v] = g.insert_vertex(v)\n",
    "\n",
    "  for e in E:\n",
    "    src = e[0]\n",
    "    dest = e[1]\n",
    "    element = e[2] if len(e) > 2 else None\n",
    "    g.insert_edge(verts[src],verts[dest],element)\n",
    "\n",
    "  return g\n"
   ]
  },
  {
   "cell_type": "code",
   "execution_count": 3,
   "metadata": {},
   "outputs": [],
   "source": [
    "def figure_14_14():\n",
    "  \"\"\"Return the weighted, undirected graph from Figure 14.14 of DSAP.\"\"\"\n",
    "  E = (\n",
    "    ('SFO', 'LAX', 337), ('SFO', 'BOS', 2704), ('SFO', 'ORD', 1846),\n",
    "    ('SFO', 'DFW', 1464), ('LAX', 'DFW', 1235), ('LAX', 'MIA', 2342),\n",
    "    ('DFW', 'ORD', 802), ('DFW', 'MIA', 1121), ('ORD', 'BOS', 867),\n",
    "    ('ORD', 'JFK', 740), ('MIA', 'JFK', 1090), ('MIA', 'BOS', 1258), \n",
    "    ('JFK', 'BOS', 187),\n",
    "    )\n",
    "  return graph_from_edgelist(E, False)"
   ]
  },
  {
   "cell_type": "code",
   "execution_count": 4,
   "metadata": {},
   "outputs": [
    {
     "ename": "NameError",
     "evalue": "name 'Graph' is not defined",
     "output_type": "error",
     "traceback": [
      "\u001b[1;31m---------------------------------------------------------------------------\u001b[0m",
      "\u001b[1;31mNameError\u001b[0m                                 Traceback (most recent call last)",
      "\u001b[1;32m<ipython-input-4-ac1261e99ed8>\u001b[0m in \u001b[0;36m<module>\u001b[1;34m\u001b[0m\n\u001b[1;32m----> 1\u001b[1;33m \u001b[0mgraph2\u001b[0m \u001b[1;33m=\u001b[0m \u001b[0mfigure_14_14\u001b[0m\u001b[1;33m(\u001b[0m\u001b[1;33m)\u001b[0m\u001b[1;33m\u001b[0m\u001b[1;33m\u001b[0m\u001b[0m\n\u001b[0m",
      "\u001b[1;32m<ipython-input-3-d3864f0fddcb>\u001b[0m in \u001b[0;36mfigure_14_14\u001b[1;34m()\u001b[0m\n\u001b[0;32m      8\u001b[0m     \u001b[1;33m(\u001b[0m\u001b[1;34m'JFK'\u001b[0m\u001b[1;33m,\u001b[0m \u001b[1;34m'BOS'\u001b[0m\u001b[1;33m,\u001b[0m \u001b[1;36m187\u001b[0m\u001b[1;33m)\u001b[0m\u001b[1;33m,\u001b[0m\u001b[1;33m\u001b[0m\u001b[1;33m\u001b[0m\u001b[0m\n\u001b[0;32m      9\u001b[0m     )\n\u001b[1;32m---> 10\u001b[1;33m   \u001b[1;32mreturn\u001b[0m \u001b[0mgraph_from_edgelist\u001b[0m\u001b[1;33m(\u001b[0m\u001b[0mE\u001b[0m\u001b[1;33m,\u001b[0m \u001b[1;32mFalse\u001b[0m\u001b[1;33m)\u001b[0m\u001b[1;33m\u001b[0m\u001b[1;33m\u001b[0m\u001b[0m\n\u001b[0m",
      "\u001b[1;32m<ipython-input-2-1db9cfda7758>\u001b[0m in \u001b[0;36mgraph_from_edgelist\u001b[1;34m(E, directed)\u001b[0m\n\u001b[0;32m      8\u001b[0m   \u001b[0mvertex\u001b[0m \u001b[0mlabels\u001b[0m \u001b[0mare\u001b[0m \u001b[0massumed\u001b[0m \u001b[0mto\u001b[0m \u001b[0mbe\u001b[0m \u001b[0mhashable\u001b[0m\u001b[1;33m.\u001b[0m\u001b[1;33m\u001b[0m\u001b[1;33m\u001b[0m\u001b[0m\n\u001b[0;32m      9\u001b[0m   \"\"\"\n\u001b[1;32m---> 10\u001b[1;33m   \u001b[0mg\u001b[0m \u001b[1;33m=\u001b[0m \u001b[0mGraph\u001b[0m\u001b[1;33m(\u001b[0m\u001b[0mdirected\u001b[0m\u001b[1;33m)\u001b[0m\u001b[1;33m\u001b[0m\u001b[1;33m\u001b[0m\u001b[0m\n\u001b[0m\u001b[0;32m     11\u001b[0m   \u001b[0mV\u001b[0m \u001b[1;33m=\u001b[0m \u001b[0mset\u001b[0m\u001b[1;33m(\u001b[0m\u001b[1;33m)\u001b[0m\u001b[1;33m\u001b[0m\u001b[1;33m\u001b[0m\u001b[0m\n\u001b[0;32m     12\u001b[0m   \u001b[1;32mfor\u001b[0m \u001b[0me\u001b[0m \u001b[1;32min\u001b[0m \u001b[0mE\u001b[0m\u001b[1;33m:\u001b[0m\u001b[1;33m\u001b[0m\u001b[1;33m\u001b[0m\u001b[0m\n",
      "\u001b[1;31mNameError\u001b[0m: name 'Graph' is not defined"
     ]
    }
   ],
   "source": [
    "graph2 = figure_14_14()"
   ]
  },
  {
   "cell_type": "code",
   "execution_count": 5,
   "metadata": {},
   "outputs": [
    {
     "ename": "ValueError",
     "evalue": "attempted relative import beyond top-level package",
     "output_type": "error",
     "traceback": [
      "\u001b[1;31m---------------------------------------------------------------------------\u001b[0m",
      "\u001b[1;31mValueError\u001b[0m                                Traceback (most recent call last)",
      "\u001b[1;32m<ipython-input-5-36126ddf801d>\u001b[0m in \u001b[0;36m<module>\u001b[1;34m\u001b[0m\n\u001b[0;32m      1\u001b[0m \u001b[1;32mimport\u001b[0m \u001b[0msys\u001b[0m\u001b[1;33m\u001b[0m\u001b[1;33m\u001b[0m\u001b[0m\n\u001b[0;32m      2\u001b[0m \u001b[0msys\u001b[0m\u001b[1;33m.\u001b[0m\u001b[0mpath\u001b[0m\u001b[1;33m.\u001b[0m\u001b[0mappend\u001b[0m\u001b[1;33m(\u001b[0m\u001b[1;34m'./ch14'\u001b[0m\u001b[1;33m)\u001b[0m\u001b[1;33m\u001b[0m\u001b[1;33m\u001b[0m\u001b[0m\n\u001b[1;32m----> 3\u001b[1;33m \u001b[1;32mfrom\u001b[0m \u001b[0mch14\u001b[0m\u001b[1;33m.\u001b[0m\u001b[0mshortest_paths\u001b[0m \u001b[1;32mimport\u001b[0m \u001b[0mshortest_path_tree\u001b[0m \u001b[1;32mas\u001b[0m \u001b[0mspt\u001b[0m\u001b[1;33m\u001b[0m\u001b[1;33m\u001b[0m\u001b[0m\n\u001b[0m\u001b[0;32m      4\u001b[0m \u001b[1;32mfrom\u001b[0m \u001b[0mch14\u001b[0m\u001b[1;33m.\u001b[0m\u001b[0mshortest_paths\u001b[0m \u001b[1;32mimport\u001b[0m \u001b[0mshortest_path_lengths\u001b[0m \u001b[1;32mas\u001b[0m \u001b[0mspl\u001b[0m\u001b[1;33m\u001b[0m\u001b[1;33m\u001b[0m\u001b[0m\n",
      "\u001b[1;32m~\\DSA 2020\\ch14\\ch14\\shortest_paths.py\u001b[0m in \u001b[0;36m<module>\u001b[1;34m\u001b[0m\n\u001b[0;32m     20\u001b[0m \u001b[1;31m# along with this program.  If not, see <http://www.gnu.org/licenses/>.\u001b[0m\u001b[1;33m\u001b[0m\u001b[1;33m\u001b[0m\u001b[1;33m\u001b[0m\u001b[0m\n\u001b[0;32m     21\u001b[0m \u001b[1;33m\u001b[0m\u001b[0m\n\u001b[1;32m---> 22\u001b[1;33m \u001b[1;32mfrom\u001b[0m \u001b[1;33m.\u001b[0m\u001b[1;33m.\u001b[0m\u001b[0mch09\u001b[0m\u001b[1;33m.\u001b[0m\u001b[0madaptable_heap_priority_queue\u001b[0m \u001b[1;32mimport\u001b[0m \u001b[0mAdaptableHeapPriorityQueue\u001b[0m\u001b[1;33m\u001b[0m\u001b[1;33m\u001b[0m\u001b[0m\n\u001b[0m\u001b[0;32m     23\u001b[0m \u001b[1;33m\u001b[0m\u001b[0m\n\u001b[0;32m     24\u001b[0m \u001b[1;32mdef\u001b[0m \u001b[0mshortest_path_lengths\u001b[0m\u001b[1;33m(\u001b[0m\u001b[0mg\u001b[0m\u001b[1;33m,\u001b[0m \u001b[0msrc\u001b[0m\u001b[1;33m)\u001b[0m\u001b[1;33m:\u001b[0m\u001b[1;33m\u001b[0m\u001b[1;33m\u001b[0m\u001b[0m\n",
      "\u001b[1;31mValueError\u001b[0m: attempted relative import beyond top-level package"
     ]
    }
   ],
   "source": [
    "import sys\n",
    "sys.path.append('./ch14') \n",
    "from ch14.shortest_paths import shortest_path_tree as spt\n",
    "from ch14.shortest_paths import shortest_path_lengths as spl"
   ]
  },
  {
   "cell_type": "code",
   "execution_count": 73,
   "metadata": {},
   "outputs": [],
   "source": [
    "def shortest_path_lengths(g, src):\n",
    "  print(src)\n",
    "  \"\"\"Compute shortest-path distances from src to reachable vertices of g.\n",
    "\n",
    "  Graph g can be undirected or directed, but must be weighted such that\n",
    "  e.element() returns a numeric weight for each edge e.\n",
    "\n",
    "  Return dictionary mapping each reachable vertex to its distance from src.\n",
    "  \"\"\"\n",
    "  d = {}                                        # d[v] is upper bound from s to v\n",
    "  cloud = {}                                    # map reachable v to its d[v] value\n",
    "  pq = AdaptableHeapPriorityQueue()             # vertex v will have key d[v]\n",
    "  pqlocator = {}                                # map from vertex to its pq locator\n",
    "\n",
    "  # for each vertex v of the graph, add an entry to the priority queue, with\n",
    "  # the source having distance 0 and all others having infinite distance\n",
    "  \n",
    "  for v in g.vertices():\n",
    "    if v is src:\n",
    "      d[v] = 0\n",
    "    else:\n",
    "      d[v] = float('inf')                       # syntax for positive infinity\n",
    "    pqlocator[v] = pq.add(d[v], v)              # save locator for future updates\n",
    "\n",
    "  while not pq.is_empty():\n",
    "    key, u = pq.remove_min()\n",
    "    print(\"key\", key, u)\n",
    "    print()\n",
    "    cloud[u] = key                              # its correct d[u] value\n",
    "    del pqlocator[u]                            # u is no longer in pq\n",
    "    for e in g.incident_edges(u):               # outgoing edges (u,v)\n",
    "      v = e.opposite(u)\n",
    "      if v not in cloud:\n",
    "        # perform relaxation step on edge (u,v)\n",
    "        wgt = e.element()\n",
    "        print(\"weight \", wgt, d[u], d[v],u, v)\n",
    "        if d[u] + wgt < d[v]:                   # better path to v?\n",
    "          d[v] = d[u] + wgt                     # update the distance\n",
    "          pq.update(pqlocator[v], d[v], v)      # update the pq entry\n",
    "\n",
    "  return cloud                                  # only includes reachable vertices\n"
   ]
  },
  {
   "cell_type": "code",
   "execution_count": 74,
   "metadata": {},
   "outputs": [
    {
     "name": "stdout",
     "output_type": "stream",
     "text": [
      "LAX\n",
      "key inf DFW\n",
      "\n",
      "weight  1464 inf inf DFW SFO\n",
      "weight  1235 inf inf DFW LAX\n",
      "weight  802 inf inf DFW ORD\n",
      "weight  1121 inf inf DFW MIA\n",
      "key inf LAX\n",
      "\n",
      "weight  337 inf inf LAX SFO\n",
      "weight  2342 inf inf LAX MIA\n",
      "key inf MIA\n",
      "\n",
      "weight  1090 inf inf MIA JFK\n",
      "weight  1258 inf inf MIA BOS\n",
      "key inf SFO\n",
      "\n",
      "weight  2704 inf inf SFO BOS\n",
      "weight  1846 inf inf SFO ORD\n",
      "key inf BOS\n",
      "\n",
      "weight  867 inf inf BOS ORD\n",
      "weight  187 inf inf BOS JFK\n",
      "key inf JFK\n",
      "\n",
      "weight  740 inf inf JFK ORD\n",
      "key inf ORD\n",
      "\n"
     ]
    },
    {
     "data": {
      "text/plain": [
       "{<ch14.graph.Graph.Vertex at 0x1173270>: inf,\n",
       " <ch14.graph.Graph.Vertex at 0x1173df0>: inf,\n",
       " <ch14.graph.Graph.Vertex at 0x1173e30>: inf,\n",
       " <ch14.graph.Graph.Vertex at 0x1173db0>: inf,\n",
       " <ch14.graph.Graph.Vertex at 0x1173710>: inf,\n",
       " <ch14.graph.Graph.Vertex at 0x1173810>: inf,\n",
       " <ch14.graph.Graph.Vertex at 0x1173e70>: inf}"
      ]
     },
     "execution_count": 74,
     "metadata": {},
     "output_type": "execute_result"
    }
   ],
   "source": [
    "shortest_path_lengths(graph2, 'LAX')"
   ]
  },
  {
   "cell_type": "code",
   "execution_count": 69,
   "metadata": {},
   "outputs": [],
   "source": [
    "res = spl(graph2, 'LAX')"
   ]
  },
  {
   "cell_type": "code",
   "execution_count": 70,
   "metadata": {},
   "outputs": [
    {
     "name": "stdout",
     "output_type": "stream",
     "text": [
      "DFW\n",
      "inf\n",
      "LAX\n",
      "inf\n",
      "MIA\n",
      "inf\n",
      "SFO\n",
      "inf\n",
      "BOS\n",
      "inf\n",
      "JFK\n",
      "inf\n",
      "ORD\n",
      "inf\n"
     ]
    }
   ],
   "source": [
    "for k,v in res.items():\n",
    "    print (k)\n",
    "    print (v)\n",
    "#     for k1, v1 in v.items():\n",
    "#         print (\" \",k1.element())\n",
    "#         print (\" \", v1)"
   ]
  },
  {
   "cell_type": "code",
   "execution_count": 68,
   "metadata": {},
   "outputs": [
    {
     "ename": "TypeError",
     "evalue": "Vertex expected",
     "output_type": "error",
     "traceback": [
      "\u001b[1;31m---------------------------------------------------------------------------\u001b[0m",
      "\u001b[1;31mTypeError\u001b[0m                                 Traceback (most recent call last)",
      "\u001b[1;32m<ipython-input-68-5eecb804dd7d>\u001b[0m in \u001b[0;36m<module>\u001b[1;34m\u001b[0m\n\u001b[1;32m----> 1\u001b[1;33m \u001b[0mres2\u001b[0m\u001b[1;33m=\u001b[0m \u001b[0mspt\u001b[0m\u001b[1;33m(\u001b[0m\u001b[0mgraph2\u001b[0m\u001b[1;33m,\u001b[0m \u001b[1;34m'DFW'\u001b[0m\u001b[1;33m,\u001b[0m \u001b[1;34m'BOS'\u001b[0m\u001b[1;33m)\u001b[0m\u001b[1;33m\u001b[0m\u001b[1;33m\u001b[0m\u001b[0m\n\u001b[0m",
      "\u001b[1;32m~\\OneDrive\\FromDropbox\\HUFS\\2019_01_Spring\\DSA\\HUFS LN 2019\\Python File - DSA 2019\\ch14\\shortest_paths.py\u001b[0m in \u001b[0;36mshortest_path_tree\u001b[1;34m(g, s, d)\u001b[0m\n\u001b[0;32m     71\u001b[0m   \u001b[0medge\u001b[0m \u001b[0me\u001b[0m\u001b[1;33m=\u001b[0m\u001b[1;33m(\u001b[0m\u001b[0mu\u001b[0m\u001b[1;33m,\u001b[0m\u001b[0mv\u001b[0m\u001b[1;33m)\u001b[0m \u001b[0mthat\u001b[0m \u001b[1;32mis\u001b[0m \u001b[0mused\u001b[0m \u001b[0mto\u001b[0m \u001b[0mreach\u001b[0m \u001b[0mv\u001b[0m \u001b[1;32mfrom\u001b[0m \u001b[0mits\u001b[0m \u001b[0mparent\u001b[0m \u001b[0mu\u001b[0m \u001b[1;32min\u001b[0m \u001b[0mthe\u001b[0m \u001b[0mtree\u001b[0m\u001b[1;33m.\u001b[0m\u001b[1;33m\u001b[0m\u001b[1;33m\u001b[0m\u001b[0m\n\u001b[0;32m     72\u001b[0m   \"\"\"\n\u001b[1;32m---> 73\u001b[1;33m   \u001b[0mtree\u001b[0m \u001b[1;33m=\u001b[0m \u001b[1;33m{\u001b[0m\u001b[1;33m}\u001b[0m\u001b[1;33m\u001b[0m\u001b[1;33m\u001b[0m\u001b[0m\n\u001b[0m\u001b[0;32m     74\u001b[0m   \u001b[1;32mfor\u001b[0m \u001b[0mv\u001b[0m \u001b[1;32min\u001b[0m \u001b[0md\u001b[0m\u001b[1;33m:\u001b[0m\u001b[1;33m\u001b[0m\u001b[1;33m\u001b[0m\u001b[0m\n\u001b[0;32m     75\u001b[0m     \u001b[1;32mif\u001b[0m \u001b[0mv\u001b[0m \u001b[1;32mis\u001b[0m \u001b[1;32mnot\u001b[0m \u001b[0ms\u001b[0m\u001b[1;33m:\u001b[0m\u001b[1;33m\u001b[0m\u001b[1;33m\u001b[0m\u001b[0m\n",
      "\u001b[1;32m~\\OneDrive\\FromDropbox\\HUFS\\2019_01_Spring\\DSA\\HUFS LN 2019\\Python File - DSA 2019\\ch14\\graph.py\u001b[0m in \u001b[0;36mincident_edges\u001b[1;34m(self, v, outgoing)\u001b[0m\n\u001b[0;32m    139\u001b[0m     \u001b[0mIf\u001b[0m \u001b[0mgraph\u001b[0m \u001b[1;32mis\u001b[0m \u001b[0mdirected\u001b[0m\u001b[1;33m,\u001b[0m \u001b[0moptional\u001b[0m \u001b[0mparameter\u001b[0m \u001b[0mused\u001b[0m \u001b[0mto\u001b[0m \u001b[0mrequest\u001b[0m \u001b[0mincoming\u001b[0m \u001b[0medges\u001b[0m\u001b[1;33m.\u001b[0m\u001b[1;33m\u001b[0m\u001b[1;33m\u001b[0m\u001b[0m\n\u001b[0;32m    140\u001b[0m     \"\"\"\n\u001b[1;32m--> 141\u001b[1;33m     \u001b[0mself\u001b[0m\u001b[1;33m.\u001b[0m\u001b[0m_validate_vertex\u001b[0m\u001b[1;33m(\u001b[0m\u001b[0mv\u001b[0m\u001b[1;33m)\u001b[0m\u001b[1;33m\u001b[0m\u001b[1;33m\u001b[0m\u001b[0m\n\u001b[0m\u001b[0;32m    142\u001b[0m     \u001b[0madj\u001b[0m \u001b[1;33m=\u001b[0m \u001b[0mself\u001b[0m\u001b[1;33m.\u001b[0m\u001b[0m_outgoing\u001b[0m \u001b[1;32mif\u001b[0m \u001b[0moutgoing\u001b[0m \u001b[1;32melse\u001b[0m \u001b[0mself\u001b[0m\u001b[1;33m.\u001b[0m\u001b[0m_incoming\u001b[0m\u001b[1;33m\u001b[0m\u001b[1;33m\u001b[0m\u001b[0m\n\u001b[0;32m    143\u001b[0m     \u001b[1;32mfor\u001b[0m \u001b[0medge\u001b[0m \u001b[1;32min\u001b[0m \u001b[0madj\u001b[0m\u001b[1;33m[\u001b[0m\u001b[0mv\u001b[0m\u001b[1;33m]\u001b[0m\u001b[1;33m.\u001b[0m\u001b[0mvalues\u001b[0m\u001b[1;33m(\u001b[0m\u001b[1;33m)\u001b[0m\u001b[1;33m:\u001b[0m\u001b[1;33m\u001b[0m\u001b[1;33m\u001b[0m\u001b[0m\n",
      "\u001b[1;32m~\\OneDrive\\FromDropbox\\HUFS\\2019_01_Spring\\DSA\\HUFS LN 2019\\Python File - DSA 2019\\ch14\\graph.py\u001b[0m in \u001b[0;36m_validate_vertex\u001b[1;34m(self, v)\u001b[0m\n\u001b[0;32m     87\u001b[0m     \u001b[1;34m\"\"\"Verify that v is a Vertex of this graph.\"\"\"\u001b[0m\u001b[1;33m\u001b[0m\u001b[1;33m\u001b[0m\u001b[0m\n\u001b[0;32m     88\u001b[0m     \u001b[1;32mif\u001b[0m \u001b[1;32mnot\u001b[0m \u001b[0misinstance\u001b[0m\u001b[1;33m(\u001b[0m\u001b[0mv\u001b[0m\u001b[1;33m,\u001b[0m \u001b[0mself\u001b[0m\u001b[1;33m.\u001b[0m\u001b[0mVertex\u001b[0m\u001b[1;33m)\u001b[0m\u001b[1;33m:\u001b[0m\u001b[1;33m\u001b[0m\u001b[1;33m\u001b[0m\u001b[0m\n\u001b[1;32m---> 89\u001b[1;33m       \u001b[1;32mraise\u001b[0m \u001b[0mTypeError\u001b[0m\u001b[1;33m(\u001b[0m\u001b[1;34m'Vertex expected'\u001b[0m\u001b[1;33m)\u001b[0m\u001b[1;33m\u001b[0m\u001b[1;33m\u001b[0m\u001b[0m\n\u001b[0m\u001b[0;32m     90\u001b[0m     \u001b[1;32mif\u001b[0m \u001b[0mv\u001b[0m \u001b[1;32mnot\u001b[0m \u001b[1;32min\u001b[0m \u001b[0mself\u001b[0m\u001b[1;33m.\u001b[0m\u001b[0m_outgoing\u001b[0m\u001b[1;33m:\u001b[0m\u001b[1;33m\u001b[0m\u001b[1;33m\u001b[0m\u001b[0m\n\u001b[0;32m     91\u001b[0m       \u001b[1;32mraise\u001b[0m \u001b[0mValueError\u001b[0m\u001b[1;33m(\u001b[0m\u001b[1;34m'Vertex does not belong to this graph.'\u001b[0m\u001b[1;33m)\u001b[0m\u001b[1;33m\u001b[0m\u001b[1;33m\u001b[0m\u001b[0m\n",
      "\u001b[1;31mTypeError\u001b[0m: Vertex expected"
     ]
    }
   ],
   "source": [
    "res2= spt(graph2, 'DFW', 'BOS')"
   ]
  },
  {
   "cell_type": "code",
   "execution_count": null,
   "metadata": {},
   "outputs": [],
   "source": []
  },
  {
   "cell_type": "code",
   "execution_count": null,
   "metadata": {},
   "outputs": [],
   "source": []
  }
 ],
 "metadata": {
  "kernelspec": {
   "display_name": "Python 3",
   "language": "python",
   "name": "python3"
  },
  "language_info": {
   "codemirror_mode": {
    "name": "ipython",
    "version": 3
   },
   "file_extension": ".py",
   "mimetype": "text/x-python",
   "name": "python",
   "nbconvert_exporter": "python",
   "pygments_lexer": "ipython3",
   "version": "3.7.6"
  }
 },
 "nbformat": 4,
 "nbformat_minor": 4
}
