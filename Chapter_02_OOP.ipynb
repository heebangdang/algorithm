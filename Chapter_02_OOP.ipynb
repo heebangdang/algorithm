{
 "cells": [
  {
   "cell_type": "code",
   "execution_count": 10,
   "metadata": {},
   "outputs": [],
   "source": [
    "class Person:\n",
    "    def say_hi(self): #self는 객체 자신을 의미(객체=class+instance)\n",
    "        print(\"How are you?\") #say_hi는 메소드"
   ]
  },
  {
   "cell_type": "code",
   "execution_count": 11,
   "metadata": {},
   "outputs": [],
   "source": [
    "p1 = Person() #p1은 인스턴스(클래스의 복사본)"
   ]
  },
  {
   "cell_type": "code",
   "execution_count": 12,
   "metadata": {},
   "outputs": [
    {
     "name": "stdout",
     "output_type": "stream",
     "text": [
      "How are you?\n"
     ]
    }
   ],
   "source": [
    "p1.say_hi() #access the method"
   ]
  },
  {
   "cell_type": "code",
   "execution_count": 13,
   "metadata": {},
   "outputs": [],
   "source": [
    "p2 = Person()"
   ]
  },
  {
   "cell_type": "code",
   "execution_count": 14,
   "metadata": {},
   "outputs": [
    {
     "name": "stdout",
     "output_type": "stream",
     "text": [
      "How are you?\n"
     ]
    }
   ],
   "source": [
    "p2.say_hi()"
   ]
  },
  {
   "cell_type": "code",
   "execution_count": 15,
   "metadata": {},
   "outputs": [
    {
     "ename": "TypeError",
     "evalue": "Person() takes no arguments",
     "output_type": "error",
     "traceback": [
      "\u001b[1;31m---------------------------------------------------------------------------\u001b[0m",
      "\u001b[1;31mTypeError\u001b[0m                                 Traceback (most recent call last)",
      "\u001b[1;32m<ipython-input-15-0b4d67e91627>\u001b[0m in \u001b[0;36m<module>\u001b[1;34m\u001b[0m\n\u001b[1;32m----> 1\u001b[1;33m \u001b[0mp2\u001b[0m \u001b[1;33m=\u001b[0m \u001b[0mPerson\u001b[0m\u001b[1;33m(\u001b[0m\u001b[1;34m\"Bernardo\"\u001b[0m\u001b[1;33m)\u001b[0m\u001b[1;33m\u001b[0m\u001b[1;33m\u001b[0m\u001b[0m\n\u001b[0m",
      "\u001b[1;31mTypeError\u001b[0m: Person() takes no arguments"
     ]
    }
   ],
   "source": [
    "p2 = Person(\"Bernardo\")"
   ]
  },
  {
   "cell_type": "code",
   "execution_count": 16,
   "metadata": {},
   "outputs": [],
   "source": [
    "class Person:\n",
    "    def __init__(self, name):\n",
    "        self.name = name\n",
    "        \n",
    "    def say_hi(self):\n",
    "        print(\"How are you\", self.name)"
   ]
  },
  {
   "cell_type": "code",
   "execution_count": 17,
   "metadata": {},
   "outputs": [
    {
     "ename": "TypeError",
     "evalue": "__init__() missing 1 required positional argument: 'name'",
     "output_type": "error",
     "traceback": [
      "\u001b[1;31m---------------------------------------------------------------------------\u001b[0m",
      "\u001b[1;31mTypeError\u001b[0m                                 Traceback (most recent call last)",
      "\u001b[1;32m<ipython-input-17-926e2872c3d8>\u001b[0m in \u001b[0;36m<module>\u001b[1;34m\u001b[0m\n\u001b[1;32m----> 1\u001b[1;33m \u001b[0mp2\u001b[0m \u001b[1;33m=\u001b[0m \u001b[0mPerson\u001b[0m\u001b[1;33m(\u001b[0m\u001b[1;33m)\u001b[0m\u001b[1;33m\u001b[0m\u001b[1;33m\u001b[0m\u001b[0m\n\u001b[0m",
      "\u001b[1;31mTypeError\u001b[0m: __init__() missing 1 required positional argument: 'name'"
     ]
    }
   ],
   "source": [
    "p2 = Person()"
   ]
  },
  {
   "cell_type": "code",
   "execution_count": 18,
   "metadata": {},
   "outputs": [],
   "source": [
    "p1 = Person(\"Bernardo\")"
   ]
  },
  {
   "cell_type": "code",
   "execution_count": 19,
   "metadata": {},
   "outputs": [
    {
     "name": "stdout",
     "output_type": "stream",
     "text": [
      "How are you Bernardo\n"
     ]
    }
   ],
   "source": [
    "p1.say_hi()"
   ]
  },
  {
   "cell_type": "code",
   "execution_count": 21,
   "metadata": {},
   "outputs": [],
   "source": [
    "class Student:\n",
    "    def __init__(self, stuName, stuCity):\n",
    "        self.stuName = stuName\n",
    "        self.stuCity = stuCity\n",
    "        self.score = 0\n",
    "    \n",
    "    def get_stuName(self):\n",
    "        return self.stuName\n",
    "    \n",
    "    def get_stuCity(self):\n",
    "        return self.stuCity\n",
    "    \n",
    "    def set_stuScore(self, score):\n",
    "        self.score = score\n",
    "        \n",
    "    def get_stuScore(self):\n",
    "        return self.score"
   ]
  },
  {
   "cell_type": "code",
   "execution_count": 22,
   "metadata": {},
   "outputs": [],
   "source": [
    "S1 = Student(\"B\", \"Yongin\")\n",
    "S2 = Student(\"C\", \"Seoul\")"
   ]
  },
  {
   "cell_type": "code",
   "execution_count": 23,
   "metadata": {},
   "outputs": [
    {
     "data": {
      "text/plain": [
       "'B'"
      ]
     },
     "execution_count": 23,
     "metadata": {},
     "output_type": "execute_result"
    }
   ],
   "source": [
    "S1.get_stuName()"
   ]
  },
  {
   "cell_type": "code",
   "execution_count": 24,
   "metadata": {},
   "outputs": [
    {
     "data": {
      "text/plain": [
       "'C'"
      ]
     },
     "execution_count": 24,
     "metadata": {},
     "output_type": "execute_result"
    }
   ],
   "source": [
    "S2.get_stuName()"
   ]
  },
  {
   "cell_type": "code",
   "execution_count": 25,
   "metadata": {},
   "outputs": [
    {
     "data": {
      "text/plain": [
       "'Yongin'"
      ]
     },
     "execution_count": 25,
     "metadata": {},
     "output_type": "execute_result"
    }
   ],
   "source": [
    "S1.get_stuCity()"
   ]
  },
  {
   "cell_type": "code",
   "execution_count": 26,
   "metadata": {},
   "outputs": [
    {
     "data": {
      "text/plain": [
       "'Seoul'"
      ]
     },
     "execution_count": 26,
     "metadata": {},
     "output_type": "execute_result"
    }
   ],
   "source": [
    "S2.get_stuCity()"
   ]
  },
  {
   "cell_type": "code",
   "execution_count": 27,
   "metadata": {},
   "outputs": [
    {
     "data": {
      "text/plain": [
       "0"
      ]
     },
     "execution_count": 27,
     "metadata": {},
     "output_type": "execute_result"
    }
   ],
   "source": [
    "S1.get_stuScore()"
   ]
  },
  {
   "cell_type": "code",
   "execution_count": 28,
   "metadata": {},
   "outputs": [],
   "source": [
    "S1.set_stuScore(80)"
   ]
  },
  {
   "cell_type": "code",
   "execution_count": 29,
   "metadata": {},
   "outputs": [],
   "source": [
    "S2.set_stuScore(70) #set안하면 0나옴"
   ]
  },
  {
   "cell_type": "code",
   "execution_count": 30,
   "metadata": {},
   "outputs": [
    {
     "data": {
      "text/plain": [
       "70"
      ]
     },
     "execution_count": 30,
     "metadata": {},
     "output_type": "execute_result"
    }
   ],
   "source": [
    "S2.get_stuScore()"
   ]
  },
  {
   "cell_type": "code",
   "execution_count": 31,
   "metadata": {},
   "outputs": [
    {
     "data": {
      "text/plain": [
       "80"
      ]
     },
     "execution_count": 31,
     "metadata": {},
     "output_type": "execute_result"
    }
   ],
   "source": [
    "S1.get_stuScore()"
   ]
  },
  {
   "cell_type": "code",
   "execution_count": 32,
   "metadata": {},
   "outputs": [],
   "source": [
    "import odd_even2"
   ]
  },
  {
   "cell_type": "code",
   "execution_count": 33,
   "metadata": {},
   "outputs": [
    {
     "name": "stdout",
     "output_type": "stream",
     "text": [
      "Even\n"
     ]
    }
   ],
   "source": [
    "odd_even2.checkOddEven(2)"
   ]
  },
  {
   "cell_type": "code",
   "execution_count": 34,
   "metadata": {},
   "outputs": [
    {
     "name": "stdout",
     "output_type": "stream",
     "text": [
      "Odd\n"
     ]
    }
   ],
   "source": [
    "odd_even2.checkOddEven(3)"
   ]
  },
  {
   "cell_type": "code",
   "execution_count": 35,
   "metadata": {},
   "outputs": [],
   "source": [
    "import odd_even2"
   ]
  },
  {
   "cell_type": "code",
   "execution_count": 36,
   "metadata": {},
   "outputs": [],
   "source": [
    "o1 = odd_even2.checkOddEven"
   ]
  },
  {
   "cell_type": "code",
   "execution_count": 37,
   "metadata": {},
   "outputs": [
    {
     "name": "stdout",
     "output_type": "stream",
     "text": [
      "Even\n"
     ]
    }
   ],
   "source": [
    "o1(2)"
   ]
  },
  {
   "cell_type": "code",
   "execution_count": 38,
   "metadata": {},
   "outputs": [
    {
     "name": "stdout",
     "output_type": "stream",
     "text": [
      "Odd\n"
     ]
    }
   ],
   "source": [
    "o1(3)"
   ]
  },
  {
   "cell_type": "code",
   "execution_count": 74,
   "metadata": {},
   "outputs": [
    {
     "name": "stdout",
     "output_type": "stream",
     "text": [
      "Customer = John Bowman\n",
      "Bank = California Savings\n",
      "Account = 5391 0375 9387 5309\n",
      "Limit = 2500\n",
      "Balance = 136\n",
      "New balance = 36\n",
      "\n",
      "Customer = John Bowman\n",
      "Bank = California Federal\n",
      "Account = 3485 0399 3395 1954\n",
      "Limit = 3500\n",
      "Balance = 272\n",
      "New balance = 172\n",
      "New balance = 72\n",
      "\n",
      "Customer = John Bowman\n",
      "Bank = California Finance\n",
      "Account = 5391 0375 9387 5309\n",
      "Limit = 5000\n",
      "Balance = 408\n",
      "New balance = 308\n",
      "New balance = 208\n",
      "New balance = 108\n",
      "New balance = 8\n",
      "\n"
     ]
    }
   ],
   "source": [
    "class CreditCard:\n",
    "  \"\"\"A consumer credit card.\"\"\"\n",
    "  \n",
    "  def __init__(self, customer, bank, acnt, limit):\n",
    "    \"\"\"Create a new credit card instance.\n",
    "\n",
    "    The initial balance is zero.\n",
    "\n",
    "    customer  the name of the customer (e.g., 'John Bowman')\n",
    "    bank      the name of the bank (e.g., 'California Savings')\n",
    "    acnt      the acount identifier (e.g., '5391 0375 9387 5309')\n",
    "    limit     credit limit (measured in dollars)\n",
    "    \"\"\"\n",
    "    self._customer = customer\n",
    "    self._bank = bank\n",
    "    self._account = acnt\n",
    "    self._limit = limit\n",
    "    self._balance = 0\n",
    "\n",
    "  def get_customer(self):\n",
    "    \"\"\"Return name of the customer.\"\"\"\n",
    "    return self._customer\n",
    "    \n",
    "  def get_bank(self):\n",
    "    \"\"\"Return the bank's name.\"\"\"\n",
    "    return self._bank\n",
    "\n",
    "  def get_account(self):\n",
    "    \"\"\"Return the card identifying number (typically stored as a string).\"\"\"\n",
    "    return self._account\n",
    "\n",
    "  def get_limit(self):\n",
    "    \"\"\"Return current credit limit.\"\"\"\n",
    "    return self._limit\n",
    "\n",
    "  def get_balance(self):\n",
    "    \"\"\"Return current balance.\"\"\"\n",
    "    return self._balance\n",
    "\n",
    "  def charge(self, price):\n",
    "    \"\"\"Charge given price to the card, assuming sufficient credit limit.\n",
    "\n",
    "    Return True if charge was processed; False if charge was denied.\n",
    "    \"\"\"\n",
    "    if price + self._balance > self._limit:  # if charge would exceed limit,\n",
    "      return False                           # cannot accept charge\n",
    "    else:\n",
    "      self._balance += price\n",
    "      return True\n",
    "\n",
    "  def make_payment(self, amount):\n",
    "    \"\"\"Process customer payment that reduces balance.\"\"\"\n",
    "    self._balance -= amount\n",
    "\n",
    "if __name__ == '__main__':\n",
    "  wallet = []\n",
    "  wallet.append(CreditCard('John Bowman', 'California Savings',\n",
    "                           '5391 0375 9387 5309', 2500) )\n",
    "  wallet.append(CreditCard('John Bowman', 'California Federal',\n",
    "                           '3485 0399 3395 1954', 3500) )\n",
    "  wallet.append(CreditCard('John Bowman', 'California Finance',\n",
    "                           '5391 0375 9387 5309', 5000) )\n",
    "\n",
    "  for val in range(1, 17):\n",
    "    wallet[0].charge(val)\n",
    "    wallet[1].charge(2*val)\n",
    "    wallet[2].charge(3*val)\n",
    "\n",
    "  for c in range(3):\n",
    "    print('Customer =', wallet[c].get_customer())\n",
    "    print('Bank =', wallet[c].get_bank())\n",
    "    print('Account =', wallet[c].get_account())\n",
    "    print('Limit =', wallet[c].get_limit())\n",
    "    print('Balance =', wallet[c].get_balance())\n",
    "    while wallet[c].get_balance() > 100:\n",
    "      wallet[c].make_payment(100)\n",
    "      print('New balance =', wallet[c].get_balance())\n",
    "    print()"
   ]
  },
  {
   "cell_type": "code",
   "execution_count": 3,
   "metadata": {},
   "outputs": [],
   "source": [
    "class Range:\n",
    "  \"\"\"A class that mimic's the built-in range class.\"\"\"\n",
    "\n",
    "  def __init__(self, start, stop=None, step=1):\n",
    "    \"\"\"Initialize a Range instance.\n",
    "\n",
    "    Semantics is similar to built-in range class.\n",
    "    \"\"\"\n",
    "    if step == 0:\n",
    "      raise ValueError('step cannot be 0')\n",
    "      \n",
    "    if stop is None:                  # special case of range(n)\n",
    "      start, stop = 0, start          # should be treated as if range(0,n)\n",
    "\n",
    "    # calculate the effective length once\n",
    "    self._length = max(0, (stop - start + step - 1) // step)\n",
    "\n",
    "    # need knowledge of start and step (but not stop) to support __getitem__\n",
    "    self._start = start\n",
    "    self._step = step\n",
    "\n",
    "  def __len__(self):\n",
    "    \"\"\"Return number of entries in the range.\"\"\"\n",
    "    return self._length\n",
    "\n",
    "  def __getitem__(self, k):\n",
    "    \"\"\"Return entry at index k (using standard interpretation if negative).\"\"\"\n",
    "    if k < 0:\n",
    "      k += len(self)                  # attempt to convert negative index\n",
    "\n",
    "    if not 0 <= k < self._length:\n",
    "      raise IndexError('index out of range')\n",
    "\n",
    "    return self._start + k * self._step\n"
   ]
  },
  {
   "cell_type": "code",
   "execution_count": 4,
   "metadata": {},
   "outputs": [],
   "source": [
    "r1 = Range(1,9)"
   ]
  },
  {
   "cell_type": "code",
   "execution_count": 5,
   "metadata": {},
   "outputs": [
    {
     "name": "stdout",
     "output_type": "stream",
     "text": [
      "1\n",
      "2\n",
      "3\n",
      "4\n",
      "5\n",
      "6\n",
      "7\n",
      "8\n"
     ]
    }
   ],
   "source": [
    "for i in r1:\n",
    "    print(i)"
   ]
  },
  {
   "cell_type": "code",
   "execution_count": 53,
   "metadata": {},
   "outputs": [],
   "source": [
    "class Student:\n",
    "    def __init__(self, stuName, stuCity):\n",
    "        self.stuName = stuName\n",
    "        self.stuCity = stuCity\n",
    "        self.score = 0\n",
    "    \n",
    "    def get_stuName(self):\n",
    "        return self.stuName\n",
    "    \n",
    "    def get_stuCity(self):\n",
    "        return self.stuCity\n",
    "    \n",
    "    def set_stuScore(self, score):\n",
    "        self.score = score\n",
    "        \n",
    "    def get_stuScore(self):\n",
    "        return self.score\n",
    "    \n",
    "class GraduateStudent(Student):\n",
    "    def __init__(self, stuName, stuCity):\n",
    "        super().__init__(stuName, stuCity)\n",
    "        self.maxCredit = 30\n",
    "        \n",
    "    def getMaxCredit(self):\n",
    "        return self.maxCredit\n",
    "    "
   ]
  },
  {
   "cell_type": "code",
   "execution_count": 54,
   "metadata": {},
   "outputs": [],
   "source": [
    "G1 = GraduateStudent(\"Yahya\", \"Yongin\")"
   ]
  },
  {
   "cell_type": "code",
   "execution_count": 55,
   "metadata": {},
   "outputs": [
    {
     "data": {
      "text/plain": [
       "'Yahya'"
      ]
     },
     "execution_count": 55,
     "metadata": {},
     "output_type": "execute_result"
    }
   ],
   "source": [
    "G1.get_stuName()"
   ]
  },
  {
   "cell_type": "code",
   "execution_count": 56,
   "metadata": {},
   "outputs": [
    {
     "data": {
      "text/plain": [
       "'Yongin'"
      ]
     },
     "execution_count": 56,
     "metadata": {},
     "output_type": "execute_result"
    }
   ],
   "source": [
    "G1.get_stuCity()"
   ]
  },
  {
   "cell_type": "code",
   "execution_count": 57,
   "metadata": {},
   "outputs": [
    {
     "data": {
      "text/plain": [
       "30"
      ]
     },
     "execution_count": 57,
     "metadata": {},
     "output_type": "execute_result"
    }
   ],
   "source": [
    "G1.getMaxCredit()"
   ]
  },
  {
   "cell_type": "code",
   "execution_count": 58,
   "metadata": {},
   "outputs": [],
   "source": [
    "S1 = Student(\"Yahya\", \"Yongin\")"
   ]
  },
  {
   "cell_type": "code",
   "execution_count": 59,
   "metadata": {},
   "outputs": [
    {
     "data": {
      "text/plain": [
       "'Yahya'"
      ]
     },
     "execution_count": 59,
     "metadata": {},
     "output_type": "execute_result"
    }
   ],
   "source": [
    "S1.get_stuName()"
   ]
  },
  {
   "cell_type": "code",
   "execution_count": 60,
   "metadata": {},
   "outputs": [
    {
     "ename": "AttributeError",
     "evalue": "'Student' object has no attribute 'getMaxCredit'",
     "output_type": "error",
     "traceback": [
      "\u001b[1;31m---------------------------------------------------------------------------\u001b[0m",
      "\u001b[1;31mAttributeError\u001b[0m                            Traceback (most recent call last)",
      "\u001b[1;32m<ipython-input-60-3ead89bbb7ce>\u001b[0m in \u001b[0;36m<module>\u001b[1;34m\u001b[0m\n\u001b[1;32m----> 1\u001b[1;33m \u001b[0mS1\u001b[0m\u001b[1;33m.\u001b[0m\u001b[0mgetMaxCredit\u001b[0m\u001b[1;33m(\u001b[0m\u001b[1;33m)\u001b[0m\u001b[1;33m\u001b[0m\u001b[1;33m\u001b[0m\u001b[0m\n\u001b[0m",
      "\u001b[1;31mAttributeError\u001b[0m: 'Student' object has no attribute 'getMaxCredit'"
     ]
    }
   ],
   "source": [
    "S1.getMaxCredit()"
   ]
  },
  {
   "cell_type": "markdown",
   "metadata": {},
   "source": [
    "Example from Book"
   ]
  },
  {
   "cell_type": "code",
   "execution_count": 61,
   "metadata": {},
   "outputs": [
    {
     "name": "stdout",
     "output_type": "stream",
     "text": [
      "Default progression:\n",
      "0 1 2 3 4 5 6 7 8 9\n",
      "Arithmetic progression with increment 5:\n",
      "0 5 10 15 20 25 30 35 40 45\n",
      "Arithmetic progression with increment 5 and start 2:\n",
      "2 7 12 17 22 27 32 37 42 47\n",
      "Geometric progression with default base:\n",
      "1 2 4 8 16 32 64 128 256 512\n",
      "Geometric progression with base 3:\n",
      "1 3 9 27 81 243 729 2187 6561 19683\n",
      "Fibonacci progression with default start values:\n",
      "0 1 1 2 3 5 8 13 21 34\n",
      "Fibonacci progression with start values 4 and 6:\n",
      "4 6 10 16 26 42 68 110 178 288\n"
     ]
    }
   ],
   "source": [
    "class Progression:\n",
    "  \"\"\"Iterator producing a generic progression.\n",
    "\n",
    "  Default iterator produces the whole numbers 0, 1, 2, ...\n",
    "  \"\"\"\n",
    "\n",
    "  def __init__(self, start=0):\n",
    "    \"\"\"Initialize current to the first value of the progression.\"\"\"\n",
    "    self._current = start\n",
    "\n",
    "  def _advance(self):\n",
    "    \"\"\"Update self._current to a new value.\n",
    "\n",
    "    This should be overridden by a subclass to customize progression.\n",
    "\n",
    "    By convention, if current is set to None, this designates the\n",
    "    end of a finite progression.\n",
    "    \"\"\"\n",
    "    self._current += 1\n",
    "\n",
    "  def __next__(self):\n",
    "    \"\"\"Return the next element, or else raise StopIteration error.\"\"\"\n",
    "    if self._current is None:    # our convention to end a progression\n",
    "      raise StopIteration()\n",
    "    else:\n",
    "      answer = self._current     # record current value to return\n",
    "      self._advance()            # advance to prepare for next time\n",
    "      return answer              # return the answer\n",
    "\n",
    "  def __iter__(self):\n",
    "    \"\"\"By convention, an iterator must return itself as an iterator.\"\"\"\n",
    "    return self                  \n",
    "\n",
    "  def print_progression(self, n):\n",
    "    \"\"\"Print next n values of the progression.\"\"\"\n",
    "    print(' '.join(str(next(self)) for j in range(n)))\n",
    "\n",
    "class ArithmeticProgression(Progression):  # inherit from Progression\n",
    "  \"\"\"Iterator producing an arithmetic progression.\"\"\"\n",
    "  \n",
    "  def __init__(self, increment=1, start=0):\n",
    "    \"\"\"Create a new arithmetic progression.\n",
    "\n",
    "    increment  the fixed constant to add to each term (default 1)\n",
    "    start      the first term of the progression (default 0)\n",
    "    \"\"\"\n",
    "    super().__init__(start)                # initialize base class\n",
    "    self._increment = increment\n",
    "\n",
    "  def _advance(self):                      # override inherited version\n",
    "    \"\"\"Update current value by adding the fixed increment.\"\"\"\n",
    "    self._current += self._increment\n",
    "\n",
    "    \n",
    "class GeometricProgression(Progression):   # inherit from Progression\n",
    "  \"\"\"Iterator producing a geometric progression.\"\"\"\n",
    "  \n",
    "  def __init__(self, base=2, start=1):\n",
    "    \"\"\"Create a new geometric progression.\n",
    "\n",
    "    base       the fixed constant multiplied to each term (default 2)\n",
    "    start      the first term of the progression (default 1)\n",
    "    \"\"\"\n",
    "    super().__init__(start)\n",
    "    self._base = base\n",
    "\n",
    "  def _advance(self):                      # override inherited version\n",
    "    \"\"\"Update current value by multiplying it by the base value.\"\"\"\n",
    "    self._current *= self._base\n",
    "\n",
    "\n",
    "class FibonacciProgression(Progression):\n",
    "  \"\"\"Iterator producing a generalized Fibonacci progression.\"\"\"\n",
    "  \n",
    "  def __init__(self, first=0, second=1):\n",
    "    \"\"\"Create a new fibonacci progression.\n",
    "\n",
    "    first      the first term of the progression (default 0)\n",
    "    second     the second term of the progression (default 1)\n",
    "    \"\"\"\n",
    "    super().__init__(first)              # start progression at first\n",
    "    self._prev = second - first          # fictitious value preceding the first\n",
    "\n",
    "  def _advance(self):\n",
    "    \"\"\"Update current value by taking sum of previous two.\"\"\"\n",
    "    self._prev, self._current = self._current, self._prev + self._current\n",
    "\n",
    "\n",
    "if __name__ == '__main__':\n",
    "  print('Default progression:')\n",
    "  Progression().print_progression(10)\n",
    "\n",
    "  print('Arithmetic progression with increment 5:')\n",
    "  ArithmeticProgression(5).print_progression(10)\n",
    "\n",
    "  print('Arithmetic progression with increment 5 and start 2:')\n",
    "  ArithmeticProgression(5, 2).print_progression(10)\n",
    "\n",
    "  print('Geometric progression with default base:')\n",
    "  GeometricProgression().print_progression(10)\n",
    "\n",
    "  print('Geometric progression with base 3:')\n",
    "  GeometricProgression(3).print_progression(10)\n",
    "\n",
    "  print('Fibonacci progression with default start values:')\n",
    "  FibonacciProgression().print_progression(10)\n",
    "  \n",
    "  print('Fibonacci progression with start values 4 and 6:')\n",
    "  FibonacciProgression(4, 6).print_progression(10)"
   ]
  },
  {
   "cell_type": "code",
   "execution_count": null,
   "metadata": {
    "collapsed": true,
    "jupyter": {
     "outputs_hidden": true
    }
   },
   "outputs": [],
   "source": []
  },
  {
   "cell_type": "code",
   "execution_count": null,
   "metadata": {},
   "outputs": [],
   "source": []
  },
  {
   "cell_type": "code",
   "execution_count": null,
   "metadata": {},
   "outputs": [],
   "source": []
  },
  {
   "cell_type": "code",
   "execution_count": null,
   "metadata": {},
   "outputs": [],
   "source": []
  },
  {
   "cell_type": "code",
   "execution_count": null,
   "metadata": {},
   "outputs": [],
   "source": []
  },
  {
   "cell_type": "code",
   "execution_count": null,
   "metadata": {},
   "outputs": [],
   "source": []
  }
 ],
 "metadata": {
  "kernelspec": {
   "display_name": "Python 3",
   "language": "python",
   "name": "python3"
  },
  "language_info": {
   "codemirror_mode": {
    "name": "ipython",
    "version": 3
   },
   "file_extension": ".py",
   "mimetype": "text/x-python",
   "name": "python",
   "nbconvert_exporter": "python",
   "pygments_lexer": "ipython3",
   "version": "3.7.6"
  }
 },
 "nbformat": 4,
 "nbformat_minor": 4
}
