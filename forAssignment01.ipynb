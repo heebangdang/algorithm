{
 "cells": [
  {
   "cell_type": "code",
   "execution_count": 1,
   "metadata": {
    "collapsed": false,
    "jupyter": {
     "outputs_hidden": false
    }
   },
   "outputs": [
    {
     "name": "stdout",
     "output_type": "stream",
     "text": [
      "[-1, 4, -4, 2, -2, 1, 3]\n"
     ]
    }
   ],
   "source": [
    "q = [3, 6, 4, 7, 4, 3, 9]\n",
    "p = [4, 2, 8, 5, 6, 2, 6]\n",
    "\n",
    "i = 0\n",
    "r = []\n",
    "while i < len(q):\n",
    "    r = r + [q[i] - p[i], ] #append\n",
    "    i = i + 1\n",
    "\n",
    "print(r)"
   ]
  },
  {
   "cell_type": "code",
   "execution_count": 3,
   "metadata": {
    "collapsed": false,
    "jupyter": {
     "outputs_hidden": false
    }
   },
   "outputs": [
    {
     "name": "stdin",
     "output_type": "stream",
     "text": [
      "Choose a number : \n",
      " 1. Manhattan Distance \n",
      " 2. Euclidean Distance \n",
      " 2\n"
     ]
    },
    {
     "name": "stdout",
     "output_type": "stream",
     "text": [
      "The result of Euclidean Distance is 7.14142842854285\n"
     ]
    }
   ],
   "source": [
    "num = int(input(\"Choose a number : \\n 1. Manhattan Distance \\n 2. Euclidean Distance \\n\"))\n",
    "if num == 1:\n",
    "    m = 0\n",
    "    i = 0\n",
    "    while i < len(r):\n",
    "        m = m + abs(r[i])\n",
    "        i = i + 1\n",
    "    print(\"The result of Manhattan Distance is\", m)\n",
    "\n",
    "elif num == 2:\n",
    "    e = 0\n",
    "    i = 0\n",
    "    while i < len(r):\n",
    "        e = e + ((r[i])**2)\n",
    "        i = i + 1\n",
    "    print(\"The result of Euclidean Distance is\", e**(1/2))\n",
    "\n",
    "else:\n",
    "    raise ValueError('number should be 1 or 2')\n"
   ]
  },
  {
   "cell_type": "markdown",
   "metadata": {},
   "source": [
    "Big Oh Analysis: O(n)"
   ]
  },
  {
   "cell_type": "code",
   "execution_count": 1,
   "metadata": {},
   "outputs": [],
   "source": [
    "class Book:\n",
    "    def __init__(self, BookID, BookTitle, BookPrice):\n",
    "        self.BookID = BookID\n",
    "        self.BookTitle = BookTitle\n",
    "        self.BookPrice = BookPrice\n",
    "        \n",
    "    def getBookID(self):\n",
    "        return self.BookID\n",
    "    \n",
    "    def getBookTitle(self):\n",
    "        return self.BookTitle\n",
    "    \n",
    "    def getBookPrice(self):\n",
    "        return self.BookPrice\n",
    "    \n",
    "class Magazine(Book):\n",
    "    def __init__(self, BookID, BookTitle, BookPrice, Edition):\n",
    "        super().__init__(BookID, BookTitle, BookPrice)\n",
    "        self.Edition = Edition\n",
    "    \n",
    "    def getEdition(self):\n",
    "        return self.Edition\n",
    "    \n",
    "class Newspaper(Book):\n",
    "    def __init__(self, BookID, BookTitle, BookPrice, Date):\n",
    "        super().__init__(BookID, BookTitle, BookPrice)\n",
    "        self.Date = Date\n",
    "        \n",
    "    def getDate(self):\n",
    "        return self.Date\n",
    "    \n",
    "class Textbook(Book):\n",
    "    def __init__(self, BookID, BookTitle, BookPrice, ISBN):\n",
    "        super().__init__(BookID, BookTitle, BookPrice)\n",
    "        self.ISBN = ISBN\n",
    "        \n",
    "    def getISBN(self):\n",
    "        return self.ISBN"
   ]
  },
  {
   "cell_type": "code",
   "execution_count": 2,
   "metadata": {},
   "outputs": [],
   "source": [
    "m1 = Magazine(\"M001\", \"Sport\", 8000, 32)\n",
    "n1 = Newspaper(\"N001\", \"Korea Times\", 1000, 20180327)\n",
    "t1 = Textbook (\"T001\", \"Data Structure\", 30000, 2039203)"
   ]
  },
  {
   "cell_type": "code",
   "execution_count": 3,
   "metadata": {
    "collapsed": false,
    "jupyter": {
     "outputs_hidden": false
    }
   },
   "outputs": [
    {
     "data": {
      "text/plain": [
       "32"
      ]
     },
     "execution_count": 3,
     "metadata": {},
     "output_type": "execute_result"
    }
   ],
   "source": [
    "m1.getEdition()"
   ]
  },
  {
   "cell_type": "code",
   "execution_count": 4,
   "metadata": {
    "collapsed": false,
    "jupyter": {
     "outputs_hidden": false
    }
   },
   "outputs": [
    {
     "data": {
      "text/plain": [
       "'Korea Times'"
      ]
     },
     "execution_count": 4,
     "metadata": {},
     "output_type": "execute_result"
    }
   ],
   "source": [
    "n1.getBookTitle()"
   ]
  },
  {
   "cell_type": "code",
   "execution_count": 5,
   "metadata": {
    "collapsed": false,
    "jupyter": {
     "outputs_hidden": false
    }
   },
   "outputs": [
    {
     "data": {
      "text/plain": [
       "20180327"
      ]
     },
     "execution_count": 5,
     "metadata": {},
     "output_type": "execute_result"
    }
   ],
   "source": [
    "n1.getDate()"
   ]
  },
  {
   "cell_type": "code",
   "execution_count": 6,
   "metadata": {
    "collapsed": false,
    "jupyter": {
     "outputs_hidden": false
    }
   },
   "outputs": [
    {
     "data": {
      "text/plain": [
       "2039203"
      ]
     },
     "execution_count": 6,
     "metadata": {},
     "output_type": "execute_result"
    }
   ],
   "source": [
    "t1.getISBN()"
   ]
  },
  {
   "cell_type": "code",
   "execution_count": null,
   "metadata": {},
   "outputs": [],
   "source": []
  }
 ],
 "metadata": {
  "kernelspec": {
   "display_name": "Python 3",
   "language": "python",
   "name": "python3"
  },
  "language_info": {
   "codemirror_mode": {
    "name": "ipython",
    "version": 3
   },
   "file_extension": ".py",
   "mimetype": "text/x-python",
   "name": "python",
   "nbconvert_exporter": "python",
   "pygments_lexer": "ipython3",
   "version": "3.7.6"
  }
 },
 "nbformat": 4,
 "nbformat_minor": 4
}
