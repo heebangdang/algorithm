{
 "cells": [
  {
   "cell_type": "code",
   "execution_count": 1,
   "metadata": {},
   "outputs": [],
   "source": [
    "# I have the follwing list\n",
    "#sampleList =[87,45,41,94,65,41,94,99,94]\n",
    "#I am expecting to get the following result\n",
    "#unique items [87,45,41,65,99]\n",
    "# What is the proper code for solving the problem above?\n"
   ]
  },
  {
   "cell_type": "code",
   "execution_count": 7,
   "metadata": {},
   "outputs": [
    {
     "name": "stdout",
     "output_type": "stream",
     "text": [
      "[41 45 65 87 99]\n"
     ]
    }
   ],
   "source": [
    "s = [87,45,41,94,65,41,94,99,94]\n",
    "\n",
    "import numpy as np\n",
    "x = []\n",
    "for i in range(len(s)):\n",
    "    if s.count(s[i])<= 2:\n",
    "        x.append(s[i])\n",
    "print(np.unique(x))"
   ]
  },
  {
   "cell_type": "code",
   "execution_count": 5,
   "metadata": {},
   "outputs": [
    {
     "name": "stdout",
     "output_type": "stream",
     "text": [
      "[87, 45, 41, 65, 99]\n"
     ]
    }
   ],
   "source": [
    "s = [87,45,41,94,65,41,94,99,94]\n",
    "\n",
    "x = []\n",
    "for i in range(len(s)):\n",
    "    if s.count(s[i]) < 2:\n",
    "        x.append(s[i])\n",
    "x.insert(2,41) #인덱스 2에 41이라는 수 추가\n",
    "\n",
    "print(x)"
   ]
  },
  {
   "cell_type": "code",
   "execution_count": 5,
   "metadata": {},
   "outputs": [],
   "source": [
    "#Write a program that checks whether an integer is a palindrome. For example, 121 is a palindrome, as well as 888. 678 is not a palindrome. Do not convert the integer into a string.\n",
    "\n",
    "#Write your program here:\n",
    "\n",
    "#정수가 팔린드롬인지 확인하는 프로그램을 작성하세요. 예를 들어, 121 은 팔린드롬이고, 888. 678 은 팔린드롬이 아니다. 정수를 문자열로 변환하지 마세요.\n",
    "\n",
    "#여기에 당신의 프로그램을 작성하세요"
   ]
  },
  {
   "cell_type": "code",
   "execution_count": 9,
   "metadata": {},
   "outputs": [
    {
     "name": "stdin",
     "output_type": "stream",
     "text": [
      "Enter number:  121\n"
     ]
    },
    {
     "name": "stdout",
     "output_type": "stream",
     "text": [
      "The number is palindrome.\n"
     ]
    }
   ],
   "source": [
    "number = int(input(\"Enter number: \"))\n",
    "reverse = 0\n",
    "\n",
    "temp = number\n",
    "\n",
    "while (temp > 0):\n",
    "  digit = temp % 10\n",
    "  reverse = reverse * 10 + digit\n",
    "  temp = temp // 10\n",
    "\n",
    "\n",
    "if(number == reverse):\n",
    "  print(\"The number is palindrome.\")\n",
    "else:\n",
    "  print(\"The number is not palindrome.\")\n"
   ]
  },
  {
   "cell_type": "code",
   "execution_count": 12,
   "metadata": {},
   "outputs": [],
   "source": [
    "#I have two lists:\n",
    "#color_1 = set([\"White\", \"Black\", \"Red\"])\n",
    "#color_2 = set([\"Red\", \"Green\"])\n",
    "\n",
    "#Write a Python program to print out a set containing all the colors from color_1 which are not present in color_2."
   ]
  },
  {
   "cell_type": "code",
   "execution_count": 15,
   "metadata": {},
   "outputs": [
    {
     "name": "stdout",
     "output_type": "stream",
     "text": [
      "{'White', 'Black'}\n"
     ]
    }
   ],
   "source": [
    "color_1 = set([\"White\", \"Black\", \"Red\"])\n",
    "color_2 = set([\"Red\", \"Green\"])\n",
    "color_3 = color_1 - color_2\n",
    "print(color_3)"
   ]
  },
  {
   "cell_type": "code",
   "execution_count": 19,
   "metadata": {},
   "outputs": [],
   "source": [
    "#아래와 같이 두세트가 있다. 두세트의 교집합과 합집합은?\n",
    "# A = {65, 42, 78, 83, 23, 57, 29}\n",
    "# B = {67, 73, 43, 48, 83, 57, 29}"
   ]
  },
  {
   "cell_type": "code",
   "execution_count": 21,
   "metadata": {},
   "outputs": [
    {
     "name": "stdout",
     "output_type": "stream",
     "text": [
      "{57, 83, 29}\n",
      "{65, 67, 73, 42, 43, 78, 48, 83, 23, 57, 29}\n"
     ]
    }
   ],
   "source": [
    "A = {65, 42, 78, 83, 23, 57, 29}\n",
    "B = {67, 73, 43, 48, 83, 57, 29}\n",
    "\n",
    "Union = A | B\n",
    "Intersec = A & B\n",
    "\n",
    "print(Intersec)\n",
    "print(Union)"
   ]
  },
  {
   "cell_type": "code",
   "execution_count": null,
   "metadata": {},
   "outputs": [],
   "source": []
  }
 ],
 "metadata": {
  "kernelspec": {
   "display_name": "Python 3",
   "language": "python",
   "name": "python3"
  },
  "language_info": {
   "codemirror_mode": {
    "name": "ipython",
    "version": 3
   },
   "file_extension": ".py",
   "mimetype": "text/x-python",
   "name": "python",
   "nbconvert_exporter": "python",
   "pygments_lexer": "ipython3",
   "version": "3.7.6"
  }
 },
 "nbformat": 4,
 "nbformat_minor": 4
}
