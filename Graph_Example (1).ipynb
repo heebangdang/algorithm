{
 "cells": [
  {
   "cell_type": "code",
   "execution_count": 1,
   "metadata": {},
   "outputs": [],
   "source": [
    "#From the chapter 14 (Graph.py)\n",
    "class Graph:\n",
    "  \"\"\"Representation of a simple graph using an adjacency map.\"\"\"\n",
    "\n",
    "  #------------------------- nested Vertex class -------------------------\n",
    "  class Vertex:\n",
    "    \"\"\"Lightweight vertex structure for a graph.\"\"\"\n",
    "    __slots__ = '_element'\n",
    "  \n",
    "    def __init__(self, x):\n",
    "      \"\"\"Do not call constructor directly. Use Graph's insert_vertex(x).\"\"\"\n",
    "      self._element = x\n",
    "  \n",
    "    def element(self):\n",
    "      \"\"\"Return element associated with this vertex.\"\"\"\n",
    "      return self._element\n",
    "  \n",
    "    def __hash__(self):         # will allow vertex to be a map/set key\n",
    "      return hash(id(self))\n",
    "\n",
    "    def __str__(self):\n",
    "      return str(self._element)\n",
    "    \n",
    "  #------------------------- nested Edge class -------------------------\n",
    "  class Edge:\n",
    "    \"\"\"Lightweight edge structure for a graph.\"\"\"\n",
    "    __slots__ = '_origin', '_destination', '_element'\n",
    "  \n",
    "    def __init__(self, u, v, x):\n",
    "      \"\"\"Do not call constructor directly. Use Graph's insert_edge(u,v,x).\"\"\"\n",
    "      self._origin = u\n",
    "      self._destination = v\n",
    "      self._element = x\n",
    "  \n",
    "    def endpoints(self):\n",
    "      \"\"\"Return (u,v) tuple for vertices u and v.\"\"\"\n",
    "      return (self._origin, self._destination)\n",
    "  \n",
    "    def opposite(self, v):\n",
    "      \"\"\"Return the vertex that is opposite v on this edge.\"\"\"\n",
    "      if not isinstance(v, Graph.Vertex):\n",
    "        raise TypeError('v must be a Vertex')\n",
    "      return self._destination if v is self._origin else self._origin\n",
    "      raise ValueError('v not incident to edge')\n",
    "  \n",
    "    def element(self):\n",
    "      \"\"\"Return element associated with this edge.\"\"\"\n",
    "      return self._element\n",
    "  \n",
    "    def __hash__(self):         # will allow edge to be a map/set key\n",
    "      return hash( (self._origin, self._destination) )\n",
    "\n",
    "    def __str__(self):\n",
    "      return '({0},{1},{2})'.format(self._origin,self._destination,self._element)\n",
    "    \n",
    "  #------------------------- Graph methods -------------------------\n",
    "  def __init__(self, directed=False):\n",
    "    \"\"\"Create an empty graph (undirected, by default).\n",
    "\n",
    "    Graph is directed if optional paramter is set to True.\n",
    "    \"\"\"\n",
    "    self._outgoing = {}\n",
    "    # only create second map for directed graph; use alias for undirected\n",
    "    self._incoming = {} if directed else self._outgoing\n",
    "\n",
    "  def _validate_vertex(self, v):\n",
    "    \"\"\"Verify that v is a Vertex of this graph.\"\"\"\n",
    "    if not isinstance(v, self.Vertex):\n",
    "      raise TypeError('Vertex expected')\n",
    "    if v not in self._outgoing:\n",
    "      raise ValueError('Vertex does not belong to this graph.')\n",
    "    \n",
    "  def is_directed(self):\n",
    "    \"\"\"Return True if this is a directed graph; False if undirected.\n",
    "\n",
    "    Property is based on the original declaration of the graph, not its contents.\n",
    "    \"\"\"\n",
    "    return self._incoming is not self._outgoing # directed if maps are distinct\n",
    "\n",
    "  def vertex_count(self):\n",
    "    \"\"\"Return the number of vertices in the graph.\"\"\"\n",
    "    return len(self._outgoing)\n",
    "\n",
    "  def vertices(self):\n",
    "    \"\"\"Return an iteration of all vertices of the graph.\"\"\"\n",
    "    return self._outgoing.keys()\n",
    "\n",
    "  def edge_count(self):\n",
    "    \"\"\"Return the number of edges in the graph.\"\"\"\n",
    "    total = sum(len(self._outgoing[v]) for v in self._outgoing)\n",
    "    # for undirected graphs, make sure not to double-count edges\n",
    "    return total if self.is_directed() else total // 2\n",
    "\n",
    "  def edges(self):\n",
    "    \"\"\"Return a set of all edges of the graph.\"\"\"\n",
    "    result = set()       # avoid double-reporting edges of undirected graph\n",
    "    for secondary_map in self._outgoing.values():\n",
    "      result.update(secondary_map.values())    # add edges to resulting set\n",
    "    return result\n",
    "\n",
    "  def get_edge(self, u, v):\n",
    "    \"\"\"Return the edge from u to v, or None if not adjacent.\"\"\"\n",
    "    self._validate_vertex(u)\n",
    "    self._validate_vertex(v)\n",
    "    return self._outgoing[u].get(v)        # returns None if v not adjacent\n",
    "\n",
    "  def degree(self, v, outgoing=True):   \n",
    "    \"\"\"Return number of (outgoing) edges incident to vertex v in the graph.\n",
    "\n",
    "    If graph is directed, optional parameter used to count incoming edges.\n",
    "    \"\"\"\n",
    "    self._validate_vertex(v)\n",
    "    adj = self._outgoing if outgoing else self._incoming\n",
    "    return len(adj[v])\n",
    "\n",
    "  def incident_edges(self, v, outgoing=True):   \n",
    "    \"\"\"Return all (outgoing) edges incident to vertex v in the graph.\n",
    "\n",
    "    If graph is directed, optional parameter used to request incoming edges.\n",
    "    \"\"\"\n",
    "    self._validate_vertex(v)\n",
    "    adj = self._outgoing if outgoing else self._incoming\n",
    "    for edge in adj[v].values():\n",
    "      yield edge\n",
    "\n",
    "  def insert_vertex(self, x=None):\n",
    "    \"\"\"Insert and return a new Vertex with element x.\"\"\"\n",
    "    v = self.Vertex(x)\n",
    "    self._outgoing[v] = {}\n",
    "    if self.is_directed():\n",
    "      self._incoming[v] = {}        # need distinct map for incoming edges\n",
    "    return v\n",
    "      \n",
    "  def insert_edge(self, u, v, x=None):\n",
    "    \"\"\"Insert and return a new Edge from u to v with auxiliary element x.\n",
    "\n",
    "    Raise a ValueError if u and v are not vertices of the graph.\n",
    "    Raise a ValueError if u and v are already adjacent.\n",
    "    \"\"\"\n",
    "    if self.get_edge(u, v) is not None:      # includes error checking\n",
    "      raise ValueError('u and v are already adjacent')\n",
    "    e = self.Edge(u, v, x)\n",
    "    self._outgoing[u][v] = e\n",
    "    self._incoming[v][u] = e\n"
   ]
  },
  {
   "cell_type": "code",
   "execution_count": 2,
   "metadata": {},
   "outputs": [],
   "source": [
    "#from the chapter 14 (graph_examples.py)\n",
    "\n",
    "def graph_from_edgelist(E, directed=False):\n",
    "  \"\"\"Make a graph instance based on a sequence of edge tuples.\n",
    "\n",
    "  Edges can be either of from (origin,destination) or\n",
    "  (origin,destination,element). Vertex set is presume to be those\n",
    "  incident to at least one edge.\n",
    "\n",
    "  vertex labels are assumed to be hashable.\n",
    "  \"\"\"\n",
    "  g = Graph(directed)\n",
    "  V = set()\n",
    "  for e in E:\n",
    "    V.add(e[0])\n",
    "    V.add(e[1])\n",
    "\n",
    "  verts = {}  # map from vertex label to Vertex instance\n",
    "  for v in V:\n",
    "    verts[v] = g.insert_vertex(v)\n",
    "\n",
    "  for e in E:\n",
    "    src = e[0]\n",
    "    dest = e[1]\n",
    "    element = e[2] if len(e) > 2 else None\n",
    "    g.insert_edge(verts[src],verts[dest],element)\n",
    "\n",
    "  return g\n",
    "\n",
    "def simple_example():\n",
    "    E = (\n",
    "    ('Seoul', 'Daejon'), ('Daejon','Busan'), ('Busan', 'Daejon'),\n",
    "    ('Daejon', 'Suwon'), ('Suwon', 'Seoul'), ('Seoul', 'Gwangju'),\n",
    "    ('Gwangju', 'Suwon'))\n",
    "    return graph_from_edgelist(E, True)\n",
    "\n",
    "\n",
    "\n",
    "def figure_14_3():\n",
    "  \"\"\"Return the unweighted, directed graph from Figure 14.3 of DSAP.\"\"\"\n",
    "  E = (\n",
    "    ('BOS','SFO'), ('BOS','JFK'), ('BOS','MIA'), ('JFK','BOS'),\n",
    "    ('JFK','DFW'), ('JFK','MIA'), ('JFK','SFO'), ('ORD','DFW'),\n",
    "    ('ORD','MIA'), ('LAX','ORD'), ('DFW','SFO'), ('DFW','ORD'),\n",
    "    ('DFW','LAX'), ('MIA','DFW'), ('MIA','LAX'),\n",
    "    )\n",
    "  return graph_from_edgelist(E, True)\n",
    "\n",
    "\n"
   ]
  },
  {
   "cell_type": "code",
   "execution_count": 3,
   "metadata": {},
   "outputs": [],
   "source": [
    "graph_korea = simple_example()"
   ]
  },
  {
   "cell_type": "code",
   "execution_count": 4,
   "metadata": {},
   "outputs": [],
   "source": [
    "#Get the data from incoming (the other is outgoing)\n",
    "incoming = dict(graph_korea._incoming)"
   ]
  },
  {
   "cell_type": "code",
   "execution_count": 5,
   "metadata": {
    "collapsed": false,
    "jupyter": {
     "outputs_hidden": false
    }
   },
   "outputs": [
    {
     "name": "stdout",
     "output_type": "stream",
     "text": [
      "Seoul\n",
      "  Suwon\n",
      "  (Suwon,Seoul,None)\n",
      "Gwangju\n",
      "  Seoul\n",
      "  (Seoul,Gwangju,None)\n",
      "Suwon\n",
      "  Daejon\n",
      "  (Daejon,Suwon,None)\n",
      "  Gwangju\n",
      "  (Gwangju,Suwon,None)\n",
      "Daejon\n",
      "  Seoul\n",
      "  (Seoul,Daejon,None)\n",
      "  Busan\n",
      "  (Busan,Daejon,None)\n",
      "Busan\n",
      "  Daejon\n",
      "  (Daejon,Busan,None)\n"
     ]
    }
   ],
   "source": [
    "for k,v in incoming.items():\n",
    "    print (k.element())\n",
    "    for k1, v1 in v.items():\n",
    "        print (\" \",k1.element())\n",
    "        print (\" \", v1)"
   ]
  },
  {
   "cell_type": "code",
   "execution_count": 6,
   "metadata": {},
   "outputs": [],
   "source": [
    "outgoing = dict(graph_korea._outgoing)"
   ]
  },
  {
   "cell_type": "code",
   "execution_count": 8,
   "metadata": {
    "collapsed": false,
    "jupyter": {
     "outputs_hidden": false
    }
   },
   "outputs": [
    {
     "name": "stdout",
     "output_type": "stream",
     "text": [
      "Busan\n",
      "  Daejon\n",
      "  (Busan,Daejon,None)\n",
      "Daejon\n",
      "  Busan\n",
      "  (Daejon,Busan,None)\n",
      "  Suwon\n",
      "  (Daejon,Suwon,None)\n",
      "Suwon\n",
      "  Seoul\n",
      "  (Suwon,Seoul,None)\n",
      "Gwangju\n",
      "  Suwon\n",
      "  (Gwangju,Suwon,None)\n",
      "Seoul\n",
      "  Daejon\n",
      "  (Seoul,Daejon,None)\n",
      "  Gwangju\n",
      "  (Seoul,Gwangju,None)\n"
     ]
    }
   ],
   "source": [
    "for k,v in outgoing.items():\n",
    "    print (k.element())\n",
    "    for k1, v1 in v.items():\n",
    "        print (\" \",k1.element())\n",
    "        print (\" \", v1)"
   ]
  },
  {
   "cell_type": "markdown",
   "metadata": {},
   "source": [
    "BOS : Boston\n",
    "SFO : San Francisco\n",
    "JFK : John F Kennedy (New York)\n",
    "MIA : Miami\n",
    "DFW : Dallas / Fort Worth\n",
    "LAX : Los Angeles\n",
    "ORD : O'Hare (Illinois)"
   ]
  },
  {
   "cell_type": "code",
   "execution_count": 9,
   "metadata": {},
   "outputs": [],
   "source": [
    "graph1 = figure_14_3()"
   ]
  },
  {
   "cell_type": "code",
   "execution_count": 10,
   "metadata": {},
   "outputs": [],
   "source": [
    "incoming = dict(graph1._incoming)"
   ]
  },
  {
   "cell_type": "code",
   "execution_count": 11,
   "metadata": {
    "collapsed": false,
    "jupyter": {
     "outputs_hidden": false
    }
   },
   "outputs": [
    {
     "name": "stdout",
     "output_type": "stream",
     "text": [
      "BOS\n",
      "  JFK\n",
      "  (JFK,BOS,None)\n",
      "ORD\n",
      "  LAX\n",
      "  (LAX,ORD,None)\n",
      "  DFW\n",
      "  (DFW,ORD,None)\n",
      "MIA\n",
      "  BOS\n",
      "  (BOS,MIA,None)\n",
      "  JFK\n",
      "  (JFK,MIA,None)\n",
      "  ORD\n",
      "  (ORD,MIA,None)\n",
      "SFO\n",
      "  BOS\n",
      "  (BOS,SFO,None)\n",
      "  JFK\n",
      "  (JFK,SFO,None)\n",
      "  DFW\n",
      "  (DFW,SFO,None)\n",
      "DFW\n",
      "  JFK\n",
      "  (JFK,DFW,None)\n",
      "  ORD\n",
      "  (ORD,DFW,None)\n",
      "  MIA\n",
      "  (MIA,DFW,None)\n",
      "JFK\n",
      "  BOS\n",
      "  (BOS,JFK,None)\n",
      "LAX\n",
      "  DFW\n",
      "  (DFW,LAX,None)\n",
      "  MIA\n",
      "  (MIA,LAX,None)\n"
     ]
    }
   ],
   "source": [
    "for k,v in incoming.items():\n",
    "    print (k.element())\n",
    "    for k1, v1 in v.items():\n",
    "        print (\" \",k1.element())\n",
    "        print (\" \", v1)"
   ]
  },
  {
   "cell_type": "code",
   "execution_count": 12,
   "metadata": {},
   "outputs": [],
   "source": [
    "outgoing = dict(graph1._outgoing)"
   ]
  },
  {
   "cell_type": "code",
   "execution_count": 13,
   "metadata": {
    "collapsed": false,
    "jupyter": {
     "outputs_hidden": false
    }
   },
   "outputs": [
    {
     "name": "stdout",
     "output_type": "stream",
     "text": [
      "BOS\n",
      "  SFO\n",
      "  (BOS,SFO,None)\n",
      "  JFK\n",
      "  (BOS,JFK,None)\n",
      "  MIA\n",
      "  (BOS,MIA,None)\n",
      "ORD\n",
      "  DFW\n",
      "  (ORD,DFW,None)\n",
      "  MIA\n",
      "  (ORD,MIA,None)\n",
      "MIA\n",
      "  DFW\n",
      "  (MIA,DFW,None)\n",
      "  LAX\n",
      "  (MIA,LAX,None)\n",
      "SFO\n",
      "DFW\n",
      "  SFO\n",
      "  (DFW,SFO,None)\n",
      "  ORD\n",
      "  (DFW,ORD,None)\n",
      "  LAX\n",
      "  (DFW,LAX,None)\n",
      "JFK\n",
      "  BOS\n",
      "  (JFK,BOS,None)\n",
      "  DFW\n",
      "  (JFK,DFW,None)\n",
      "  MIA\n",
      "  (JFK,MIA,None)\n",
      "  SFO\n",
      "  (JFK,SFO,None)\n",
      "LAX\n",
      "  ORD\n",
      "  (LAX,ORD,None)\n"
     ]
    }
   ],
   "source": [
    "for k,v in outgoing.items():\n",
    "    print (k.element())\n",
    "    for k1, v1 in v.items():\n",
    "        print (\" \",k1.element())\n",
    "        print (\" \", v1)"
   ]
  },
  {
   "cell_type": "code",
   "execution_count": 14,
   "metadata": {},
   "outputs": [],
   "source": [
    "def figure_14_14():\n",
    "  \"\"\"Return the weighted, undirected graph from Figure 14.14 of DSAP.\"\"\"\n",
    "  E = (\n",
    "    ('SFO', 'LAX', 337), ('SFO', 'BOS', 2704), ('SFO', 'ORD', 1846),\n",
    "    ('SFO', 'DFW', 1464), ('LAX', 'DFW', 1235), ('LAX', 'MIA', 2342),\n",
    "    ('DFW', 'ORD', 802), ('DFW', 'MIA', 1121), ('ORD', 'BOS', 867),\n",
    "    ('ORD', 'JFK', 740), ('MIA', 'JFK', 1090), ('MIA', 'BOS', 1258), \n",
    "    ('JFK', 'BOS', 187),\n",
    "    )\n",
    "  return graph_from_edgelist(E, False)"
   ]
  },
  {
   "cell_type": "code",
   "execution_count": 15,
   "metadata": {},
   "outputs": [],
   "source": [
    "graph2 = figure_14_14()"
   ]
  },
  {
   "cell_type": "code",
   "execution_count": 16,
   "metadata": {},
   "outputs": [],
   "source": [
    "incoming = dict(graph2._incoming)"
   ]
  },
  {
   "cell_type": "code",
   "execution_count": 17,
   "metadata": {
    "collapsed": false,
    "jupyter": {
     "outputs_hidden": false
    }
   },
   "outputs": [
    {
     "name": "stdout",
     "output_type": "stream",
     "text": [
      "BOS\n",
      "  SFO\n",
      "  (SFO,BOS,2704)\n",
      "  ORD\n",
      "  (ORD,BOS,867)\n",
      "  MIA\n",
      "  (MIA,BOS,1258)\n",
      "  JFK\n",
      "  (JFK,BOS,187)\n",
      "ORD\n",
      "  SFO\n",
      "  (SFO,ORD,1846)\n",
      "  DFW\n",
      "  (DFW,ORD,802)\n",
      "  BOS\n",
      "  (ORD,BOS,867)\n",
      "  JFK\n",
      "  (ORD,JFK,740)\n",
      "SFO\n",
      "  LAX\n",
      "  (SFO,LAX,337)\n",
      "  BOS\n",
      "  (SFO,BOS,2704)\n",
      "  ORD\n",
      "  (SFO,ORD,1846)\n",
      "  DFW\n",
      "  (SFO,DFW,1464)\n",
      "MIA\n",
      "  LAX\n",
      "  (LAX,MIA,2342)\n",
      "  DFW\n",
      "  (DFW,MIA,1121)\n",
      "  JFK\n",
      "  (MIA,JFK,1090)\n",
      "  BOS\n",
      "  (MIA,BOS,1258)\n",
      "DFW\n",
      "  SFO\n",
      "  (SFO,DFW,1464)\n",
      "  LAX\n",
      "  (LAX,DFW,1235)\n",
      "  ORD\n",
      "  (DFW,ORD,802)\n",
      "  MIA\n",
      "  (DFW,MIA,1121)\n",
      "JFK\n",
      "  ORD\n",
      "  (ORD,JFK,740)\n",
      "  MIA\n",
      "  (MIA,JFK,1090)\n",
      "  BOS\n",
      "  (JFK,BOS,187)\n",
      "LAX\n",
      "  SFO\n",
      "  (SFO,LAX,337)\n",
      "  DFW\n",
      "  (LAX,DFW,1235)\n",
      "  MIA\n",
      "  (LAX,MIA,2342)\n"
     ]
    }
   ],
   "source": [
    "for k,v in incoming.items():\n",
    "    print (k.element())\n",
    "    for k1, v1 in v.items():\n",
    "        print (\" \",k1.element())\n",
    "        print (\" \", v1)"
   ]
  },
  {
   "cell_type": "markdown",
   "metadata": {},
   "source": [
    "# Depth-First Search"
   ]
  },
  {
   "cell_type": "code",
   "execution_count": 18,
   "metadata": {},
   "outputs": [],
   "source": [
    "#From Chapter 14 (dfs.py)\n",
    "def DFS(g, u, discovered):\n",
    "  \"\"\"Perform DFS of the undiscovered portion of Graph g starting at Vertex u.\n",
    "\n",
    "  discovered is a dictionary mapping each vertex to the edge that was used to\n",
    "  discover it during the DFS. (u should be \"discovered\" prior to the call.)\n",
    "  Newly discovered vertices will be added to the dictionary as a result.\n",
    "  \"\"\"\n",
    "  for e in g.incident_edges(u):    # for every outgoing edge from u\n",
    "    v = e.opposite(u)\n",
    "    if v not in discovered:        # v is an unvisited vertex\n",
    "      discovered[v] = e            # e is the tree edge that discovered v\n",
    "      DFS(g, v, discovered)        # recursively explore from v\n",
    "\n",
    "def construct_path(u, v, discovered):\n",
    "  \"\"\"\n",
    "  Return a list of vertices comprising the directed path from u to v,\n",
    "  or an empty list if v is not reachable from u.\n",
    "\n",
    "  discovered is a dictionary resulting from a previous call to DFS started at u.\n",
    "  \"\"\"\n",
    "  path = []                        # empty path by default\n",
    "  if v in discovered:\n",
    "    # we build list from v to u and then reverse it at the end\n",
    "    path.append(v)\n",
    "    walk = v\n",
    "    while walk is not u:\n",
    "      e = discovered[walk]         # find edge leading to walk\n",
    "      parent = e.opposite(walk)\n",
    "      path.append(parent)\n",
    "      walk = parent\n",
    "    path.reverse()                 # reorient path from u to v\n",
    "  return path\n",
    "\n",
    "def DFS_complete(g):\n",
    "  \"\"\"Perform DFS for entire graph and return forest as a dictionary.\n",
    "\n",
    "  Result maps each vertex v to the edge that was used to discover it.\n",
    "  (Vertices that are roots of a DFS tree are mapped to None.)\n",
    "  \"\"\"\n",
    "  forest = {}\n",
    "  for u in g.vertices():\n",
    "    if u not in forest:\n",
    "      forest[u] = None             # u will be the root of a tree\n",
    "      DFS(g, u, forest)\n",
    "  return forest\n"
   ]
  },
  {
   "cell_type": "code",
   "execution_count": 19,
   "metadata": {},
   "outputs": [],
   "source": [
    "dfs_incoming_simple = DFS_complete(graph_korea)"
   ]
  },
  {
   "cell_type": "code",
   "execution_count": 20,
   "metadata": {
    "collapsed": false,
    "jupyter": {
     "outputs_hidden": false
    }
   },
   "outputs": [
    {
     "name": "stdout",
     "output_type": "stream",
     "text": [
      "Busan\n",
      "  None\n",
      "Daejon\n",
      "  (Busan,Daejon,None)\n",
      "Suwon\n",
      "  (Daejon,Suwon,None)\n",
      "Seoul\n",
      "  (Suwon,Seoul,None)\n",
      "Gwangju\n",
      "  (Seoul,Gwangju,None)\n"
     ]
    }
   ],
   "source": [
    "for k, v in dfs_incoming_simple.items():\n",
    "    print (k.element())\n",
    "    print (\" \",v)"
   ]
  },
  {
   "cell_type": "code",
   "execution_count": 21,
   "metadata": {},
   "outputs": [],
   "source": [
    "dfs_incoming = DFS_complete(graph1) #, list_incoming[0])"
   ]
  },
  {
   "cell_type": "code",
   "execution_count": 22,
   "metadata": {
    "collapsed": false,
    "jupyter": {
     "outputs_hidden": false
    }
   },
   "outputs": [
    {
     "name": "stdout",
     "output_type": "stream",
     "text": [
      "BOS\n",
      "  None\n",
      "SFO\n",
      "  (BOS,SFO,None)\n",
      "JFK\n",
      "  (BOS,JFK,None)\n",
      "DFW\n",
      "  (JFK,DFW,None)\n",
      "ORD\n",
      "  (DFW,ORD,None)\n",
      "MIA\n",
      "  (ORD,MIA,None)\n",
      "LAX\n",
      "  (MIA,LAX,None)\n"
     ]
    }
   ],
   "source": [
    "for k, v in dfs_incoming.items():\n",
    "    print (k.element())\n",
    "    print (\" \",v)"
   ]
  },
  {
   "cell_type": "code",
   "execution_count": 23,
   "metadata": {},
   "outputs": [],
   "source": [
    "dfs_incoming2 = DFS_complete(graph2)"
   ]
  },
  {
   "cell_type": "code",
   "execution_count": 24,
   "metadata": {
    "collapsed": false,
    "jupyter": {
     "outputs_hidden": false
    }
   },
   "outputs": [
    {
     "name": "stdout",
     "output_type": "stream",
     "text": [
      "BOS\n",
      "  None\n",
      "SFO\n",
      "  (SFO,BOS,2704)\n",
      "LAX\n",
      "  (SFO,LAX,337)\n",
      "DFW\n",
      "  (LAX,DFW,1235)\n",
      "ORD\n",
      "  (DFW,ORD,802)\n",
      "JFK\n",
      "  (ORD,JFK,740)\n",
      "MIA\n",
      "  (MIA,JFK,1090)\n"
     ]
    }
   ],
   "source": [
    "for k, v in dfs_incoming2.items():\n",
    "    print (k.element())\n",
    "    print (\" \",v)"
   ]
  },
  {
   "cell_type": "markdown",
   "metadata": {},
   "source": [
    "# Breadth First Search"
   ]
  },
  {
   "cell_type": "code",
   "execution_count": 25,
   "metadata": {},
   "outputs": [],
   "source": [
    "# Copyright 2013, Michael H. Goldwasser\n",
    "#\n",
    "# Developed for use with the book:\n",
    "#\n",
    "#    Data Structures and Algorithms in Python\n",
    "#    Michael T. Goodrich, Roberto Tamassia, and Michael H. Goldwasser\n",
    "#    John Wiley & Sons, 2013\n",
    "#\n",
    "# This program is free software: you can redistribute it and/or modify\n",
    "# it under the terms of the GNU General Public License as published by\n",
    "# the Free Software Foundation, either version 3 of the License, or\n",
    "# (at your option) any later version.\n",
    "#\n",
    "# This program is distributed in the hope that it will be useful,\n",
    "# but WITHOUT ANY WARRANTY; without even the implied warranty of\n",
    "# MERCHANTABILITY or FITNESS FOR A PARTICULAR PURPOSE.  See the\n",
    "# GNU General Public License for more details.\n",
    "#\n",
    "# You should have received a copy of the GNU General Public License\n",
    "# along with this program.  If not, see <http://www.gnu.org/licenses/>.\n",
    "\n",
    "def BFS(g, s, discovered):\n",
    "  \"\"\"Perform BFS of the undiscovered portion of Graph g starting at Vertex s.\n",
    "\n",
    "  discovered is a dictionary mapping each vertex to the edge that was used to\n",
    "  discover it during the BFS (s should be mapped to None prior to the call).\n",
    "  Newly discovered vertices will be added to the dictionary as a result.\n",
    "  \"\"\"\n",
    "  level = [s]                        # first level includes only s\n",
    "  while len(level) > 0:\n",
    "    next_level = []                  # prepare to gather newly found vertices\n",
    "    for u in level:\n",
    "      for e in g.incident_edges(u):  # for every outgoing edge from u\n",
    "        v = e.opposite(u)\n",
    "        if v not in discovered:      # v is an unvisited vertex\n",
    "          discovered[v] = e          # e is the tree edge that discovered v\n",
    "          next_level.append(v)       # v will be further considered in next pass\n",
    "    level = next_level               # relabel 'next' level to become current\n",
    "\n",
    "def BFS_complete(g):\n",
    "  \"\"\"Perform BFS for entire graph and return forest as a dictionary.\n",
    "\n",
    "  Result maps each vertex v to the edge that was used to discover it.\n",
    "  (vertices that are roots of a BFS tree are mapped to None).\n",
    "  \"\"\"\n",
    "  forest = {}\n",
    "  for u in g.vertices():\n",
    "    if u not in forest:\n",
    "      forest[u] = None            # u will be a root of a tree\n",
    "      BFS(g, u, forest)\n",
    "  return forest\n"
   ]
  },
  {
   "cell_type": "code",
   "execution_count": 26,
   "metadata": {},
   "outputs": [],
   "source": [
    "bfs_incoming_simple = BFS_complete(graph_korea)"
   ]
  },
  {
   "cell_type": "code",
   "execution_count": 27,
   "metadata": {},
   "outputs": [
    {
     "name": "stdout",
     "output_type": "stream",
     "text": [
      "Busan\n",
      "  None\n",
      "Daejon\n",
      "  (Busan,Daejon,None)\n",
      "Suwon\n",
      "  (Daejon,Suwon,None)\n",
      "Seoul\n",
      "  (Suwon,Seoul,None)\n",
      "Gwangju\n",
      "  (Seoul,Gwangju,None)\n"
     ]
    }
   ],
   "source": [
    "for k, v in bfs_incoming_simple.items():\n",
    "    print (k.element())\n",
    "    print (\" \",v)"
   ]
  },
  {
   "cell_type": "code",
   "execution_count": 28,
   "metadata": {},
   "outputs": [],
   "source": [
    "bfs_incoming = BFS_complete(graph1) #, list_incoming[0])"
   ]
  },
  {
   "cell_type": "code",
   "execution_count": 29,
   "metadata": {},
   "outputs": [
    {
     "name": "stdout",
     "output_type": "stream",
     "text": [
      "BOS\n",
      "  None\n",
      "SFO\n",
      "  (BOS,SFO,None)\n",
      "JFK\n",
      "  (BOS,JFK,None)\n",
      "MIA\n",
      "  (BOS,MIA,None)\n",
      "DFW\n",
      "  (JFK,DFW,None)\n",
      "LAX\n",
      "  (MIA,LAX,None)\n",
      "ORD\n",
      "  (DFW,ORD,None)\n"
     ]
    }
   ],
   "source": [
    "for k, v in bfs_incoming.items():\n",
    "    print (k.element())\n",
    "    print (\" \",v)"
   ]
  },
  {
   "cell_type": "code",
   "execution_count": 30,
   "metadata": {},
   "outputs": [],
   "source": [
    "bfs_incoming2 = BFS_complete(graph2)"
   ]
  },
  {
   "cell_type": "code",
   "execution_count": 31,
   "metadata": {
    "collapsed": false,
    "jupyter": {
     "outputs_hidden": false
    }
   },
   "outputs": [
    {
     "name": "stdout",
     "output_type": "stream",
     "text": [
      "BOS\n",
      "  None\n",
      "SFO\n",
      "  (SFO,BOS,2704)\n",
      "ORD\n",
      "  (ORD,BOS,867)\n",
      "MIA\n",
      "  (MIA,BOS,1258)\n",
      "JFK\n",
      "  (JFK,BOS,187)\n",
      "LAX\n",
      "  (SFO,LAX,337)\n",
      "DFW\n",
      "  (SFO,DFW,1464)\n"
     ]
    }
   ],
   "source": [
    "for k, v in bfs_incoming2.items():\n",
    "    print (k.element())\n",
    "    print (\" \",v)"
   ]
  },
  {
   "cell_type": "markdown",
   "metadata": {},
   "source": [
    "## Create a graph randomly"
   ]
  },
  {
   "cell_type": "code",
   "execution_count": 32,
   "metadata": {},
   "outputs": [],
   "source": [
    "import networkx as nx"
   ]
  },
  {
   "cell_type": "code",
   "execution_count": 33,
   "metadata": {},
   "outputs": [],
   "source": [
    "from networkx import gnm_random_graph\n",
    "\n",
    "n = 10  # 10 nodes\n",
    "m = 30  # 30 edges\n",
    "\n",
    "G = gnm_random_graph(n, m)\n",
    "\n",
    "# iterate over all edges\n",
    "with open('./test.edgelist', 'w') as f:\n",
    "    for edge in G.edges():\n",
    "        f.write(\"g1.addEdge{0}\\n\".format(edge))"
   ]
  },
  {
   "cell_type": "markdown",
   "metadata": {},
   "source": [
    "Create 10 nodes and 30 edges"
   ]
  },
  {
   "cell_type": "code",
   "execution_count": 44,
   "metadata": {},
   "outputs": [],
   "source": [
    "from networkx import gnm_random_graph\n",
    "\n",
    "n = 10  # 10 nodes\n",
    "m = 30  # 30 edges\n",
    "\n",
    "G = gnm_random_graph(n, m)\n",
    "\n",
    "# iterate over all edges\n",
    "LL = [] #list of data라는 뜻\n",
    "for edge in G.edges():\n",
    "    LL.append(edge)"
   ]
  },
  {
   "cell_type": "markdown",
   "metadata": {},
   "source": [
    "For generating the graph, the list is converted into tuple."
   ]
  },
  {
   "cell_type": "code",
   "execution_count": 45,
   "metadata": {},
   "outputs": [],
   "source": [
    "LLTuple = tuple(LL)"
   ]
  },
  {
   "cell_type": "code",
   "execution_count": 46,
   "metadata": {},
   "outputs": [
    {
     "data": {
      "text/plain": [
       "((0, 7),\n",
       " (0, 3),\n",
       " (0, 9),\n",
       " (0, 2),\n",
       " (0, 1),\n",
       " (1, 3),\n",
       " (1, 7),\n",
       " (1, 5),\n",
       " (1, 2),\n",
       " (2, 5),\n",
       " (2, 7),\n",
       " (2, 6),\n",
       " (2, 8),\n",
       " (2, 4),\n",
       " (3, 4),\n",
       " (3, 5),\n",
       " (3, 6),\n",
       " (3, 7),\n",
       " (3, 9),\n",
       " (3, 8),\n",
       " (4, 8),\n",
       " (4, 9),\n",
       " (4, 5),\n",
       " (4, 7),\n",
       " (5, 7),\n",
       " (5, 8),\n",
       " (6, 7),\n",
       " (6, 9),\n",
       " (7, 8),\n",
       " (7, 9))"
      ]
     },
     "execution_count": 46,
     "metadata": {},
     "output_type": "execute_result"
    }
   ],
   "source": [
    "LLTuple"
   ]
  },
  {
   "cell_type": "markdown",
   "metadata": {},
   "source": [
    "The graph is generated using the function `graph_from_edgelist`"
   ]
  },
  {
   "cell_type": "code",
   "execution_count": 47,
   "metadata": {},
   "outputs": [],
   "source": [
    "graph_random01 = graph_from_edgelist(LLTuple, True)"
   ]
  },
  {
   "cell_type": "markdown",
   "metadata": {},
   "source": [
    "As we learnt in the Chapter 03, we can calculate the run time of an algorithm"
   ]
  },
  {
   "cell_type": "code",
   "execution_count": 48,
   "metadata": {},
   "outputs": [],
   "source": [
    "# from time import time\n",
    "# def run_time(fn, S):\n",
    "#     start_time = time()\n",
    "#     fn(S)\n",
    "#     end_time = time()\n",
    "#     elapsed = end_time - start_time\n",
    "#     return elapsed"
   ]
  },
  {
   "cell_type": "markdown",
   "metadata": {},
   "source": [
    "Create the 2nd random graph with nodes = 100 and edges = 300"
   ]
  },
  {
   "cell_type": "code",
   "execution_count": 49,
   "metadata": {},
   "outputs": [],
   "source": [
    "n = 100  # 100 nodes\n",
    "m = 300  # 300 edges\n",
    "\n",
    "G100 = gnm_random_graph(n, m)\n",
    "\n",
    "# iterate over all edges\n",
    "LL100 = []\n",
    "for edge in G100.edges():\n",
    "    LL100.append(edge)\n",
    "\n",
    "LLT100 = tuple(LL100)\n",
    "graph_random02 = graph_from_edgelist(LLT100, True)    "
   ]
  },
  {
   "cell_type": "markdown",
   "metadata": {},
   "source": [
    "Create the 3rd random graph with nodes = 1000 and edges = 3000"
   ]
  },
  {
   "cell_type": "code",
   "execution_count": 50,
   "metadata": {},
   "outputs": [],
   "source": [
    "n = 1000  # 1000 nodes\n",
    "m = 3000  # 3000 edges\n",
    "\n",
    "G1000 = gnm_random_graph(n, m)\n",
    "\n",
    "# iterate over all edges\n",
    "LL1000 = []\n",
    "for edge in G1000.edges():\n",
    "    LL1000.append(edge)\n",
    "\n",
    "LLT1000 = tuple(LL1000)\n",
    "graph_random03 = graph_from_edgelist(LLT1000, True)  "
   ]
  },
  {
   "cell_type": "markdown",
   "metadata": {},
   "source": [
    "We can check the runtime performance test for DFS"
   ]
  },
  {
   "cell_type": "code",
   "execution_count": 52,
   "metadata": {},
   "outputs": [],
   "source": [
    "from time import time\n",
    "def run_time(fn):\n",
    "    start_time = time()\n",
    "    DFS_complete(fn)\n",
    "    end_time = time()\n",
    "    elapsed = end_time - start_time\n",
    "    return elapsed\n"
   ]
  },
  {
   "cell_type": "markdown",
   "metadata": {},
   "source": [
    "Suppose we want to check the runtime performance of 5 data;\n",
    "- graph_korea\n",
    "- graph_random01\n",
    "- graph_random02\n",
    "- graph_random03\n",
    "- graph_random04"
   ]
  },
  {
   "cell_type": "code",
   "execution_count": 53,
   "metadata": {},
   "outputs": [],
   "source": [
    "t1 = run_time(graph_korea)"
   ]
  },
  {
   "cell_type": "code",
   "execution_count": 54,
   "metadata": {},
   "outputs": [],
   "source": [
    "t2 = run_time(graph_random01)"
   ]
  },
  {
   "cell_type": "code",
   "execution_count": 55,
   "metadata": {},
   "outputs": [],
   "source": [
    "t3 = run_time(graph_random02)"
   ]
  },
  {
   "cell_type": "code",
   "execution_count": 56,
   "metadata": {},
   "outputs": [],
   "source": [
    "t4 = run_time(graph_random03)"
   ]
  },
  {
   "cell_type": "code",
   "execution_count": 57,
   "metadata": {},
   "outputs": [
    {
     "data": {
      "text/plain": [
       "0.009971141815185547"
      ]
     },
     "execution_count": 57,
     "metadata": {},
     "output_type": "execute_result"
    }
   ],
   "source": [
    "t4 #check the time performance of graph_random03"
   ]
  },
  {
   "cell_type": "markdown",
   "metadata": {},
   "source": [
    "Create one more random data with node = 10000 and edges = 30000"
   ]
  },
  {
   "cell_type": "code",
   "execution_count": 58,
   "metadata": {},
   "outputs": [],
   "source": [
    "n = 10000  # 10000 nodes\n",
    "m = 30000  # 30000 edges\n",
    "\n",
    "G10000 = gnm_random_graph(n, m)\n",
    "\n",
    "# iterate over all edges\n",
    "LL10000 = []\n",
    "for edge in G10000.edges():\n",
    "    LL10000.append(edge)\n",
    "\n",
    "LLT10000 = tuple(LL10000)\n",
    "graph_random04 = graph_from_edgelist(LLT10000, True)  "
   ]
  },
  {
   "cell_type": "code",
   "execution_count": 59,
   "metadata": {},
   "outputs": [],
   "source": [
    "t5 = run_time(graph_random04)"
   ]
  },
  {
   "cell_type": "code",
   "execution_count": 60,
   "metadata": {},
   "outputs": [
    {
     "data": {
      "text/plain": [
       "0.10204529762268066"
      ]
     },
     "execution_count": 60,
     "metadata": {},
     "output_type": "execute_result"
    }
   ],
   "source": [
    "t5"
   ]
  },
  {
   "cell_type": "markdown",
   "metadata": {},
   "source": [
    "Append the data into a list for data plot"
   ]
  },
  {
   "cell_type": "code",
   "execution_count": 61,
   "metadata": {},
   "outputs": [],
   "source": [
    "testDFS = []\n",
    "testDFS.append(t1)\n",
    "testDFS.append(t2)\n",
    "testDFS.append(t3)\n",
    "testDFS.append(t4)\n",
    "testDFS.append(t5)\n"
   ]
  },
  {
   "cell_type": "markdown",
   "metadata": {},
   "source": [
    "We want to compare the performance of DFS and BFS. Therefore, we need to check the runtime performance for BFS as well. "
   ]
  },
  {
   "cell_type": "code",
   "execution_count": 62,
   "metadata": {},
   "outputs": [],
   "source": [
    "def run_time(fn):\n",
    "    start_time = time()\n",
    "    BFS_complete(fn)\n",
    "    end_time = time()\n",
    "    elapsed = end_time - start_time\n",
    "    return elapsed"
   ]
  },
  {
   "cell_type": "code",
   "execution_count": 63,
   "metadata": {},
   "outputs": [],
   "source": [
    "s1 = run_time(graph_korea)\n",
    "s2 = run_time(graph_random01)\n",
    "s3 = run_time(graph_random02)\n",
    "s4 = run_time(graph_random03)\n",
    "s5 = run_time(graph_random04)"
   ]
  },
  {
   "cell_type": "code",
   "execution_count": 64,
   "metadata": {},
   "outputs": [],
   "source": [
    "testBFS = []\n",
    "testBFS.append(s1)\n",
    "testBFS.append(s2)\n",
    "testBFS.append(s3)\n",
    "testBFS.append(s4)\n",
    "testBFS.append(s5)"
   ]
  },
  {
   "cell_type": "markdown",
   "metadata": {},
   "source": [
    "After getting the runtime for both DFS and BFS, we can plot and compare the time performance of both algorithms"
   ]
  },
  {
   "cell_type": "markdown",
   "metadata": {},
   "source": [
    "First, set the X axis by defining the number of data."
   ]
  },
  {
   "cell_type": "code",
   "execution_count": 65,
   "metadata": {},
   "outputs": [],
   "source": [
    "x = [5, 10, 100, 1000, 10000]"
   ]
  },
  {
   "cell_type": "markdown",
   "metadata": {},
   "source": [
    "Check the testDFS list for the time performance of DFS algorithm"
   ]
  },
  {
   "cell_type": "code",
   "execution_count": 66,
   "metadata": {},
   "outputs": [
    {
     "data": {
      "text/plain": [
       "[0.0, 0.0, 0.0009961128234863281, 0.009971141815185547, 0.10204529762268066]"
      ]
     },
     "execution_count": 66,
     "metadata": {},
     "output_type": "execute_result"
    }
   ],
   "source": [
    "testDFS"
   ]
  },
  {
   "cell_type": "markdown",
   "metadata": {},
   "source": [
    "Using the library matplotlib, we can plot the time performance of DFS"
   ]
  },
  {
   "cell_type": "code",
   "execution_count": 67,
   "metadata": {},
   "outputs": [
    {
     "data": {
      "image/png": "[encoded data removed]",
      "text/plain": [
       "<Figure size 432x288 with 1 Axes>"
      ]
     },
     "metadata": {
      "needs_background": "light"
     },
     "output_type": "display_data"
    }
   ],
   "source": [
    "%matplotlib inline\n",
    "import matplotlib.pyplot as plt\n",
    "import pylab\n",
    "\n",
    "pylab.xlabel('# data')\n",
    "pylab.ylabel('Time')\n",
    "\n",
    "plt.title(\"DFS\")\n",
    "plt.plot(x, testDFS, \"ro-\")\n",
    "plt.show()"
   ]
  },
  {
   "cell_type": "markdown",
   "metadata": {},
   "source": [
    "In order to compare with BFS, we can plot the two time performance into one graph. DFS will be plotted using RED and BFS will be plotted using BLUE."
   ]
  },
  {
   "cell_type": "code",
   "execution_count": 68,
   "metadata": {},
   "outputs": [
    {
     "data": {
      "image/png": "[encoded data removed]",
      "text/plain": [
       "<Figure size 432x288 with 1 Axes>"
      ]
     },
     "metadata": {
      "needs_background": "light"
     },
     "output_type": "display_data"
    }
   ],
   "source": [
    "pylab.xlabel('# data')\n",
    "pylab.ylabel('Time')\n",
    "\n",
    "plt.title(\"DFS vs BFS\")\n",
    "plt.plot(x, testDFS, \"ro-\", c=\"red\")\n",
    "plt.plot(x, testBFS, \"ro-\",c=\"blue\")\n",
    "plt.legend([\"DFS\", \"BFS\"], loc='upper left')\n",
    "plt.show()"
   ]
  },
  {
   "cell_type": "markdown",
   "metadata": {},
   "source": [
    "In conclusion, the time performance of BFS is slightly higher than DFS when the number of data increases."
   ]
  },
  {
   "cell_type": "markdown",
   "metadata": {},
   "source": [
    "I am using laptop with the specification i5 with 16Gb RAM\n",
    "Big Oh is the thing we need to consider for this kind analysis"
   ]
  },
  {
   "cell_type": "code",
   "execution_count": null,
   "metadata": {},
   "outputs": [],
   "source": []
  }
 ],
 "metadata": {
  "kernelspec": {
   "display_name": "Python 3",
   "language": "python",
   "name": "python3"
  },
  "language_info": {
   "codemirror_mode": {
    "name": "ipython",
    "version": 3
   },
   "file_extension": ".py",
   "mimetype": "text/x-python",
   "name": "python",
   "nbconvert_exporter": "python",
   "pygments_lexer": "ipython3",
   "version": "3.7.6"
  }
 },
 "nbformat": 4,
 "nbformat_minor": 4
}
