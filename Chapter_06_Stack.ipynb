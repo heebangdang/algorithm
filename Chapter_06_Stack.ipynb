{
 "cells": [
  {
   "cell_type": "code",
   "execution_count": 1,
   "metadata": {},
   "outputs": [
    {
     "name": "stdout",
     "output_type": "stream",
     "text": [
      "2\n",
      "3\n",
      "False\n",
      "5\n",
      "True\n",
      "9\n",
      "3\n",
      "4\n",
      "8\n"
     ]
    }
   ],
   "source": [
    "# Copyright 2013, Michael H. Goldwasser\n",
    "#\n",
    "# Developed for use with the book:\n",
    "#\n",
    "#    Data Structures and Algorithms in Python\n",
    "#    Michael T. Goodrich, Roberto Tamassia, and Michael H. Goldwasser\n",
    "#    John Wiley & Sons, 2013\n",
    "#\n",
    "# This program is free software: you can redistribute it and/or modify\n",
    "# it under the terms of the GNU General Public License as published by\n",
    "# the Free Software Foundation, either version 3 of the License, or\n",
    "# (at your option) any later version.\n",
    "#\n",
    "# This program is distributed in the hope that it will be useful,\n",
    "# but WITHOUT ANY WARRANTY; without even the implied warranty of\n",
    "# MERCHANTABILITY or FITNESS FOR A PARTICULAR PURPOSE.  See the\n",
    "# GNU General Public License for more details.\n",
    "#\n",
    "# You should have received a copy of the GNU General Public License\n",
    "# along with this program.  If not, see <http://www.gnu.org/licenses/>.\n",
    "\n",
    "\"\"\"Basic example of an adapter class to provide a stack interface to Python's list.\"\"\"\n",
    "\n",
    "#from ..exceptions import Empty\n",
    "\n",
    "class ArrayStack:\n",
    "  \"\"\"LIFO Stack implementation using a Python list as underlying storage.\"\"\"\n",
    "\n",
    "  def __init__(self):\n",
    "    \"\"\"Create an empty stack.\"\"\"\n",
    "    self._data = []                       # nonpublic list instance\n",
    "\n",
    "  def __len__(self):\n",
    "    \"\"\"Return the number of elements in the stack.\"\"\"\n",
    "    return len(self._data)\n",
    "\n",
    "  def is_empty(self):\n",
    "    \"\"\"Return True if the stack is empty.\"\"\"\n",
    "    return len(self._data) == 0\n",
    "\n",
    "  def push(self, e):\n",
    "    \"\"\"Add element e to the top of the stack.\"\"\"\n",
    "    self._data.append(e)                  # new item stored at end of list\n",
    "\n",
    "  def top(self):\n",
    "    \"\"\"Return (but do not remove) the element at the top of the stack.\n",
    "\n",
    "    Raise Empty exception if the stack is empty.\n",
    "    \"\"\"\n",
    "    if self.is_empty():\n",
    "      raise Exception('Stack is empty')\n",
    "    return self._data[-1]                 # the last item in the list\n",
    "\n",
    "  def pop(self):\n",
    "    \"\"\"Remove and return the element from the top of the stack (i.e., LIFO).\n",
    "\n",
    "    Raise Empty exception if the stack is empty.\n",
    "    \"\"\"\n",
    "    if self.is_empty():\n",
    "      raise Exception('Stack is empty')\n",
    "    return self._data.pop()               # remove last item from list\n",
    "\n",
    "if __name__ == '__main__':\n",
    "  S = ArrayStack()                 # contents: [ ]\n",
    "  S.push(5)                        # contents: [5]\n",
    "  S.push(3)                        # contents: [5, 3]\n",
    "  print(len(S))                    # contents: [5, 3];    outputs 2\n",
    "  print(S.pop())                   # contents: [5];       outputs 3\n",
    "  print(S.is_empty())              # contents: [5];       outputs False\n",
    "  print(S.pop())                   # contents: [ ];       outputs 5\n",
    "  print(S.is_empty())              # contents: [ ];       outputs True\n",
    "  S.push(7)                        # contents: [7]\n",
    "  S.push(9)                        # contents: [7, 9]\n",
    "  print(S.top())                   # contents: [7, 9];    outputs 9\n",
    "  S.push(4)                        # contents: [7, 9, 4]\n",
    "  print(len(S))                    # contents: [7, 9, 4]; outputs 3\n",
    "  print(S.pop())                   # contents: [7, 9];    outputs 4\n",
    "  S.push(6)                        # contents: [7, 9, 6]\n",
    "  S.push(8)                        # contents: [7, 9, 6, 8]\n",
    "  print(S.pop())                   # contents: [7, 9, 6]; outputs 8\n"
   ]
  },
  {
   "cell_type": "code",
   "execution_count": 2,
   "metadata": {},
   "outputs": [],
   "source": [
    "# Copyright 2013, Michael H. Goldwasser\n",
    "#\n",
    "# Developed for use with the book:\n",
    "#\n",
    "#    Data Structures and Algorithms in Python\n",
    "#    Michael T. Goodrich, Roberto Tamassia, and Michael H. Goldwasser\n",
    "#    John Wiley & Sons, 2013\n",
    "#\n",
    "# This program is free software: you can redistribute it and/or modify\n",
    "# it under the terms of the GNU General Public License as published by\n",
    "# the Free Software Foundation, either version 3 of the License, or\n",
    "# (at your option) any later version.\n",
    "#\n",
    "# This program is distributed in the hope that it will be useful,\n",
    "# but WITHOUT ANY WARRANTY; without even the implied warranty of\n",
    "# MERCHANTABILITY or FITNESS FOR A PARTICULAR PURPOSE.  See the\n",
    "# GNU General Public License for more details.\n",
    "#\n",
    "# You should have received a copy of the GNU General Public License\n",
    "# along with this program.  If not, see <http://www.gnu.org/licenses/>.\n",
    "\n",
    "def is_matched(expr):\n",
    "  \"\"\"Return True if all delimiters are properly match; False otherwise.\"\"\"\n",
    "  lefty = '({['                               # opening delimiters\n",
    "  righty = ')}]'                              # respective closing delims\n",
    "  S = ArrayStack()\n",
    "  for c in expr:\n",
    "    if c in lefty:\n",
    "      S.push(c)                               # push left delimiter on stack\n",
    "    elif c in righty:\n",
    "      if S.is_empty():\n",
    "        return False                          # nothing to match with\n",
    "      if righty.index(c) != lefty.index(S.pop()):\n",
    "        return False                          # mismatched\n",
    "  return S.is_empty()                         # were all symbols matched?\n"
   ]
  },
  {
   "cell_type": "code",
   "execution_count": 3,
   "metadata": {},
   "outputs": [
    {
     "data": {
      "text/plain": [
       "True"
      ]
     },
     "execution_count": 3,
     "metadata": {},
     "output_type": "execute_result"
    }
   ],
   "source": [
    "is_matched('((()))')"
   ]
  },
  {
   "cell_type": "code",
   "execution_count": 4,
   "metadata": {},
   "outputs": [
    {
     "data": {
      "text/plain": [
       "False"
      ]
     },
     "execution_count": 4,
     "metadata": {},
     "output_type": "execute_result"
    }
   ],
   "source": [
    "is_matched('((())')"
   ]
  },
  {
   "cell_type": "code",
   "execution_count": 5,
   "metadata": {},
   "outputs": [
    {
     "data": {
      "text/plain": [
       "False"
      ]
     },
     "execution_count": 5,
     "metadata": {},
     "output_type": "execute_result"
    }
   ],
   "source": [
    "is_matched('((()(()){([()])}')"
   ]
  },
  {
   "cell_type": "code",
   "execution_count": 6,
   "metadata": {},
   "outputs": [],
   "source": [
    "# Copyright 2013, Michael H. Goldwasser\n",
    "#\n",
    "# Developed for use with the book:\n",
    "#\n",
    "#    Data Structures and Algorithms in Python\n",
    "#    Michael T. Goodrich, Roberto Tamassia, and Michael H. Goldwasser\n",
    "#    John Wiley & Sons, 2013\n",
    "#\n",
    "# This program is free software: you can redistribute it and/or modify\n",
    "# it under the terms of the GNU General Public License as published by\n",
    "# the Free Software Foundation, either version 3 of the License, or\n",
    "# (at your option) any later version.\n",
    "#\n",
    "# This program is distributed in the hope that it will be useful,\n",
    "# but WITHOUT ANY WARRANTY; without even the implied warranty of\n",
    "# MERCHANTABILITY or FITNESS FOR A PARTICULAR PURPOSE.  See the\n",
    "# GNU General Public License for more details.\n",
    "#\n",
    "# You should have received a copy of the GNU General Public License\n",
    "# along with this program.  If not, see <http://www.gnu.org/licenses/>.\n",
    "\n",
    "def is_matched_html(raw):\n",
    "  \"\"\"Return True if all HTML tags are properly match; False otherwise.\"\"\"\n",
    "  S = ArrayStack()\n",
    "  j = raw.find('<')               # find first '<' character (if any)\n",
    "  while j != -1: #find all the element in string\n",
    "    k = raw.find('>', j+1)        # find next '>' character\n",
    "    if k == -1:\n",
    "      return False                # invalid tag\n",
    "    tag = raw[j+1:k]              # strip away < >\n",
    "    if not tag.startswith('/'):   # this is opening tag\n",
    "      S.push(tag)                 \n",
    "    else:                         # this is closing tag\n",
    "      if S.is_empty():\n",
    "        return False              # nothing to match with\n",
    "      if tag[1:] != S.pop():   \n",
    "        return False              # mismatched delimiter\n",
    "    j = raw.find('<', k+1)        # find next '<' character (if any)\n",
    "  return S.is_empty()             # were all opening tags matched?\n"
   ]
  },
  {
   "cell_type": "code",
   "execution_count": 7,
   "metadata": {},
   "outputs": [
    {
     "data": {
      "text/plain": [
       "True"
      ]
     },
     "execution_count": 7,
     "metadata": {},
     "output_type": "execute_result"
    }
   ],
   "source": [
    "is_matched_html('<html></html>')"
   ]
  },
  {
   "cell_type": "code",
   "execution_count": 8,
   "metadata": {},
   "outputs": [
    {
     "data": {
      "text/plain": [
       "False"
      ]
     },
     "execution_count": 8,
     "metadata": {},
     "output_type": "execute_result"
    }
   ],
   "source": [
    "is_matched_html('<html></body>')"
   ]
  },
  {
   "cell_type": "code",
   "execution_count": 9,
   "metadata": {},
   "outputs": [
    {
     "data": {
      "text/plain": [
       "True"
      ]
     },
     "execution_count": 9,
     "metadata": {},
     "output_type": "execute_result"
    }
   ],
   "source": [
    "is_matched_html('<body></body>')"
   ]
  },
  {
   "cell_type": "code",
   "execution_count": 13,
   "metadata": {},
   "outputs": [
    {
     "data": {
      "text/plain": [
       "True"
      ]
     },
     "execution_count": 13,
     "metadata": {},
     "output_type": "execute_result"
    }
   ],
   "source": [
    "is_matched_html('<html><body></body></html>')"
   ]
  },
  {
   "cell_type": "code",
   "execution_count": 10,
   "metadata": {},
   "outputs": [
    {
     "data": {
      "text/plain": [
       "True"
      ]
     },
     "execution_count": 10,
     "metadata": {},
     "output_type": "execute_result"
    }
   ],
   "source": [
    "is_matched_html('<html></html>><body></body>')"
   ]
  },
  {
   "cell_type": "code",
   "execution_count": 14,
   "metadata": {},
   "outputs": [],
   "source": [
    "def span1(X):\n",
    "    S = list()\n",
    "    for i in range(len(X)):\n",
    "        s = 1 #check every s\n",
    "        while s <= i and X[i-s] <= X[i]:\n",
    "            s = s + 1\n",
    "        S.append(s)\n",
    "    return S\n"
   ]
  },
  {
   "cell_type": "code",
   "execution_count": 17,
   "metadata": {},
   "outputs": [
    {
     "data": {
      "text/plain": [
       "[1, 1, 2, 3, 1]"
      ]
     },
     "execution_count": 17,
     "metadata": {},
     "output_type": "execute_result"
    }
   ],
   "source": [
    "span1([6,2,4,5,2])"
   ]
  },
  {
   "cell_type": "code",
   "execution_count": 19,
   "metadata": {},
   "outputs": [],
   "source": [
    "def span2(X):\n",
    "    S = list()\n",
    "    A = ArrayStack()\n",
    "    for i in range(len(X)):\n",
    "        while(not A.is_empty() and X[A.top()]<X[i]):\n",
    "            A.pop()\n",
    "        if A.is_empty():\n",
    "            S.append(i+1)\n",
    "        else:\n",
    "            S.append(i-A.top())\n",
    "        A.push(i)\n",
    "    return S\n",
    "        "
   ]
  },
  {
   "cell_type": "code",
   "execution_count": 20,
   "metadata": {},
   "outputs": [
    {
     "data": {
      "text/plain": [
       "[1, 1, 2, 3, 1]"
      ]
     },
     "execution_count": 20,
     "metadata": {},
     "output_type": "execute_result"
    }
   ],
   "source": [
    "span2([6,2,4,5,2])"
   ]
  }
 ],
 "metadata": {
  "kernelspec": {
   "display_name": "Python 3",
   "language": "python",
   "name": "python3"
  },
  "language_info": {
   "codemirror_mode": {
    "name": "ipython",
    "version": 3
   },
   "file_extension": ".py",
   "mimetype": "text/x-python",
   "name": "python",
   "nbconvert_exporter": "python",
   "pygments_lexer": "ipython3",
   "version": "3.7.6"
  }
 },
 "nbformat": 4,
 "nbformat_minor": 4
}
