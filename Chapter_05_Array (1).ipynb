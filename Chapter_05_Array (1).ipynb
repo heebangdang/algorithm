{
 "cells": [
  {
   "cell_type": "code",
   "execution_count": 1,
   "metadata": {},
   "outputs": [],
   "source": [
    "data = [1, 3.14, \"circle\"]"
   ]
  },
  {
   "cell_type": "code",
   "execution_count": 2,
   "metadata": {},
   "outputs": [
    {
     "data": {
      "text/plain": [
       "[1, 3.14, 'circle']"
      ]
     },
     "execution_count": 2,
     "metadata": {},
     "output_type": "execute_result"
    }
   ],
   "source": [
    "data"
   ]
  },
  {
   "cell_type": "code",
   "execution_count": 3,
   "metadata": {},
   "outputs": [],
   "source": [
    "data1 = (1, 2.5, \"square\")"
   ]
  },
  {
   "cell_type": "code",
   "execution_count": 4,
   "metadata": {},
   "outputs": [
    {
     "data": {
      "text/plain": [
       "(1, 2.5, 'square')"
      ]
     },
     "execution_count": 4,
     "metadata": {},
     "output_type": "execute_result"
    }
   ],
   "source": [
    "data1"
   ]
  },
  {
   "cell_type": "code",
   "execution_count": 5,
   "metadata": {},
   "outputs": [
    {
     "data": {
      "text/plain": [
       "['t', 'r', 'i', 'a', 'n', 'g', 'l', 'e']"
      ]
     },
     "execution_count": 5,
     "metadata": {},
     "output_type": "execute_result"
    }
   ],
   "source": [
    "list(\"triangle\") #list of string"
   ]
  },
  {
   "cell_type": "code",
   "execution_count": 6,
   "metadata": {},
   "outputs": [
    {
     "data": {
      "text/plain": [
       "['2', '3', '4', '1']"
      ]
     },
     "execution_count": 6,
     "metadata": {},
     "output_type": "execute_result"
    }
   ],
   "source": [
    "list(\"2341\")"
   ]
  },
  {
   "cell_type": "code",
   "execution_count": 7,
   "metadata": {},
   "outputs": [],
   "source": [
    "data2 = [\"red\", \"blue\", \"green\"] #list of string elements"
   ]
  },
  {
   "cell_type": "code",
   "execution_count": 8,
   "metadata": {},
   "outputs": [],
   "source": [
    "from array import array\n",
    "primes = array('i', [2,3,5,7,11,13,17,19])"
   ]
  },
  {
   "cell_type": "code",
   "execution_count": 9,
   "metadata": {},
   "outputs": [
    {
     "data": {
      "text/plain": [
       "array('i', [2, 3, 5, 7, 11, 13, 17, 19])"
      ]
     },
     "execution_count": 9,
     "metadata": {},
     "output_type": "execute_result"
    }
   ],
   "source": [
    "primes"
   ]
  },
  {
   "cell_type": "markdown",
   "metadata": {},
   "source": [
    "For example, if we want to add an element to data2"
   ]
  },
  {
   "cell_type": "code",
   "execution_count": 10,
   "metadata": {},
   "outputs": [],
   "source": [
    "data2.append(\"yellow\")"
   ]
  },
  {
   "cell_type": "code",
   "execution_count": 11,
   "metadata": {},
   "outputs": [
    {
     "data": {
      "text/plain": [
       "['red', 'blue', 'green', 'yellow']"
      ]
     },
     "execution_count": 11,
     "metadata": {},
     "output_type": "execute_result"
    }
   ],
   "source": [
    "data2 #new data will be added at the end of the list"
   ]
  },
  {
   "cell_type": "code",
   "execution_count": 12,
   "metadata": {},
   "outputs": [],
   "source": [
    "data2.remove(\"blue\")"
   ]
  },
  {
   "cell_type": "code",
   "execution_count": 13,
   "metadata": {},
   "outputs": [
    {
     "data": {
      "text/plain": [
       "['red', 'green', 'yellow']"
      ]
     },
     "execution_count": 13,
     "metadata": {},
     "output_type": "execute_result"
    }
   ],
   "source": [
    "data2"
   ]
  },
  {
   "cell_type": "code",
   "execution_count": 14,
   "metadata": {},
   "outputs": [],
   "source": [
    "data2.insert(1, \"white\")"
   ]
  },
  {
   "cell_type": "code",
   "execution_count": 15,
   "metadata": {},
   "outputs": [
    {
     "data": {
      "text/plain": [
       "['red', 'white', 'green', 'yellow']"
      ]
     },
     "execution_count": 15,
     "metadata": {},
     "output_type": "execute_result"
    }
   ],
   "source": [
    "data2"
   ]
  },
  {
   "cell_type": "markdown",
   "metadata": {},
   "source": [
    "## Dynamic Array method"
   ]
  },
  {
   "cell_type": "code",
   "execution_count": 16,
   "metadata": {},
   "outputs": [],
   "source": [
    "# Copyright 2013, Michael H. Goldwasser\n",
    "#\n",
    "# Developed for use with the book:\n",
    "#\n",
    "#    Data Structures and Algorithms in Python\n",
    "#    Michael T. Goodrich, Roberto Tamassia, and Michael H. Goldwasser\n",
    "#    John Wiley & Sons, 2013\n",
    "#\n",
    "# This program is free software: you can redistribute it and/or modify\n",
    "# it under the terms of the GNU General Public License as published by\n",
    "# the Free Software Foundation, either version 3 of the License, or\n",
    "# (at your option) any later version.\n",
    "#\n",
    "# This program is distributed in the hope that it will be useful,\n",
    "# but WITHOUT ANY WARRANTY; without even the implied warranty of\n",
    "# MERCHANTABILITY or FITNESS FOR A PARTICULAR PURPOSE.  See the\n",
    "# GNU General Public License for more details.\n",
    "#\n",
    "# You should have received a copy of the GNU General Public License\n",
    "# along with this program.  If not, see <http://www.gnu.org/licenses/>.\n",
    "\n",
    "import ctypes                                      # provides low-level arrays\n",
    "\n",
    "class DynamicArray:\n",
    "  \"\"\"A dynamic array class akin to a simplified Python list.\"\"\"\n",
    "\n",
    "  def __init__(self):\n",
    "    \"\"\"Create an empty array.\"\"\"\n",
    "    self._n = 0                                    # count actual elements\n",
    "    self._capacity = 1                             # default array capacity\n",
    "    self._A = self._make_array(self._capacity)     # low-level array\n",
    "    \n",
    "  def __len__(self):\n",
    "    \"\"\"Return number of elements stored in the array.\"\"\"\n",
    "    return self._n\n",
    "    \n",
    "  def __getitem__(self, k):\n",
    "    \"\"\"Return element at index k.\"\"\"\n",
    "    if not 0 <= k < self._n:\n",
    "      raise IndexError('invalid index')\n",
    "    return self._A[k]                              # retrieve from array\n",
    "  \n",
    "  def append(self, obj):\n",
    "    \"\"\"Add object to end of the array.\"\"\"\n",
    "    if self._n == self._capacity:                  # not enough room\n",
    "      self._resize(2 * self._capacity)             # so double capacity\n",
    "    self._A[self._n] = obj\n",
    "    self._n += 1\n",
    "\n",
    "  def _resize(self, c):                            # nonpublic utitity\n",
    "    \"\"\"Resize internal array to capacity c.\"\"\"\n",
    "    B = self._make_array(c)                        # new (bigger) array\n",
    "    for k in range(self._n):                       # for each existing value\n",
    "      B[k] = self._A[k]\n",
    "    self._A = B                                    # use the bigger array\n",
    "    self._capacity = c\n",
    "\n",
    "  def _make_array(self, c):                        # nonpublic utitity\n",
    "     \"\"\"Return new array with capacity c.\"\"\"   \n",
    "     return (c * ctypes.py_object)()               # see ctypes documentation\n",
    "\n",
    "  def insert(self, k, value):\n",
    "    \"\"\"Insert value at index k, shifting subsequent values rightward.\"\"\"\n",
    "    # (for simplicity, we assume 0 <= k <= n in this verion)\n",
    "    if self._n == self._capacity:                  # not enough room\n",
    "      self._resize(2 * self._capacity)             # so double capacity\n",
    "    for j in range(self._n, k, -1):                # shift rightmost first\n",
    "      self._A[j] = self._A[j-1]\n",
    "    self._A[k] = value                             # store newest element\n",
    "    self._n += 1\n",
    "\n",
    "  def remove(self, value):\n",
    "    \"\"\"Remove first occurrence of value (or raise ValueError).\"\"\"\n",
    "    # note: we do not consider shrinking the dynamic array in this version\n",
    "    for k in range(self._n):\n",
    "      if self._A[k] == value:              # found a match!\n",
    "        for j in range(k, self._n - 1):    # shift others to fill gap\n",
    "          self._A[j] = self._A[j+1]\n",
    "        self._A[self._n - 1] = None        # help garbage collection\n",
    "        self._n -= 1                       # we have one less item\n",
    "        return                             # exit immediately\n",
    "    raise ValueError('value not found')    # only reached if no match\n"
   ]
  },
  {
   "cell_type": "code",
   "execution_count": 17,
   "metadata": {},
   "outputs": [
    {
     "name": "stdout",
     "output_type": "stream",
     "text": [
      "\n"
     ]
    }
   ],
   "source": [
    "def algo(items):\n",
    "    result = items[0] * items[0]\n",
    "    print ()\n",
    "\n",
    "algo([4, 5, 6, 8])"
   ]
  },
  {
   "cell_type": "code",
   "execution_count": null,
   "metadata": {},
   "outputs": [],
   "source": []
  }
 ],
 "metadata": {
  "kernelspec": {
   "display_name": "Python 3",
   "language": "python",
   "name": "python3"
  },
  "language_info": {
   "codemirror_mode": {
    "name": "ipython",
    "version": 3
   },
   "file_extension": ".py",
   "mimetype": "text/x-python",
   "name": "python",
   "nbconvert_exporter": "python",
   "pygments_lexer": "ipython3",
   "version": "3.7.6"
  }
 },
 "nbformat": 4,
 "nbformat_minor": 4
}
