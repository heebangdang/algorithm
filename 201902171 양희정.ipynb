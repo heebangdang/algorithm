{
 "cells": [
  {
   "cell_type": "code",
   "execution_count": null,
   "metadata": {},
   "outputs": [],
   "source": [
    "class Matrixdata :\n",
    "    Node = ['A','B','C','D']\n",
    "    Matrixdata =[[0, 4, 5, 9],\n",
    "                 [0, 0, 0, 3],\n",
    "                 [0, 0, 0, 4],\n",
    "                 [10, 0, 5, 0]]\n",
    "    \n",
    "def NodeAdjacency(Node,Matrixdata) :\n",
    "    A = {}\n",
    "    for i in range(len(Node)):\n",
    "        A_row = []\n",
    "def EdgeList(Node,Matrixdata):"
   ]
  },
  {
   "cell_type": "code",
   "execution_count": null,
   "metadata": {},
   "outputs": [],
   "source": [
    "In [3]:\n",
    "mygraph = {\n",
    "import HP\n",
    "\n",
    "def dijkstra(graph, start):\n",
    "    \n",
    "    distances = {node: float('inf') for node in graph}\n",
    "    distances[start] = 0\n",
    "    queue = []\n",
    "    HP.heappush(queue, [distances[start], start])\n",
    "    \n",
    "    while queue:\n",
    "        current_distance, current_node = HP.heappop(queue)\n",
    "        \n",
    "        if distances[current_node] < current_distance:\n",
    "            continue\n",
    "            \n",
    "        for adjacent, weight in graph[current_node].items():\n",
    "            distance = current_distance + weight\n",
    "            \n",
    "            if distance < distances[adjacent]:\n",
    "                distances[adjacent] = distance\n",
    "                HP.heappush(queue, [distance, adjacent])\n",
    "                \n",
    "    return distances\n",
    "}"
   ]
  },
  {
   "cell_type": "code",
   "execution_count": null,
   "metadata": {},
   "outputs": [],
   "source": [
    "N = int(input(\"Number :\"))\n",
    "\n",
    "L1=[]\n",
    "L2=[]\n",
    "\n",
    "for i in range(N) :\n",
    "    a = int(input())\n",
    "    L1.append(a)\n",
    "    \n",
    "for j in range(len(L1)) :\n",
    "    L2.append(L1[j]**2)\n",
    "    \n",
    "def msort(l):\n",
    "    if len(l) < 2:\n",
    "        return l\n",
    "\n",
    "    mid = len(l) // 2\n",
    "    lowl = msort(l[:mid])\n",
    "    highl = msort(l[mid:])\n",
    "\n",
    "    mergedl = []\n",
    "    l = h = 0\n",
    "    while a < len(lowl) and h < len(highl):\n",
    "        if lowl[l] < highl[h]:\n",
    "            mergedl.append(lowl[l])\n",
    "            l += 1\n",
    "        else:\n",
    "            mergedl.append(highl[h])\n",
    "            h += 1\n",
    "    mergedl+= lowl[l:]\n",
    "    mergedl += highl[h:]\n",
    "    return mergedl\n",
    "\n",
    "msort(L2)"
   ]
  },
  {
   "cell_type": "markdown",
   "metadata": {},
   "source": [
    "I couldn't have a face-to-face class due to the corona, but I think I understood it through sufficient explanation in the online class. If you don't know anything, you can ask the professor via e-mail, which is different from the face-to-face class that I asked in line. But it was hard not to ask questions right away. But I think it was good to learn it repeatedly through online lectures. Thank you for a semester."
   ]
  },
  {
   "cell_type": "markdown",
   "metadata": {},
   "source": [
    "If online classes continue in the future, I hope we can answer questions faster. I was able to study deeper by taking classes that I couldn't take repeatedly during face-to-face classes. I hope there is a better way to answer questions."
   ]
  },
  {
   "cell_type": "code",
   "execution_count": null,
   "metadata": {},
   "outputs": [],
   "source": []
  }
 ],
 "metadata": {
  "kernelspec": {
   "display_name": "Python 3",
   "language": "python",
   "name": "python3"
  },
  "language_info": {
   "codemirror_mode": {
    "name": "ipython",
    "version": 3
   },
   "file_extension": ".py",
   "mimetype": "text/x-python",
   "name": "python",
   "nbconvert_exporter": "python",
   "pygments_lexer": "ipython3",
   "version": "3.7.6"
  }
 },
 "nbformat": 4,
 "nbformat_minor": 4
}
